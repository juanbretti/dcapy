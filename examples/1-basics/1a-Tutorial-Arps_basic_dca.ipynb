{
 "cells": [
  {
   "source": [
    "# Dcapy -  First Steps\n",
    "\n",
    "In this firts section is introduced the basic classes and functions to make Forecast by applying the Arps equations"
   ],
   "cell_type": "markdown",
   "metadata": {}
  },
  {
   "cell_type": "code",
   "execution_count": 18,
   "metadata": {},
   "outputs": [
    {
     "output_type": "execute_result",
     "data": {
      "text/plain": [
       "{'divide': 'ignore', 'over': 'warn', 'under': 'ignore', 'invalid': 'warn'}"
      ]
     },
     "metadata": {},
     "execution_count": 18
    }
   ],
   "source": [
    "import os\n",
    "from dcapy import dca\n",
    "import numpy as np \n",
    "np.seterr(divide='ignore')\n"
   ]
  },
  {
   "cell_type": "markdown",
   "metadata": {},
   "source": [
    "## Basics Equations\n",
    "\n",
    "First Section will explore the Arps Declination Analysis equations. \n",
    "Starting from Equations used to calculate rate then cumulatives.\n",
    "\n",
    "The library numpy is used to performed the majority of operations\n",
    "\n",
    "### Aprs Equations\n",
    "\n",
    "Arps proposed that the shape of the production rate vs time can be described mathematically by three types of behavior:\n",
    "\n",
    "+ **Exponential Decline**: Where `b=0`\n",
    "+ **Harmonic Decline**: Where `b=1`\n",
    "+ **Hyperbolic Decline**: Where `0 < b < 1` \n",
    "\n",
    "$$\n",
    " q_{t}=\\frac{q_{i}}{(1+bD_{i}t)^{\\frac{1}{b}}}\n",
    "$$\n",
    "\n",
    "\n",
    "According to the equations the are four properties you have to provide to make a forecast using Arps equations. \n",
    "\n",
    "\n",
    "+ *Decline rate* `di`\n",
    "+ *b coefficient* `b`\n",
    "+ *Initial Time* `Ti`\n",
    "+ *Initial rate* `qi`\n",
    "+ *Times to make Forecast* `t`\n",
    "\n"
   ]
  },
  {
   "cell_type": "markdown",
   "metadata": {},
   "source": [
    "### Exponential b = 0, Examples\n",
    "\n",
    "The time array used with this function is relative to a Initial Time which is always 0\n",
    "\n",
    "Inside the `dcapy.dca` module there are the functions required to estimate the declination given those parameters. "
   ]
  },
  {
   "cell_type": "code",
   "execution_count": 19,
   "metadata": {},
   "outputs": [
    {
     "output_type": "execute_result",
     "data": {
      "text/plain": [
       "array([500.        , 485.22276677, 470.88226679, 456.96559264,\n",
       "       443.46021836, 430.35398821, 417.63510571, 405.29212299,\n",
       "       393.31393053, 381.68974717])"
      ]
     },
     "metadata": {},
     "execution_count": 19
    }
   ],
   "source": [
    "time1 = np.arange(10)\n",
    "qi1 = 500\n",
    "di1 = 0.03\n",
    "dca.arps_exp_rate(time1,qi1,di1)"
   ]
  },
  {
   "cell_type": "markdown",
   "metadata": {},
   "source": [
    "Cumulative volume can be calculated  for any timestep"
   ]
  },
  {
   "cell_type": "code",
   "execution_count": 20,
   "metadata": {},
   "outputs": [
    {
     "output_type": "execute_result",
     "data": {
      "text/plain": [
       "array([   0.        ,  492.57444086,  970.59110693, 1434.48024548,\n",
       "       1884.65938805, 2321.53372625, 2745.49647648, 3156.92923383,\n",
       "       3556.20231556, 3943.67509439])"
      ]
     },
     "metadata": {},
     "execution_count": 20
    }
   ],
   "source": [
    "dca.arps_exp_cumulative(time1,qi1,di1)\n"
   ]
  },
  {
   "source": [
    "You may notice that two important things when reviewing the results. \n",
    "\n",
    "1. You have to be aware of the units. As this equations are generic the units must be consistent according you are expecting the results will look like. In other words, here the time units may be days, months, years or whatever you like, hence the declination rate you set is interpreted with respect that unit period of time.\n",
    "2. As the Arps equations are continious, there is no time discretization (so far) when estimating the cumulative production. As you can see at time 0 the cumulative is also 0. This approach helps to estimate at any time the rate or cumulative very fast as they not depend on previous data. (They are continious)"
   ],
   "cell_type": "markdown",
   "metadata": {}
  },
  {
   "cell_type": "markdown",
   "metadata": {},
   "source": [
    "### Hyperbolic 0<b<1, Examples\n",
    "\n",
    "Like Exponential case, the Hyperbolic equations works in the same way with the difference you have to set the `b` coefficient"
   ]
  },
  {
   "cell_type": "code",
   "execution_count": 21,
   "metadata": {},
   "outputs": [
    {
     "output_type": "execute_result",
     "data": {
      "text/plain": [
       "array([500.        , 485.33087432, 471.29795457, 457.86497562,\n",
       "       444.99822001, 432.66630611, 420.83999663, 409.49202514,\n",
       "       398.59693878, 388.13095538])"
      ]
     },
     "metadata": {},
     "execution_count": 21
    }
   ],
   "source": [
    "b = 0.5\n",
    "dca.arps_hyp_rate(time1,qi1,di1,b)"
   ]
  },
  {
   "cell_type": "code",
   "execution_count": 22,
   "metadata": {},
   "outputs": [
    {
     "output_type": "execute_result",
     "data": {
      "text/plain": [
       "array([  -0.        ,  492.61083744,  970.87378641, 1435.40669856,\n",
       "       1886.79245283, 2325.58139535, 2752.29357798, 3167.42081448,\n",
       "       3571.42857143, 3964.75770925])"
      ]
     },
     "metadata": {},
     "execution_count": 22
    }
   ],
   "source": [
    "dca.arps_hyp_cumulative(time1,qi1,di1,b,ti=0)"
   ]
  },
  {
   "cell_type": "markdown",
   "metadata": {},
   "source": [
    "### Armonic, Examples\n",
    "\n"
   ]
  },
  {
   "cell_type": "code",
   "execution_count": 23,
   "metadata": {},
   "outputs": [
    {
     "output_type": "execute_result",
     "data": {
      "text/plain": [
       "array([500.        , 485.4368932 , 471.69811321, 458.71559633,\n",
       "       446.42857143, 434.7826087 , 423.72881356, 413.2231405 ,\n",
       "       403.22580645, 393.7007874 ])"
      ]
     },
     "metadata": {},
     "execution_count": 23
    }
   ],
   "source": [
    "b = 1\n",
    "dca.arps_hyp_rate(time1,qi1,di1,b)"
   ]
  },
  {
   "cell_type": "code",
   "execution_count": 24,
   "metadata": {},
   "outputs": [
    {
     "output_type": "execute_result",
     "data": {
      "text/plain": [
       "array([   0.        ,  492.64670403,  971.14846873, 1436.29493735,\n",
       "       1888.81142178, 2329.36570625, 2758.57397463, 3177.00599348,\n",
       "       3585.18966028, 3983.61500784])"
      ]
     },
     "metadata": {},
     "execution_count": 24
    }
   ],
   "source": [
    "dca.arps_arm_cumulative(time1,qi1,di1,b,ti=0)"
   ]
  },
  {
   "cell_type": "markdown",
   "metadata": {},
   "source": [
    "## High-level Functions\n",
    "\n",
    "\n",
    "\n",
    "Although the above functions are available in the module, they are not expected to be used by the user. These are low-level functions that are wrapped into other high-level functions that provide more functionalities.\n",
    "\n",
    "`arps_forecast` and `arps_cumulative` are the wrapper functions that independently of the b, It internally uses the appropiate equation. Next are the replicates of the initial example using the high-level functions. "
   ]
  },
  {
   "source": [],
   "cell_type": "markdown",
   "metadata": {}
  },
  {
   "source": [
    "### Exponential"
   ],
   "cell_type": "markdown",
   "metadata": {}
  },
  {
   "cell_type": "code",
   "execution_count": 25,
   "metadata": {},
   "outputs": [
    {
     "output_type": "stream",
     "name": "stdout",
     "text": [
      "Examples Arps Forecast function - Exponential\n[500.         485.22276677 470.88226679 456.96559264 443.46021836]\n"
     ]
    }
   ],
   "source": [
    "print('Examples Arps Forecast function - Exponential')\n",
    "\n",
    "time1 = [0,1,2,3,4]\n",
    "qi1 = 500,\n",
    "di1 = 0.03\n",
    "b1 = 0 \n",
    "f1 = dca.arps_forecast(time1,qi1,di1,b1)\n",
    "print(f1)\n"
   ]
  },
  {
   "source": [
    "### Armonic"
   ],
   "cell_type": "markdown",
   "metadata": {}
  },
  {
   "cell_type": "code",
   "execution_count": 26,
   "metadata": {},
   "outputs": [
    {
     "output_type": "stream",
     "name": "stdout",
     "text": [
      "Examples Arps Forecast function - Armonic\n[500.         485.4368932  471.69811321 458.71559633 446.42857143]\n"
     ]
    }
   ],
   "source": [
    "print('Examples Arps Forecast function - Armonic')\n",
    "\n",
    "time1 = [0,1,2,3,4]\n",
    "qi1 = 500,\n",
    "di1 = 0.03\n",
    "b1 = 1\n",
    "f1 = dca.arps_forecast(time1,qi1,di1,b1)\n",
    "print(f1)"
   ]
  },
  {
   "source": [
    "### Exponential, Armonic & Hyperbolic \n",
    "\n",
    "One of the advantages of this function is the ability to accept multiple values of any of the parameters to create multiple scenarios of the forecast. Next we want to estimate the forecast with three different `b` parameter"
   ],
   "cell_type": "markdown",
   "metadata": {}
  },
  {
   "cell_type": "code",
   "execution_count": 27,
   "metadata": {},
   "outputs": [
    {
     "output_type": "stream",
     "name": "stdout",
     "text": [
      "Examples Arps Forecast function - Exponential, Armonic & Hyperbolic\n[[500.         500.         500.        ]\n [485.22276677 485.33087432 485.4368932 ]\n [470.88226679 471.29795457 471.69811321]\n [456.96559264 457.86497562 458.71559633]\n [443.46021836 444.99822001 446.42857143]]\n"
     ]
    }
   ],
   "source": [
    "print('Examples Arps Forecast function - Exponential, Armonic & Hyperbolic')\n",
    "\n",
    "time1 = [0,1,2,3,4]\n",
    "qi1 = 500,\n",
    "di1 = 0.03\n",
    "b1 = [0,0.5,1]\n",
    "f1 = dca.arps_forecast(time1,qi1,di1,b1)\n",
    "print(f1)"
   ]
  },
  {
   "source": [
    "The result is a 2D numpy array containing three different forecast scenarios (Due to the three `b` values passed). "
   ],
   "cell_type": "markdown",
   "metadata": {}
  },
  {
   "source": [
    "The feature to make multiple forecast also applies to the other perameters. \n",
    "\n",
    "Note: If there are more than one parameters with multiple values, the number of scenarios must be consistent with a numpy broadcast shape. That means if you provide three values for `b` you need to provide either one or three values for the others to excecute the function."
   ],
   "cell_type": "markdown",
   "metadata": {}
  },
  {
   "cell_type": "code",
   "execution_count": 28,
   "metadata": {},
   "outputs": [
    {
     "output_type": "stream",
     "name": "stdout",
     "text": [
      "Examples Arps Forecast function - More than one Parameters with multiple values\n[[1500.         1000.          500.          250.        ]\n [1455.66830032  970.55417193  485.38414057  242.7184466 ]\n [1412.64680038  942.18423029  471.49991315  235.8490566 ]\n [1370.89677791  914.84334525  458.29609778  229.35779817]\n [1330.38065508  888.48704792  445.72604011  223.21428571]\n [1291.06196464  863.07309523  433.74716057  217.39130435]\n [1252.90531712  838.56134359  422.32052508  211.86440678]\n [1215.87636896  814.91363042  411.4104683   206.61157025]\n [1179.9417916   792.09366324  400.98426232  201.61290323]\n [1145.06924151  770.06691564  391.01182445  196.8503937 ]]\n"
     ]
    }
   ],
   "source": [
    "print('Examples Arps Forecast function - More than one Parameters with multiple values')\n",
    "\n",
    "time1 = np.arange(10)\n",
    "qi1 = [1500,1000,500, 250],\n",
    "di1 = 0.03\n",
    "b1 = [0,0.25,0.75,1]\n",
    "f1 = dca.arps_forecast(time1,qi1,di1,b1)\n",
    "print(f1)"
   ]
  },
  {
   "source": [
    "Here, there were provided four values for `qi` and `b`. The result is a 2D numpy array with 10 rows (Time) and 4 columns (scenarios). \n",
    "\n",
    "Here function excecute the operation like an 'element-wise' for the multiple values. \n",
    "\n",
    "+ The first column uses the 1500 as `qi` & 0 as `b`\n",
    "+ The second column uses the 1000 as `qi` & 0.25 as `b`\n",
    "+ The thrid column uses the 500 as `qi` & 0.75 as `b`\n",
    "+ The fourth column uses the 250 as `qi` & 1 as `b`.\n",
    "\n",
    "They all share the declination parameter 0.3 as `di`\n"
   ],
   "cell_type": "markdown",
   "metadata": {}
  },
  {
   "source": [
    "### Multiple initial time values\n",
    "\n",
    "There is also the posibility to set multiple initial values, which means the forecast would start at different times in the array. \n",
    "\n",
    "When you set a time array like all the examples above, you really are setting a delta time array with respect to a **Initial Time** which is by default 0. \n",
    "\n",
    "In this case you can define a time delta different from 0 or provide different time arrays. \n",
    "\n",
    "The next example defines two scenarios in the time array which the forecast would start at different times.\n"
   ],
   "cell_type": "markdown",
   "metadata": {}
  },
  {
   "cell_type": "code",
   "execution_count": 29,
   "metadata": {},
   "outputs": [
    {
     "output_type": "stream",
     "name": "stdout",
     "text": [
      "Examples Arps Forecast function - Multiple time arrays\n[[500.                  nan]\n [485.22276677          nan]\n [470.88226679          nan]\n [456.96559264          nan]\n [443.46021836          nan]\n [430.35398821 500.        ]\n [417.63510571 485.22276677]\n [405.29212299 470.88226679]\n [393.31393053 456.96559264]\n [381.68974717 443.46021836]\n [370.40911034 430.35398821]]\n"
     ]
    }
   ],
   "source": [
    "print('Examples Arps Forecast function - Multiple time arrays')\n",
    "\n",
    "time1 = [[0,1,2,3,4,5,6,7,8,9,10],[None,None,None,None,None,0,1,2,3,4,5]]\n",
    "qi1 = 500,\n",
    "di1 = 0.03\n",
    "b1 = 0 \n",
    "f1 = dca.arps_forecast(time1,qi1,di1,b1)\n",
    "print(f1)"
   ]
  },
  {
   "source": [
    "The last result can be also achieve by setting two values for `ti` property."
   ],
   "cell_type": "markdown",
   "metadata": {}
  },
  {
   "cell_type": "code",
   "execution_count": 30,
   "metadata": {},
   "outputs": [
    {
     "output_type": "stream",
     "name": "stdout",
     "text": [
      "Examples Arps Forecast function -  Multiple Ti values\n[[500.                  nan]\n [485.22276677          nan]\n [470.88226679          nan]\n [456.96559264          nan]\n [443.46021836          nan]\n [430.35398821 500.        ]\n [417.63510571 485.22276677]\n [405.29212299 470.88226679]\n [393.31393053 456.96559264]\n [381.68974717 443.46021836]\n [370.40911034 430.35398821]]\n"
     ]
    }
   ],
   "source": [
    "print('Examples Arps Forecast function -  Multiple Ti values')\n",
    "\n",
    "time1 = [0,1,2,3,4,5,6,7,8,9,10]\n",
    "qi1 = 500,\n",
    "di1 = 0.03\n",
    "b1 = 0 \n",
    "f1 = dca.arps_forecast(time1,qi1,di1,b1,ti=[0,5])\n",
    "print(f1)"
   ]
  },
  {
   "source": [
    "### Arps Cumulative Function\n",
    "\n",
    "In the same way the `arps_forecast` function works the `arps_cumulative` Function does."
   ],
   "cell_type": "markdown",
   "metadata": {}
  },
  {
   "cell_type": "code",
   "execution_count": 31,
   "metadata": {},
   "outputs": [
    {
     "output_type": "stream",
     "name": "stdout",
     "text": [
      "Examples Arps Cumulative function - Single values\n[   0.          985.14888172 1941.18221386 2868.96049096 3769.31877609\n 4643.0674525  5490.99295296 6313.85846766 7112.40463111 7887.35018877]\n"
     ]
    }
   ],
   "source": [
    "print('Examples Arps Cumulative function - Single values')\n",
    "\n",
    "time1 = np.arange(10)\n",
    "qi1 = 1000,\n",
    "di1 = 0.03\n",
    "b1 = 0\n",
    "f1 = dca.arps_cumulative(time1,qi1,di1,b1)\n",
    "print(f1)"
   ]
  },
  {
   "cell_type": "code",
   "execution_count": 32,
   "metadata": {},
   "outputs": [
    {
     "output_type": "stream",
     "name": "stdout",
     "text": [
      "Examples Arps Cumulative function - More than one Parameters with multiple values\n[[    0.            -0.            -0.             0.        ]\n [ 1477.72332257   985.18541255   492.62883611   246.32335201]\n [ 2911.77332079  1941.46694484   971.0121016    485.57423437]\n [ 4303.44073644  2869.89686578  1435.85541579   718.14746868]\n [ 5653.97816414  3771.48180653  1887.81550453   944.40571089]\n [ 6964.60117875  4647.18505318  2327.50451494  1164.68285313]\n [ 8236.48942944  5497.92870867  2755.49387077  1379.28698731]\n [ 9470.78770149  6324.59573242  3172.31772543  1588.50299674]\n [10668.60694667  7128.03186523  3578.47606162  1792.59483014]\n [11831.02528316  7909.04744689  3974.43747962  1991.80750392]]\n"
     ]
    }
   ],
   "source": [
    "print('Examples Arps Cumulative function - More than one Parameters with multiple values')\n",
    "\n",
    "time1 = np.arange(10)\n",
    "qi1 = [1500,1000,500, 250],\n",
    "di1 = 0.03\n",
    "b1 = [0,0.25,0.75,1]\n",
    "f1 = dca.arps_cumulative(time1,qi1,di1,b1)\n",
    "print(f1)"
   ]
  },
  {
   "cell_type": "code",
   "execution_count": 33,
   "metadata": {},
   "outputs": [
    {
     "output_type": "stream",
     "name": "stdout",
     "text": [
      "Examples Arps Cumulative function -  Multiple Ti values\n[[   0.                   nan]\n [ 492.57444086           nan]\n [ 970.59110693           nan]\n [1434.48024548           nan]\n [1884.65938805           nan]\n [2321.53372625    0.        ]\n [2745.49647648  492.57444086]\n [3156.92923383  970.59110693]\n [3556.20231556 1434.48024548]\n [3943.67509439 1884.65938805]\n [4319.69632197 2321.53372625]]\n"
     ]
    }
   ],
   "source": [
    "print('Examples Arps Cumulative function -  Multiple Ti values')\n",
    "\n",
    "time1 = [0,1,2,3,4,5,6,7,8,9,10]\n",
    "qi1 = 500,\n",
    "di1 = 0.03\n",
    "b1 = 0 \n",
    "f1 = dca.arps_cumulative(time1,qi1,di1,b1,ti=[0,5])\n",
    "print(f1)"
   ]
  },
  {
   "source": [
    "An additional and usefull function to estimate the time at which the forecast reaches certain rate is also included.\n",
    "\n",
    "Let's define an Arps forecast"
   ],
   "cell_type": "markdown",
   "metadata": {}
  },
  {
   "cell_type": "code",
   "execution_count": 34,
   "metadata": {},
   "outputs": [
    {
     "output_type": "stream",
     "name": "stdout",
     "text": [
      "Examples Arps Forecast function -  Multiple Ti values\n",
      "[500.         485.22276677 470.88226679 456.96559264 443.46021836\n",
      " 430.35398821 417.63510571 405.29212299 393.31393053 381.68974717\n",
      " 370.40911034]\n",
      "Estimate the time when the rate is 400\n",
      "[7]\n"
     ]
    }
   ],
   "source": [
    "print('Examples Arps Forecast function -  Multiple Ti values')\n",
    "\n",
    "time1 = [0,1,2,3,4,5,6,7,8,9,10]\n",
    "qi1 = 500,\n",
    "di1 = 0.03\n",
    "b1 = 0 \n",
    "f1 = dca.arps_forecast(time1,qi1,di1,b1)\n",
    "print(f1)\n",
    "\n",
    "print('Estimate the time when the rate is 400')\n",
    "time_limit = dca.arps_rate_time(qi1,di1,b1,400)\n",
    "print(time_limit)"
   ]
  }
 ],
 "metadata": {
  "kernelspec": {
   "name": "python388jvsc74a57bd0ab24a4a540e2ae850f5bb40f3ff926fc8d1a219d7295b7cc8f5b0a1cbda21e76",
   "display_name": "Python 3.8.8 64-bit ('dcapy': conda)"
  },
  "language_info": {
   "codemirror_mode": {
    "name": "ipython",
    "version": 3
   },
   "file_extension": ".py",
   "mimetype": "text/x-python",
   "name": "python",
   "nbconvert_exporter": "python",
   "pygments_lexer": "ipython3",
   "version": "3.8.8"
  }
 },
 "nbformat": 4,
 "nbformat_minor": 2
}