{
 "cells": [
  {
   "cell_type": "code",
   "execution_count": 1,
   "metadata": {},
   "outputs": [
    {
     "name": "stdout",
     "output_type": "stream",
     "text": [
      "/home/scuervo/Documents/dev/dcapy\n",
      "/home/scuervo/anaconda3/envs/res/bin/python\n"
     ]
    }
   ],
   "source": [
    "import os\n",
    "path = os.path.abspath(os.path.join('..'))\n",
    "print(path)\n",
    "import sys\n",
    "\n",
    "sys.path.insert(0,path)\n",
    "print(sys.executable)\n",
    "\n",
    "from dcapy import dca\n",
    "from dcapy.models import CashFlow, ChgPts, CashFlowModel, CashFlowInput, Period, Scenario\n",
    "\n",
    "import numpy as np \n",
    "import pandas as pd\n",
    "from datetime import date\n",
    "import matplotlib.pyplot as plt\n",
    "import seaborn as sns \n",
    "from scipy import stats\n",
    "import seaborn as sns"
   ]
  },
  {
   "cell_type": "code",
   "execution_count": 2,
   "metadata": {},
   "outputs": [],
   "source": [
    "period1 = {\n",
    "    'name':'pdp',\n",
    "    'dca': {\n",
    "        'ti':'2021-01-01',\n",
    "        'di':0.4,\n",
    "        'freq_di':'A',\n",
    "        'qi':800,\n",
    "        'b':0,\n",
    "        'fluid_rate':1000\n",
    "    },\n",
    "    'start':'2021-01-01',\n",
    "    'end':'2021-06-01',\n",
    "    'freq_input':'M',\n",
    "    'freq_output':'M',\n",
    "    'cashflow_params':{\n",
    "        'params_list' : [\n",
    "            {\n",
    "                'name':'oil_var_opex',\n",
    "                'const_value':7,\n",
    "                'multiply':'oil_rate',\n",
    "                'target':'opex'\n",
    "            },\n",
    "            {\n",
    "                'name':'oil_price',\n",
    "                'array_values':{\n",
    "                    'date':['2021-01-01','2021-02-01','2021-03-01','2021-04-01','2021-05-01','2021-06-01'],\n",
    "                    'value':[38,42,45,50,55,39]\n",
    "                },\n",
    "                'multiply':'oil_volume',\n",
    "                'target':'income'\n",
    "            }\n",
    "        ]}\n",
    "}\n",
    "\n",
    "### case\n",
    "period2 = {\n",
    "    'name':'pud',\n",
    "    'dca': {\n",
    "        'ti':'2021-07-01',\n",
    "        'di':0.3,\n",
    "        'freq_di':'A',\n",
    "        'qi':1200,\n",
    "        'b':0,\n",
    "        'fluid_rate':1500\n",
    "    },\n",
    "    'start':'2021-07-01',\n",
    "    'end':'2021-12-01',\n",
    "    'freq_input':'M',\n",
    "    'freq_output':'M',\n",
    "    'cashflow_params':{\n",
    "        'params_list' : [\n",
    "            {\n",
    "                'name':'oil_var_opex',\n",
    "                'const_value':7,\n",
    "                'multiply':'oil_rate',\n",
    "                'target':'opex'\n",
    "            },\n",
    "            {\n",
    "                'name':'oil_price',\n",
    "                'array_values':{\n",
    "                    'date':['2021-01-01','2021-02-01','2021-03-01','2021-04-01','2021-05-01','2021-06-01'],\n",
    "                    'value':[38,42,45,50,55,39]\n",
    "                },\n",
    "                'multiply':'oil_volume',\n",
    "                'target':'income'\n",
    "            }\n",
    "        ]}\n",
    "}"
   ]
  },
  {
   "cell_type": "code",
   "execution_count": 3,
   "metadata": {},
   "outputs": [],
   "source": [
    "p1 = Period(**period1)\n",
    "p2 = Period(**period2)"
   ]
  },
  {
   "cell_type": "code",
   "execution_count": 4,
   "metadata": {},
   "outputs": [],
   "source": [
    "scenario1 = Scenario(name='base', periods = [p1,p2])"
   ]
  },
  {
   "cell_type": "code",
   "execution_count": 5,
   "metadata": {},
   "outputs": [
    {
     "name": "stderr",
     "output_type": "stream",
     "text": [
      "/home/scuervo/Documents/dev/dcapy/dcapy/dca/arps.py:78: RuntimeWarning: divide by zero encountered in true_divide\n",
      "  return qi/np.power(1+b*di*time_array,1/b)\n",
      "/home/scuervo/Documents/dev/dcapy/dcapy/dca/arps.py:101: RuntimeWarning: divide by zero encountered in true_divide\n",
      "  g = np.power(b*di*time_array+1,(b-1)/b)\n",
      "/home/scuervo/Documents/dev/dcapy/dcapy/dca/arps.py:102: RuntimeWarning: divide by zero encountered in true_divide\n",
      "  h = np.power(b*di*ti+1,(b-1)/b)\n",
      "/home/scuervo/Documents/dev/dcapy/dcapy/dca/arps.py:78: RuntimeWarning: divide by zero encountered in true_divide\n",
      "  return qi/np.power(1+b*di*time_array,1/b)\n",
      "/home/scuervo/Documents/dev/dcapy/dcapy/dca/arps.py:101: RuntimeWarning: divide by zero encountered in true_divide\n",
      "  g = np.power(b*di*time_array+1,(b-1)/b)\n",
      "/home/scuervo/Documents/dev/dcapy/dcapy/dca/arps.py:102: RuntimeWarning: divide by zero encountered in true_divide\n",
      "  h = np.power(b*di*ti+1,(b-1)/b)\n"
     ]
    },
    {
     "data": {
      "text/html": [
       "<div>\n",
       "<style scoped>\n",
       "    .dataframe tbody tr th:only-of-type {\n",
       "        vertical-align: middle;\n",
       "    }\n",
       "\n",
       "    .dataframe tbody tr th {\n",
       "        vertical-align: top;\n",
       "    }\n",
       "\n",
       "    .dataframe thead th {\n",
       "        text-align: right;\n",
       "    }\n",
       "</style>\n",
       "<table border=\"1\" class=\"dataframe\">\n",
       "  <thead>\n",
       "    <tr style=\"text-align: right;\">\n",
       "      <th></th>\n",
       "      <th>oil_rate</th>\n",
       "      <th>oil_cum</th>\n",
       "      <th>iteration</th>\n",
       "      <th>oil_volume</th>\n",
       "      <th>fluid_rate</th>\n",
       "      <th>water_rate</th>\n",
       "      <th>bsw</th>\n",
       "      <th>wor</th>\n",
       "      <th>water_cum</th>\n",
       "      <th>fluid_cum</th>\n",
       "      <th>water_volume</th>\n",
       "      <th>fluid_volume</th>\n",
       "      <th>period</th>\n",
       "      <th>scenario</th>\n",
       "    </tr>\n",
       "  </thead>\n",
       "  <tbody>\n",
       "    <tr>\n",
       "      <th>2021-01</th>\n",
       "      <td>800.000000</td>\n",
       "      <td>0.000000</td>\n",
       "      <td>0</td>\n",
       "      <td>0.000000</td>\n",
       "      <td>1000.0</td>\n",
       "      <td>200.000000</td>\n",
       "      <td>0.200000</td>\n",
       "      <td>0.250000</td>\n",
       "      <td>0.000000</td>\n",
       "      <td>0.0</td>\n",
       "      <td>0.000000</td>\n",
       "      <td>0.0</td>\n",
       "      <td>pdp</td>\n",
       "      <td>base</td>\n",
       "    </tr>\n",
       "    <tr>\n",
       "      <th>2021-02</th>\n",
       "      <td>773.278389</td>\n",
       "      <td>24383.469920</td>\n",
       "      <td>0</td>\n",
       "      <td>24383.469920</td>\n",
       "      <td>1000.0</td>\n",
       "      <td>226.721611</td>\n",
       "      <td>0.226722</td>\n",
       "      <td>0.293195</td>\n",
       "      <td>7028.369937</td>\n",
       "      <td>31000.0</td>\n",
       "      <td>7028.369937</td>\n",
       "      <td>31000.0</td>\n",
       "      <td>pdp</td>\n",
       "      <td>base</td>\n",
       "    </tr>\n",
       "    <tr>\n",
       "      <th>2021-03</th>\n",
       "      <td>749.910745</td>\n",
       "      <td>45706.444750</td>\n",
       "      <td>0</td>\n",
       "      <td>21322.974830</td>\n",
       "      <td>1000.0</td>\n",
       "      <td>250.089255</td>\n",
       "      <td>0.250089</td>\n",
       "      <td>0.333492</td>\n",
       "      <td>14030.869064</td>\n",
       "      <td>59000.0</td>\n",
       "      <td>7002.499127</td>\n",
       "      <td>28000.0</td>\n",
       "      <td>pdp</td>\n",
       "      <td>base</td>\n",
       "    </tr>\n",
       "    <tr>\n",
       "      <th>2021-04</th>\n",
       "      <td>724.862217</td>\n",
       "      <td>68563.227381</td>\n",
       "      <td>0</td>\n",
       "      <td>22856.782631</td>\n",
       "      <td>1000.0</td>\n",
       "      <td>275.137783</td>\n",
       "      <td>0.275138</td>\n",
       "      <td>0.379573</td>\n",
       "      <td>22560.140350</td>\n",
       "      <td>90000.0</td>\n",
       "      <td>8529.271286</td>\n",
       "      <td>31000.0</td>\n",
       "      <td>pdp</td>\n",
       "      <td>base</td>\n",
       "    </tr>\n",
       "    <tr>\n",
       "      <th>2021-05</th>\n",
       "      <td>701.418616</td>\n",
       "      <td>89955.513031</td>\n",
       "      <td>0</td>\n",
       "      <td>21392.285650</td>\n",
       "      <td>1000.0</td>\n",
       "      <td>298.581384</td>\n",
       "      <td>0.298581</td>\n",
       "      <td>0.425682</td>\n",
       "      <td>31517.581874</td>\n",
       "      <td>120000.0</td>\n",
       "      <td>8957.441524</td>\n",
       "      <td>30000.0</td>\n",
       "      <td>pdp</td>\n",
       "      <td>base</td>\n",
       "    </tr>\n",
       "  </tbody>\n",
       "</table>\n",
       "</div>"
      ],
      "text/plain": [
       "           oil_rate       oil_cum  iteration    oil_volume  fluid_rate  \\\n",
       "2021-01  800.000000      0.000000          0      0.000000      1000.0   \n",
       "2021-02  773.278389  24383.469920          0  24383.469920      1000.0   \n",
       "2021-03  749.910745  45706.444750          0  21322.974830      1000.0   \n",
       "2021-04  724.862217  68563.227381          0  22856.782631      1000.0   \n",
       "2021-05  701.418616  89955.513031          0  21392.285650      1000.0   \n",
       "\n",
       "         water_rate       bsw       wor     water_cum  fluid_cum  \\\n",
       "2021-01  200.000000  0.200000  0.250000      0.000000        0.0   \n",
       "2021-02  226.721611  0.226722  0.293195   7028.369937    31000.0   \n",
       "2021-03  250.089255  0.250089  0.333492  14030.869064    59000.0   \n",
       "2021-04  275.137783  0.275138  0.379573  22560.140350    90000.0   \n",
       "2021-05  298.581384  0.298581  0.425682  31517.581874   120000.0   \n",
       "\n",
       "         water_volume  fluid_volume period scenario  \n",
       "2021-01      0.000000           0.0    pdp     base  \n",
       "2021-02   7028.369937       31000.0    pdp     base  \n",
       "2021-03   7002.499127       28000.0    pdp     base  \n",
       "2021-04   8529.271286       31000.0    pdp     base  \n",
       "2021-05   8957.441524       30000.0    pdp     base  "
      ]
     },
     "execution_count": 5,
     "metadata": {},
     "output_type": "execute_result"
    }
   ],
   "source": [
    "f1 = scenario1.generate_forecast()\n",
    "f1.head()"
   ]
  },
  {
   "cell_type": "code",
   "execution_count": 6,
   "metadata": {
    "scrolled": false
   },
   "outputs": [
    {
     "name": "stderr",
     "output_type": "stream",
     "text": [
      "/home/scuervo/Documents/dev/dcapy/dcapy/dca/arps.py:78: RuntimeWarning: divide by zero encountered in true_divide\n",
      "  return qi/np.power(1+b*di*time_array,1/b)\n",
      "/home/scuervo/Documents/dev/dcapy/dcapy/dca/arps.py:101: RuntimeWarning: divide by zero encountered in true_divide\n",
      "  g = np.power(b*di*time_array+1,(b-1)/b)\n",
      "/home/scuervo/Documents/dev/dcapy/dcapy/dca/arps.py:102: RuntimeWarning: divide by zero encountered in true_divide\n",
      "  h = np.power(b*di*ti+1,(b-1)/b)\n"
     ]
    },
    {
     "data": {
      "text/plain": [
       "CashFlowModel(name='pdp', income=[CashFlow(name='oil_price', const_value=0, start=datetime.date(2021, 1, 31), end=datetime.date(2021, 6, 30), periods=None, freq='M', chgpts=ChgPts(date=[datetime.date(2021, 1, 31), datetime.date(2021, 2, 28), datetime.date(2021, 3, 31), datetime.date(2021, 4, 30), datetime.date(2021, 5, 31), datetime.date(2021, 6, 30)], value=[0.0, 1024105.7366278564, 959533.8673577072, 1142839.131554334, 1176575.7107391043, 833772.211392257]))], opex=[CashFlow(name='oil_var_opex', const_value=[5600.0, 5412.948723903588, 5249.375218357069, 5074.035515981609, 4909.930310996827, 4745.928752029611], start=datetime.date(2021, 1, 31), end=datetime.date(2021, 6, 30), periods=None, freq='M', chgpts=None)], capex=None)"
      ]
     },
     "execution_count": 6,
     "metadata": {},
     "output_type": "execute_result"
    }
   ],
   "source": [
    "p1.generate_forecast()\n",
    "p1.generate_cashflow()"
   ]
  },
  {
   "cell_type": "code",
   "execution_count": 7,
   "metadata": {},
   "outputs": [
    {
     "data": {
      "text/plain": [
       "Period(name='pdp', dca=Declination \n",
       " Ti: 2021-01-01 \n",
       " Qi: 800.0 bbl/d \n",
       " Di: 0.4 A \n",
       " b: 0.0, start=datetime.date(2021, 1, 1), end=datetime.date(2021, 6, 1), time_list=None, freq_input='M', freq_output='M', rate_limit=None, cum_limit=None, cashflow_params=CashFlowInput(params_list=[CashFlowParams(name='oil_var_opex', const_value=7.0, array_values=None, target='opex', multiply='oil_rate', agg='sum', wi=1.0), CashFlowParams(name='oil_price', const_value=None, array_values=ChgPts(date=[datetime.date(2021, 1, 1), datetime.date(2021, 2, 1), datetime.date(2021, 3, 1), datetime.date(2021, 4, 1), datetime.date(2021, 5, 1), datetime.date(2021, 6, 1)], value=[38.0, 42.0, 45.0, 50.0, 55.0, 39.0]), target='income', multiply='oil_volume', agg='sum', wi=1.0)]), cashflow_out=CashFlowModel(name='pdp', income=[CashFlow(name='oil_price', const_value=0.0, start=datetime.date(2021, 1, 31), end=datetime.date(2021, 6, 30), periods=None, freq='M', chgpts=ChgPts(date=[datetime.date(2021, 1, 31), datetime.date(2021, 2, 28), datetime.date(2021, 3, 31), datetime.date(2021, 4, 30), datetime.date(2021, 5, 31), datetime.date(2021, 6, 30)], value=[0.0, 1024105.7366278564, 959533.8673577072, 1142839.131554334, 1176575.7107391043, 833772.211392257]))], opex=[CashFlow(name='oil_var_opex', const_value=[5600.0, 5412.948723903588, 5249.375218357069, 5074.035515981609, 4909.930310996827, 4745.928752029611], start=datetime.date(2021, 1, 31), end=datetime.date(2021, 6, 30), periods=None, freq='M', chgpts=None)], capex=None), depends=None, forecast=           oil_rate        oil_cum  iteration    oil_volume  fluid_rate  \\\n",
       "2021-01  800.000000       0.000000          0      0.000000      1000.0   \n",
       "2021-02  773.278389   24383.469920          0  24383.469920      1000.0   \n",
       "2021-03  749.910745   45706.444750          0  21322.974830      1000.0   \n",
       "2021-04  724.862217   68563.227381          0  22856.782631      1000.0   \n",
       "2021-05  701.418616   89955.513031          0  21392.285650      1000.0   \n",
       "2021-06  677.989822  111334.287682          0  21378.774651      1000.0   \n",
       "\n",
       "         water_rate       bsw       wor     water_cum  fluid_cum  \\\n",
       "2021-01  200.000000  0.200000  0.250000      0.000000        0.0   \n",
       "2021-02  226.721611  0.226722  0.293195   7028.369937    31000.0   \n",
       "2021-03  250.089255  0.250089  0.333492  14030.869064    59000.0   \n",
       "2021-04  275.137783  0.275138  0.379573  22560.140350    90000.0   \n",
       "2021-05  298.581384  0.298581  0.425682  31517.581874   120000.0   \n",
       "2021-06  322.010178  0.322010  0.474948  41499.897401   151000.0   \n",
       "\n",
       "         water_volume  fluid_volume period  \n",
       "2021-01      0.000000           0.0    pdp  \n",
       "2021-02   7028.369937       31000.0    pdp  \n",
       "2021-03   7002.499127       28000.0    pdp  \n",
       "2021-04   8529.271286       31000.0    pdp  \n",
       "2021-05   8957.441524       30000.0    pdp  \n",
       "2021-06   9982.315527       31000.0    pdp  )"
      ]
     },
     "execution_count": 7,
     "metadata": {},
     "output_type": "execute_result"
    }
   ],
   "source": [
    "Period(**p1.dict())"
   ]
  },
  {
   "cell_type": "code",
   "execution_count": 8,
   "metadata": {},
   "outputs": [
    {
     "data": {
      "text/plain": [
       "2021-01    0.000000e+00\n",
       "2021-02    1.024106e+06\n",
       "2021-03    9.595339e+05\n",
       "2021-04    1.142839e+06\n",
       "2021-05    1.176576e+06\n",
       "2021-06    8.337722e+05\n",
       "Freq: M, dtype: float64"
      ]
     },
     "execution_count": 8,
     "metadata": {},
     "output_type": "execute_result"
    }
   ],
   "source": [
    "p1.generate_cashflow().income[0].get_cashflow()"
   ]
  },
  {
   "cell_type": "code",
   "execution_count": 10,
   "metadata": {},
   "outputs": [
    {
     "data": {
      "text/plain": [
       "2021-01    10.0\n",
       "2021-02    10.0\n",
       "2021-03    10.0\n",
       "2021-04    10.0\n",
       "2021-05    10.0\n",
       "2021-06    10.0\n",
       "2021-07    10.0\n",
       "2021-08    10.0\n",
       "2021-09    10.0\n",
       "2021-10    10.0\n",
       "2021-11    10.0\n",
       "2021-12    10.0\n",
       "2022-01    10.0\n",
       "Freq: M, dtype: float64"
      ]
     },
     "execution_count": 10,
     "metadata": {},
     "output_type": "execute_result"
    }
   ],
   "source": [
    "cf1 = {\n",
    "    'name':'cf1',\n",
    "    'const_value':10,\n",
    "    'start':date(2021,1,1),\n",
    "    'end':date(2022,1,1)\n",
    "}\n",
    "\n",
    "cfm1 = CashFlowModel(name='model1',income = [cf1])\n",
    "cfm1.income[0].get_cashflow()"
   ]
  },
  {
   "cell_type": "code",
   "execution_count": 11,
   "metadata": {},
   "outputs": [
    {
     "data": {
      "text/plain": [
       "2021-01    20.0\n",
       "2021-02    20.0\n",
       "2021-03    20.0\n",
       "2021-04    20.0\n",
       "2021-05    20.0\n",
       "2021-06    20.0\n",
       "2021-07    20.0\n",
       "2021-08    20.0\n",
       "2021-09    20.0\n",
       "2021-10    20.0\n",
       "2021-11    20.0\n",
       "2021-12    20.0\n",
       "2022-01    20.0\n",
       "Freq: M, dtype: float64"
      ]
     },
     "execution_count": 11,
     "metadata": {},
     "output_type": "execute_result"
    }
   ],
   "source": [
    "cf2 = {\n",
    "    'name':'cf2',\n",
    "    'const_value':20,\n",
    "    'start':date(2021,1,1),\n",
    "    'end':date(2022,1,1)\n",
    "}\n",
    "\n",
    "cfm2 = CashFlowModel(name='model2',income = [cf2])\n",
    "cfm2.income[0].get_cashflow()"
   ]
  },
  {
   "cell_type": "code",
   "execution_count": 12,
   "metadata": {},
   "outputs": [],
   "source": [
    "cfm1.append(cfm2)"
   ]
  },
  {
   "cell_type": "code",
   "execution_count": 14,
   "metadata": {},
   "outputs": [
    {
     "data": {
      "text/plain": [
       "CashFlowModel(name='model1', income=[CashFlow(name='cf1', const_value=10.0, start=datetime.date(2021, 1, 1), end=datetime.date(2022, 1, 1), periods=None, freq='M', chgpts=None), CashFlow(name='cf2', const_value=20.0, start=datetime.date(2021, 1, 1), end=datetime.date(2022, 1, 1), periods=None, freq='M', chgpts=None)], opex=None, capex=None)"
      ]
     },
     "execution_count": 14,
     "metadata": {},
     "output_type": "execute_result"
    }
   ],
   "source": [
    "cfm1"
   ]
  },
  {
   "cell_type": "code",
   "execution_count": null,
   "metadata": {},
   "outputs": [],
   "source": []
  }
 ],
 "metadata": {
  "kernelspec": {
   "display_name": "res",
   "language": "python",
   "name": "res"
  },
  "language_info": {
   "codemirror_mode": {
    "name": "ipython",
    "version": 3
   },
   "file_extension": ".py",
   "mimetype": "text/x-python",
   "name": "python",
   "nbconvert_exporter": "python",
   "pygments_lexer": "ipython3",
   "version": "3.8.6"
  }
 },
 "nbformat": 4,
 "nbformat_minor": 4
}
