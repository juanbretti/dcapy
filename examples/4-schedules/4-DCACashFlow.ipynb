{
 "metadata": {
  "language_info": {
   "codemirror_mode": {
    "name": "ipython",
    "version": 3
   },
   "file_extension": ".py",
   "mimetype": "text/x-python",
   "name": "python",
   "nbconvert_exporter": "python",
   "pygments_lexer": "ipython3",
   "version": "3.8.8"
  },
  "orig_nbformat": 2,
  "kernelspec": {
   "name": "python388jvsc74a57bd0607220d9aa50002d928e15b68ce75e93a4d790d4e944ca3137991ee1264619da",
   "display_name": "Python 3.8.8 64-bit ('dcapy': conda)"
  },
  "metadata": {
   "interpreter": {
    "hash": "607220d9aa50002d928e15b68ce75e93a4d790d4e944ca3137991ee1264619da"
   }
  }
 },
 "nbformat": 4,
 "nbformat_minor": 2,
 "cells": [
  {
   "cell_type": "code",
   "execution_count": 1,
   "metadata": {},
   "outputs": [],
   "source": [
    "import os\n",
    "from dcapy import dca\n",
    "from dcapy.models import CashFlow, ChgPts, CashFlowModel, Period, Scenario, CashFlowParams\n",
    "from dcapy.weiner import Weiner\n",
    "\n",
    "import numpy as np \n",
    "import pandas as pd\n",
    "from datetime import date\n",
    "import matplotlib.pyplot as plt\n",
    "import seaborn as sns \n",
    "from scipy import stats\n",
    "import seaborn as sns"
   ]
  },
  {
   "cell_type": "code",
   "execution_count": 2,
   "metadata": {},
   "outputs": [
    {
     "output_type": "execute_result",
     "data": {
      "text/plain": [
       "ChgPts(date=[datetime.date(2021, 1, 1), datetime.date(2021, 2, 1), datetime.date(2021, 3, 1), datetime.date(2021, 4, 1), datetime.date(2021, 5, 1), datetime.date(2021, 6, 1), datetime.date(2021, 7, 1), datetime.date(2021, 8, 1), datetime.date(2021, 9, 1), datetime.date(2021, 10, 1)], value=[60.0, 65.11877280468299, 60.51235734967255, 75.79794054852441, 68.03163126636414, 68.07750716672265, 66.34926773060904, 55.21769546388741, 52.65220345573669, 49.9026003797814])"
      ]
     },
     "metadata": {},
     "execution_count": 2
    }
   ],
   "source": [
    "cashflow_params = [\n",
    "            {\n",
    "                'name':'fix_opex',\n",
    "                'value':-5.000,\n",
    "                'target':'opex',\n",
    "            },\n",
    "            {\n",
    "                'name':'var_opex',\n",
    "                'value':-0.005,\n",
    "                'iter':1,\n",
    "                'target':'opex',\n",
    "                'multiply':'oil_volume'\n",
    "            },\n",
    "            {\n",
    "                'name':'income',\n",
    "                'value':Weiner(initial_condition=60,ti='2021-01-01', generator={'dist':'norm','kw':{'loc':0.0,'scale':0.02}}),   #[0.060,0.045,0.02],\n",
    "                'iter':5,\n",
    "                'target':'income',\n",
    "                'multiply':'oil_volume'\n",
    "            },\n",
    "            {\n",
    "                'name':'capex',\n",
    "                'value':{'date':['2021-01-01'],'value':[-70000]},\n",
    "                'target':'capex'\n",
    "            }\n",
    "    ]\n",
    "\n",
    "CashFlowParams(**cashflow_params[2]).get_value(0,steps=10, freq_output='M')"
   ]
  },
  {
   "cell_type": "code",
   "execution_count": 3,
   "metadata": {},
   "outputs": [
    {
     "output_type": "execute_result",
     "data": {
      "text/plain": [
       "{'name': 'income',\n",
       " 'value': Weiner(initial_condition=60.0, ti=datetime.date(2021, 1, 1), generator=ProbVar(dist='norm', kw={'loc': 0.0, 'scale': 0.02}, seed=None), freq='D', drift=0),\n",
       " 'iter': 5,\n",
       " 'target': 'income',\n",
       " 'multiply': 'oil_volume'}"
      ]
     },
     "metadata": {},
     "execution_count": 3
    }
   ],
   "source": [
    "cashflow_params[2]"
   ]
  },
  {
   "cell_type": "code",
   "execution_count": 4,
   "metadata": {},
   "outputs": [
    {
     "output_type": "execute_result",
     "data": {
      "text/plain": [
       "Period(name='pdp', dca=Declination \n",
       " Ti: 2021-01-01 \n",
       " Qi: 2500.0 bbl/d \n",
       " Di: 0.15 A \n",
       " b: 0.0, start=datetime.date(2021, 1, 1), end=datetime.date(2030, 1, 1), time_list=None, freq_input='A', freq_output='A', rate_limit=80.0, cum_limit=None, iter=10, ppf=None, cashflow_params=[CashFlowParams(name='fix_opex', const_value=None, wi=1.0, periods=None, value=-5.0, array_values=None, target='opex', multiply=None, agg='sum', depends=False, iter=1), CashFlowParams(name='var_opex', const_value=None, wi=1.0, periods=None, value=-0.005, array_values=None, target='opex', multiply='oil_volume', agg='sum', depends=False, iter=1), CashFlowParams(name='income', const_value=None, wi=1.0, periods=None, value=Weiner(initial_condition=60.0, ti=datetime.date(2021, 1, 1), generator=ProbVar(dist='norm', kw={'loc': 0.0, 'scale': 0.02}, seed=None), freq='D', drift=0), array_values=None, target='income', multiply='oil_volume', agg='sum', depends=False, iter=5), CashFlowParams(name='capex', const_value=None, wi=1.0, periods=None, value=ChgPts(date=[datetime.date(2021, 1, 1)], value=[-70000.0]), array_values=None, target='capex', multiply=None, agg='sum', depends=False, iter=1)], cashflow=None, depends=None, forecast=None)"
      ]
     },
     "metadata": {},
     "execution_count": 4
    }
   ],
   "source": [
    "p1_dict = {\n",
    "    'name':'pdp',\n",
    "    'dca': {\n",
    "        'ti':'2021-01-01',\n",
    "        'di':0.15,\n",
    "        'freq_di':'A',\n",
    "        'qi':2500, #{'dist':'norm', 'kw':{'loc':2500,'scale':200}}, #[800,1000],\n",
    "        'b':0,\n",
    "        'fluid_rate':5000\n",
    "    },\n",
    "    'start':'2021-01-01',\n",
    "    'end':'2030-01-01',\n",
    "    'freq_input':'A',\n",
    "    'freq_output':'A',\n",
    "    'rate_limit': 80,\n",
    "    'iter':10,\n",
    "    'cashflow_params':cashflow_params\n",
    "}\n",
    "p1 = Period(**p1_dict)\n",
    "p1"
   ]
  },
  {
   "cell_type": "code",
   "execution_count": 5,
   "metadata": {},
   "outputs": [
    {
     "output_type": "stream",
     "name": "stderr",
     "text": [
      "/home/scuervo/Documents/dev/apps/dcapy/dcapy/dca/arps.py:239: RuntimeWarning: invalid value encountered in true_divide\n  (np.power(qi / rate, b) - 1)/(b * di)\n/home/scuervo/Documents/dev/apps/dcapy/dcapy/dca/arps.py:63: RuntimeWarning: divide by zero encountered in true_divide\n  return qi/np.power(1+b*di*time_array,1/b)\n/home/scuervo/Documents/dev/apps/dcapy/dcapy/dca/arps.py:80: RuntimeWarning: divide by zero encountered in true_divide\n  g = np.power(b*di*time_array+1,(b-1)/b)\n/home/scuervo/Documents/dev/apps/dcapy/dcapy/dca/arps.py:81: RuntimeWarning: divide by zero encountered in true_divide\n  h = np.power(b*di*ti+1,(b-1)/b)\n"
     ]
    },
    {
     "output_type": "execute_result",
     "data": {
      "text/plain": [
       "         oil_rate       oil_cum  iteration     oil_volume  fluid_rate  \\\n",
       "date                                                                    \n",
       "2021  2500.000000  0.000000e+00          0  847359.810081      5000.0   \n",
       "2022  2151.769941  8.473598e+05          0  788344.578760      5000.0   \n",
       "2023  1852.045552  1.576689e+06          0  678534.467110      5000.0   \n",
       "2024  1594.070379  2.204429e+06          0  584705.901723      5000.0   \n",
       "2025  1371.465359  2.746101e+06          0  503261.033476      5000.0   \n",
       "2026  1180.431173  3.210951e+06          0  432474.912134      5000.0   \n",
       "2027  1016.006527  3.611051e+06          0  372234.606478      5000.0   \n",
       "2028   874.484922  3.955420e+06          0  320761.555651      5000.0   \n",
       "2029   752.366892  4.252574e+06          0  276082.029480      5000.0   \n",
       "2030   647.568185  4.507584e+06          0  255010.186630      5000.0   \n",
       "\n",
       "       water_rate       bsw       wor     water_cum   fluid_cum  water_volume  \\\n",
       "date                                                                            \n",
       "2021  2500.000000  0.500000  1.000000  0.000000e+00         0.0  1.039604e+06   \n",
       "2022  2848.230059  0.569646  1.323668  1.039604e+06   1825000.0  1.094304e+06   \n",
       "2023  3147.954448  0.629591  1.699718  2.188607e+06   3650000.0  1.196084e+06   \n",
       "2024  3405.929621  0.681186  2.136624  3.431772e+06   5475000.0  1.285604e+06   \n",
       "2025  3628.534641  0.725707  2.645736  4.759815e+06   7305000.0  1.361093e+06   \n",
       "2026  3819.568827  0.763914  3.235740  6.153958e+06   9130000.0  1.424150e+06   \n",
       "2027  3983.993473  0.796799  3.921228  7.608116e+06  10955000.0  1.479985e+06   \n",
       "2028  4125.515078  0.825103  4.717651  9.113929e+06  12780000.0  1.530223e+06   \n",
       "2029  4247.633108  0.849527  5.645694  1.066856e+07  14610000.0  1.571636e+06   \n",
       "2030  4352.431815  0.870486  6.721195  1.225720e+07  16435000.0  1.588638e+06   \n",
       "\n",
       "      fluid_volume period  \n",
       "date                       \n",
       "2021     1825000.0    pdp  \n",
       "2022     1825000.0    pdp  \n",
       "2023     1825000.0    pdp  \n",
       "2024     1827500.0    pdp  \n",
       "2025     1827500.0    pdp  \n",
       "2026     1825000.0    pdp  \n",
       "2027     1825000.0    pdp  \n",
       "2028     1827500.0    pdp  \n",
       "2029     1827500.0    pdp  \n",
       "2030     1825000.0    pdp  "
      ],
      "text/html": "<div>\n<style scoped>\n    .dataframe tbody tr th:only-of-type {\n        vertical-align: middle;\n    }\n\n    .dataframe tbody tr th {\n        vertical-align: top;\n    }\n\n    .dataframe thead th {\n        text-align: right;\n    }\n</style>\n<table border=\"1\" class=\"dataframe\">\n  <thead>\n    <tr style=\"text-align: right;\">\n      <th></th>\n      <th>oil_rate</th>\n      <th>oil_cum</th>\n      <th>iteration</th>\n      <th>oil_volume</th>\n      <th>fluid_rate</th>\n      <th>water_rate</th>\n      <th>bsw</th>\n      <th>wor</th>\n      <th>water_cum</th>\n      <th>fluid_cum</th>\n      <th>water_volume</th>\n      <th>fluid_volume</th>\n      <th>period</th>\n    </tr>\n    <tr>\n      <th>date</th>\n      <th></th>\n      <th></th>\n      <th></th>\n      <th></th>\n      <th></th>\n      <th></th>\n      <th></th>\n      <th></th>\n      <th></th>\n      <th></th>\n      <th></th>\n      <th></th>\n      <th></th>\n    </tr>\n  </thead>\n  <tbody>\n    <tr>\n      <th>2021</th>\n      <td>2500.000000</td>\n      <td>0.000000e+00</td>\n      <td>0</td>\n      <td>847359.810081</td>\n      <td>5000.0</td>\n      <td>2500.000000</td>\n      <td>0.500000</td>\n      <td>1.000000</td>\n      <td>0.000000e+00</td>\n      <td>0.0</td>\n      <td>1.039604e+06</td>\n      <td>1825000.0</td>\n      <td>pdp</td>\n    </tr>\n    <tr>\n      <th>2022</th>\n      <td>2151.769941</td>\n      <td>8.473598e+05</td>\n      <td>0</td>\n      <td>788344.578760</td>\n      <td>5000.0</td>\n      <td>2848.230059</td>\n      <td>0.569646</td>\n      <td>1.323668</td>\n      <td>1.039604e+06</td>\n      <td>1825000.0</td>\n      <td>1.094304e+06</td>\n      <td>1825000.0</td>\n      <td>pdp</td>\n    </tr>\n    <tr>\n      <th>2023</th>\n      <td>1852.045552</td>\n      <td>1.576689e+06</td>\n      <td>0</td>\n      <td>678534.467110</td>\n      <td>5000.0</td>\n      <td>3147.954448</td>\n      <td>0.629591</td>\n      <td>1.699718</td>\n      <td>2.188607e+06</td>\n      <td>3650000.0</td>\n      <td>1.196084e+06</td>\n      <td>1825000.0</td>\n      <td>pdp</td>\n    </tr>\n    <tr>\n      <th>2024</th>\n      <td>1594.070379</td>\n      <td>2.204429e+06</td>\n      <td>0</td>\n      <td>584705.901723</td>\n      <td>5000.0</td>\n      <td>3405.929621</td>\n      <td>0.681186</td>\n      <td>2.136624</td>\n      <td>3.431772e+06</td>\n      <td>5475000.0</td>\n      <td>1.285604e+06</td>\n      <td>1827500.0</td>\n      <td>pdp</td>\n    </tr>\n    <tr>\n      <th>2025</th>\n      <td>1371.465359</td>\n      <td>2.746101e+06</td>\n      <td>0</td>\n      <td>503261.033476</td>\n      <td>5000.0</td>\n      <td>3628.534641</td>\n      <td>0.725707</td>\n      <td>2.645736</td>\n      <td>4.759815e+06</td>\n      <td>7305000.0</td>\n      <td>1.361093e+06</td>\n      <td>1827500.0</td>\n      <td>pdp</td>\n    </tr>\n    <tr>\n      <th>2026</th>\n      <td>1180.431173</td>\n      <td>3.210951e+06</td>\n      <td>0</td>\n      <td>432474.912134</td>\n      <td>5000.0</td>\n      <td>3819.568827</td>\n      <td>0.763914</td>\n      <td>3.235740</td>\n      <td>6.153958e+06</td>\n      <td>9130000.0</td>\n      <td>1.424150e+06</td>\n      <td>1825000.0</td>\n      <td>pdp</td>\n    </tr>\n    <tr>\n      <th>2027</th>\n      <td>1016.006527</td>\n      <td>3.611051e+06</td>\n      <td>0</td>\n      <td>372234.606478</td>\n      <td>5000.0</td>\n      <td>3983.993473</td>\n      <td>0.796799</td>\n      <td>3.921228</td>\n      <td>7.608116e+06</td>\n      <td>10955000.0</td>\n      <td>1.479985e+06</td>\n      <td>1825000.0</td>\n      <td>pdp</td>\n    </tr>\n    <tr>\n      <th>2028</th>\n      <td>874.484922</td>\n      <td>3.955420e+06</td>\n      <td>0</td>\n      <td>320761.555651</td>\n      <td>5000.0</td>\n      <td>4125.515078</td>\n      <td>0.825103</td>\n      <td>4.717651</td>\n      <td>9.113929e+06</td>\n      <td>12780000.0</td>\n      <td>1.530223e+06</td>\n      <td>1827500.0</td>\n      <td>pdp</td>\n    </tr>\n    <tr>\n      <th>2029</th>\n      <td>752.366892</td>\n      <td>4.252574e+06</td>\n      <td>0</td>\n      <td>276082.029480</td>\n      <td>5000.0</td>\n      <td>4247.633108</td>\n      <td>0.849527</td>\n      <td>5.645694</td>\n      <td>1.066856e+07</td>\n      <td>14610000.0</td>\n      <td>1.571636e+06</td>\n      <td>1827500.0</td>\n      <td>pdp</td>\n    </tr>\n    <tr>\n      <th>2030</th>\n      <td>647.568185</td>\n      <td>4.507584e+06</td>\n      <td>0</td>\n      <td>255010.186630</td>\n      <td>5000.0</td>\n      <td>4352.431815</td>\n      <td>0.870486</td>\n      <td>6.721195</td>\n      <td>1.225720e+07</td>\n      <td>16435000.0</td>\n      <td>1.588638e+06</td>\n      <td>1825000.0</td>\n      <td>pdp</td>\n    </tr>\n  </tbody>\n</table>\n</div>"
     },
     "metadata": {},
     "execution_count": 5
    }
   ],
   "source": [
    "fore1 = p1.generate_forecast()\n",
    "fore1"
   ]
  },
  {
   "cell_type": "code",
   "execution_count": 6,
   "metadata": {},
   "outputs": [
    {
     "output_type": "execute_result",
     "data": {
      "text/plain": [
       "<AxesSubplot:xlabel='date', ylabel='oil_rate'>"
      ]
     },
     "metadata": {},
     "execution_count": 6
    },
    {
     "output_type": "display_data",
     "data": {
      "text/plain": "<Figure size 432x288 with 1 Axes>",
      "image/svg+xml": "<?xml version=\"1.0\" encoding=\"utf-8\" standalone=\"no\"?>\n<!DOCTYPE svg PUBLIC \"-//W3C//DTD SVG 1.1//EN\"\n  \"http://www.w3.org/Graphics/SVG/1.1/DTD/svg11.dtd\">\n<!-- Created with matplotlib (https://matplotlib.org/) -->\n<svg height=\"262.19625pt\" version=\"1.1\" viewBox=\"0 0 395.60625 262.19625\" width=\"395.60625pt\" xmlns=\"http://www.w3.org/2000/svg\" xmlns:xlink=\"http://www.w3.org/1999/xlink\">\n <metadata>\n  <rdf:RDF xmlns:cc=\"http://creativecommons.org/ns#\" xmlns:dc=\"http://purl.org/dc/elements/1.1/\" xmlns:rdf=\"http://www.w3.org/1999/02/22-rdf-syntax-ns#\">\n   <cc:Work>\n    <dc:type rdf:resource=\"http://purl.org/dc/dcmitype/StillImage\"/>\n    <dc:date>2021-04-11T18:51:35.758818</dc:date>\n    <dc:format>image/svg+xml</dc:format>\n    <dc:creator>\n     <cc:Agent>\n      <dc:title>Matplotlib v3.3.4, https://matplotlib.org/</dc:title>\n     </cc:Agent>\n    </dc:creator>\n   </cc:Work>\n  </rdf:RDF>\n </metadata>\n <defs>\n  <style type=\"text/css\">*{stroke-linecap:butt;stroke-linejoin:round;}</style>\n </defs>\n <g id=\"figure_1\">\n  <g id=\"patch_1\">\n   <path d=\"M 0 262.19625 \nL 395.60625 262.19625 \nL 395.60625 0 \nL 0 0 \nz\n\" style=\"fill:none;\"/>\n  </g>\n  <g id=\"axes_1\">\n   <g id=\"patch_2\">\n    <path d=\"M 53.60625 224.64 \nL 388.40625 224.64 \nL 388.40625 7.2 \nL 53.60625 7.2 \nz\n\" style=\"fill:#ffffff;\"/>\n   </g>\n   <g id=\"matplotlib.axis_1\">\n    <g id=\"xtick_1\">\n     <g id=\"line2d_1\">\n      <defs>\n       <path d=\"M 0 0 \nL 0 3.5 \n\" id=\"mde68244dfe\" style=\"stroke:#000000;stroke-width:0.8;\"/>\n      </defs>\n      <g>\n       <use style=\"stroke:#000000;stroke-width:0.8;\" x=\"68.824432\" xlink:href=\"#mde68244dfe\" y=\"224.64\"/>\n      </g>\n     </g>\n     <g id=\"text_1\">\n      <!-- 2021 -->\n      <g transform=\"translate(56.099432 239.238438)scale(0.1 -0.1)\">\n       <defs>\n        <path d=\"M 19.1875 8.296875 \nL 53.609375 8.296875 \nL 53.609375 0 \nL 7.328125 0 \nL 7.328125 8.296875 \nQ 12.9375 14.109375 22.625 23.890625 \nQ 32.328125 33.6875 34.8125 36.53125 \nQ 39.546875 41.84375 41.421875 45.53125 \nQ 43.3125 49.21875 43.3125 52.78125 \nQ 43.3125 58.59375 39.234375 62.25 \nQ 35.15625 65.921875 28.609375 65.921875 \nQ 23.96875 65.921875 18.8125 64.3125 \nQ 13.671875 62.703125 7.8125 59.421875 \nL 7.8125 69.390625 \nQ 13.765625 71.78125 18.9375 73 \nQ 24.125 74.21875 28.421875 74.21875 \nQ 39.75 74.21875 46.484375 68.546875 \nQ 53.21875 62.890625 53.21875 53.421875 \nQ 53.21875 48.921875 51.53125 44.890625 \nQ 49.859375 40.875 45.40625 35.40625 \nQ 44.1875 33.984375 37.640625 27.21875 \nQ 31.109375 20.453125 19.1875 8.296875 \nz\n\" id=\"DejaVuSans-50\"/>\n        <path d=\"M 31.78125 66.40625 \nQ 24.171875 66.40625 20.328125 58.90625 \nQ 16.5 51.421875 16.5 36.375 \nQ 16.5 21.390625 20.328125 13.890625 \nQ 24.171875 6.390625 31.78125 6.390625 \nQ 39.453125 6.390625 43.28125 13.890625 \nQ 47.125 21.390625 47.125 36.375 \nQ 47.125 51.421875 43.28125 58.90625 \nQ 39.453125 66.40625 31.78125 66.40625 \nz\nM 31.78125 74.21875 \nQ 44.046875 74.21875 50.515625 64.515625 \nQ 56.984375 54.828125 56.984375 36.375 \nQ 56.984375 17.96875 50.515625 8.265625 \nQ 44.046875 -1.421875 31.78125 -1.421875 \nQ 19.53125 -1.421875 13.0625 8.265625 \nQ 6.59375 17.96875 6.59375 36.375 \nQ 6.59375 54.828125 13.0625 64.515625 \nQ 19.53125 74.21875 31.78125 74.21875 \nz\n\" id=\"DejaVuSans-48\"/>\n        <path d=\"M 12.40625 8.296875 \nL 28.515625 8.296875 \nL 28.515625 63.921875 \nL 10.984375 60.40625 \nL 10.984375 69.390625 \nL 28.421875 72.90625 \nL 38.28125 72.90625 \nL 38.28125 8.296875 \nL 54.390625 8.296875 \nL 54.390625 0 \nL 12.40625 0 \nz\n\" id=\"DejaVuSans-49\"/>\n       </defs>\n       <use xlink:href=\"#DejaVuSans-50\"/>\n       <use x=\"63.623047\" xlink:href=\"#DejaVuSans-48\"/>\n       <use x=\"127.246094\" xlink:href=\"#DejaVuSans-50\"/>\n       <use x=\"190.869141\" xlink:href=\"#DejaVuSans-49\"/>\n      </g>\n     </g>\n    </g>\n    <g id=\"xtick_2\">\n     <g id=\"line2d_2\">\n      <g>\n       <use style=\"stroke:#000000;stroke-width:0.8;\" x=\"102.622037\" xlink:href=\"#mde68244dfe\" y=\"224.64\"/>\n      </g>\n     </g>\n     <g id=\"text_2\">\n      <!-- 2022 -->\n      <g transform=\"translate(89.897037 239.238438)scale(0.1 -0.1)\">\n       <use xlink:href=\"#DejaVuSans-50\"/>\n       <use x=\"63.623047\" xlink:href=\"#DejaVuSans-48\"/>\n       <use x=\"127.246094\" xlink:href=\"#DejaVuSans-50\"/>\n       <use x=\"190.869141\" xlink:href=\"#DejaVuSans-50\"/>\n      </g>\n     </g>\n    </g>\n    <g id=\"xtick_3\">\n     <g id=\"line2d_3\">\n      <g>\n       <use style=\"stroke:#000000;stroke-width:0.8;\" x=\"136.419642\" xlink:href=\"#mde68244dfe\" y=\"224.64\"/>\n      </g>\n     </g>\n     <g id=\"text_3\">\n      <!-- 2023 -->\n      <g transform=\"translate(123.694642 239.238438)scale(0.1 -0.1)\">\n       <defs>\n        <path d=\"M 40.578125 39.3125 \nQ 47.65625 37.796875 51.625 33 \nQ 55.609375 28.21875 55.609375 21.1875 \nQ 55.609375 10.40625 48.1875 4.484375 \nQ 40.765625 -1.421875 27.09375 -1.421875 \nQ 22.515625 -1.421875 17.65625 -0.515625 \nQ 12.796875 0.390625 7.625 2.203125 \nL 7.625 11.71875 \nQ 11.71875 9.328125 16.59375 8.109375 \nQ 21.484375 6.890625 26.8125 6.890625 \nQ 36.078125 6.890625 40.9375 10.546875 \nQ 45.796875 14.203125 45.796875 21.1875 \nQ 45.796875 27.640625 41.28125 31.265625 \nQ 36.765625 34.90625 28.71875 34.90625 \nL 20.21875 34.90625 \nL 20.21875 43.015625 \nL 29.109375 43.015625 \nQ 36.375 43.015625 40.234375 45.921875 \nQ 44.09375 48.828125 44.09375 54.296875 \nQ 44.09375 59.90625 40.109375 62.90625 \nQ 36.140625 65.921875 28.71875 65.921875 \nQ 24.65625 65.921875 20.015625 65.03125 \nQ 15.375 64.15625 9.8125 62.3125 \nL 9.8125 71.09375 \nQ 15.4375 72.65625 20.34375 73.4375 \nQ 25.25 74.21875 29.59375 74.21875 \nQ 40.828125 74.21875 47.359375 69.109375 \nQ 53.90625 64.015625 53.90625 55.328125 \nQ 53.90625 49.265625 50.4375 45.09375 \nQ 46.96875 40.921875 40.578125 39.3125 \nz\n\" id=\"DejaVuSans-51\"/>\n       </defs>\n       <use xlink:href=\"#DejaVuSans-50\"/>\n       <use x=\"63.623047\" xlink:href=\"#DejaVuSans-48\"/>\n       <use x=\"127.246094\" xlink:href=\"#DejaVuSans-50\"/>\n       <use x=\"190.869141\" xlink:href=\"#DejaVuSans-51\"/>\n      </g>\n     </g>\n    </g>\n    <g id=\"xtick_4\">\n     <g id=\"line2d_4\">\n      <g>\n       <use style=\"stroke:#000000;stroke-width:0.8;\" x=\"170.217246\" xlink:href=\"#mde68244dfe\" y=\"224.64\"/>\n      </g>\n     </g>\n     <g id=\"text_4\">\n      <!-- 2024 -->\n      <g transform=\"translate(157.492246 239.238438)scale(0.1 -0.1)\">\n       <defs>\n        <path d=\"M 37.796875 64.3125 \nL 12.890625 25.390625 \nL 37.796875 25.390625 \nz\nM 35.203125 72.90625 \nL 47.609375 72.90625 \nL 47.609375 25.390625 \nL 58.015625 25.390625 \nL 58.015625 17.1875 \nL 47.609375 17.1875 \nL 47.609375 0 \nL 37.796875 0 \nL 37.796875 17.1875 \nL 4.890625 17.1875 \nL 4.890625 26.703125 \nz\n\" id=\"DejaVuSans-52\"/>\n       </defs>\n       <use xlink:href=\"#DejaVuSans-50\"/>\n       <use x=\"63.623047\" xlink:href=\"#DejaVuSans-48\"/>\n       <use x=\"127.246094\" xlink:href=\"#DejaVuSans-50\"/>\n       <use x=\"190.869141\" xlink:href=\"#DejaVuSans-52\"/>\n      </g>\n     </g>\n    </g>\n    <g id=\"xtick_5\">\n     <g id=\"line2d_5\">\n      <g>\n       <use style=\"stroke:#000000;stroke-width:0.8;\" x=\"204.107448\" xlink:href=\"#mde68244dfe\" y=\"224.64\"/>\n      </g>\n     </g>\n     <g id=\"text_5\">\n      <!-- 2025 -->\n      <g transform=\"translate(191.382448 239.238438)scale(0.1 -0.1)\">\n       <defs>\n        <path d=\"M 10.796875 72.90625 \nL 49.515625 72.90625 \nL 49.515625 64.59375 \nL 19.828125 64.59375 \nL 19.828125 46.734375 \nQ 21.96875 47.46875 24.109375 47.828125 \nQ 26.265625 48.1875 28.421875 48.1875 \nQ 40.625 48.1875 47.75 41.5 \nQ 54.890625 34.8125 54.890625 23.390625 \nQ 54.890625 11.625 47.5625 5.09375 \nQ 40.234375 -1.421875 26.90625 -1.421875 \nQ 22.3125 -1.421875 17.546875 -0.640625 \nQ 12.796875 0.140625 7.71875 1.703125 \nL 7.71875 11.625 \nQ 12.109375 9.234375 16.796875 8.0625 \nQ 21.484375 6.890625 26.703125 6.890625 \nQ 35.15625 6.890625 40.078125 11.328125 \nQ 45.015625 15.765625 45.015625 23.390625 \nQ 45.015625 31 40.078125 35.4375 \nQ 35.15625 39.890625 26.703125 39.890625 \nQ 22.75 39.890625 18.8125 39.015625 \nQ 14.890625 38.140625 10.796875 36.28125 \nz\n\" id=\"DejaVuSans-53\"/>\n       </defs>\n       <use xlink:href=\"#DejaVuSans-50\"/>\n       <use x=\"63.623047\" xlink:href=\"#DejaVuSans-48\"/>\n       <use x=\"127.246094\" xlink:href=\"#DejaVuSans-50\"/>\n       <use x=\"190.869141\" xlink:href=\"#DejaVuSans-53\"/>\n      </g>\n     </g>\n    </g>\n    <g id=\"xtick_6\">\n     <g id=\"line2d_6\">\n      <g>\n       <use style=\"stroke:#000000;stroke-width:0.8;\" x=\"237.905052\" xlink:href=\"#mde68244dfe\" y=\"224.64\"/>\n      </g>\n     </g>\n     <g id=\"text_6\">\n      <!-- 2026 -->\n      <g transform=\"translate(225.180052 239.238438)scale(0.1 -0.1)\">\n       <defs>\n        <path d=\"M 33.015625 40.375 \nQ 26.375 40.375 22.484375 35.828125 \nQ 18.609375 31.296875 18.609375 23.390625 \nQ 18.609375 15.53125 22.484375 10.953125 \nQ 26.375 6.390625 33.015625 6.390625 \nQ 39.65625 6.390625 43.53125 10.953125 \nQ 47.40625 15.53125 47.40625 23.390625 \nQ 47.40625 31.296875 43.53125 35.828125 \nQ 39.65625 40.375 33.015625 40.375 \nz\nM 52.59375 71.296875 \nL 52.59375 62.3125 \nQ 48.875 64.0625 45.09375 64.984375 \nQ 41.3125 65.921875 37.59375 65.921875 \nQ 27.828125 65.921875 22.671875 59.328125 \nQ 17.53125 52.734375 16.796875 39.40625 \nQ 19.671875 43.65625 24.015625 45.921875 \nQ 28.375 48.1875 33.59375 48.1875 \nQ 44.578125 48.1875 50.953125 41.515625 \nQ 57.328125 34.859375 57.328125 23.390625 \nQ 57.328125 12.15625 50.6875 5.359375 \nQ 44.046875 -1.421875 33.015625 -1.421875 \nQ 20.359375 -1.421875 13.671875 8.265625 \nQ 6.984375 17.96875 6.984375 36.375 \nQ 6.984375 53.65625 15.1875 63.9375 \nQ 23.390625 74.21875 37.203125 74.21875 \nQ 40.921875 74.21875 44.703125 73.484375 \nQ 48.484375 72.75 52.59375 71.296875 \nz\n\" id=\"DejaVuSans-54\"/>\n       </defs>\n       <use xlink:href=\"#DejaVuSans-50\"/>\n       <use x=\"63.623047\" xlink:href=\"#DejaVuSans-48\"/>\n       <use x=\"127.246094\" xlink:href=\"#DejaVuSans-50\"/>\n       <use x=\"190.869141\" xlink:href=\"#DejaVuSans-54\"/>\n      </g>\n     </g>\n    </g>\n    <g id=\"xtick_7\">\n     <g id=\"line2d_7\">\n      <g>\n       <use style=\"stroke:#000000;stroke-width:0.8;\" x=\"271.702657\" xlink:href=\"#mde68244dfe\" y=\"224.64\"/>\n      </g>\n     </g>\n     <g id=\"text_7\">\n      <!-- 2027 -->\n      <g transform=\"translate(258.977657 239.238438)scale(0.1 -0.1)\">\n       <defs>\n        <path d=\"M 8.203125 72.90625 \nL 55.078125 72.90625 \nL 55.078125 68.703125 \nL 28.609375 0 \nL 18.3125 0 \nL 43.21875 64.59375 \nL 8.203125 64.59375 \nz\n\" id=\"DejaVuSans-55\"/>\n       </defs>\n       <use xlink:href=\"#DejaVuSans-50\"/>\n       <use x=\"63.623047\" xlink:href=\"#DejaVuSans-48\"/>\n       <use x=\"127.246094\" xlink:href=\"#DejaVuSans-50\"/>\n       <use x=\"190.869141\" xlink:href=\"#DejaVuSans-55\"/>\n      </g>\n     </g>\n    </g>\n    <g id=\"xtick_8\">\n     <g id=\"line2d_8\">\n      <g>\n       <use style=\"stroke:#000000;stroke-width:0.8;\" x=\"305.500262\" xlink:href=\"#mde68244dfe\" y=\"224.64\"/>\n      </g>\n     </g>\n     <g id=\"text_8\">\n      <!-- 2028 -->\n      <g transform=\"translate(292.775262 239.238438)scale(0.1 -0.1)\">\n       <defs>\n        <path d=\"M 31.78125 34.625 \nQ 24.75 34.625 20.71875 30.859375 \nQ 16.703125 27.09375 16.703125 20.515625 \nQ 16.703125 13.921875 20.71875 10.15625 \nQ 24.75 6.390625 31.78125 6.390625 \nQ 38.8125 6.390625 42.859375 10.171875 \nQ 46.921875 13.96875 46.921875 20.515625 \nQ 46.921875 27.09375 42.890625 30.859375 \nQ 38.875 34.625 31.78125 34.625 \nz\nM 21.921875 38.8125 \nQ 15.578125 40.375 12.03125 44.71875 \nQ 8.5 49.078125 8.5 55.328125 \nQ 8.5 64.0625 14.71875 69.140625 \nQ 20.953125 74.21875 31.78125 74.21875 \nQ 42.671875 74.21875 48.875 69.140625 \nQ 55.078125 64.0625 55.078125 55.328125 \nQ 55.078125 49.078125 51.53125 44.71875 \nQ 48 40.375 41.703125 38.8125 \nQ 48.828125 37.15625 52.796875 32.3125 \nQ 56.78125 27.484375 56.78125 20.515625 \nQ 56.78125 9.90625 50.3125 4.234375 \nQ 43.84375 -1.421875 31.78125 -1.421875 \nQ 19.734375 -1.421875 13.25 4.234375 \nQ 6.78125 9.90625 6.78125 20.515625 \nQ 6.78125 27.484375 10.78125 32.3125 \nQ 14.796875 37.15625 21.921875 38.8125 \nz\nM 18.3125 54.390625 \nQ 18.3125 48.734375 21.84375 45.5625 \nQ 25.390625 42.390625 31.78125 42.390625 \nQ 38.140625 42.390625 41.71875 45.5625 \nQ 45.3125 48.734375 45.3125 54.390625 \nQ 45.3125 60.0625 41.71875 63.234375 \nQ 38.140625 66.40625 31.78125 66.40625 \nQ 25.390625 66.40625 21.84375 63.234375 \nQ 18.3125 60.0625 18.3125 54.390625 \nz\n\" id=\"DejaVuSans-56\"/>\n       </defs>\n       <use xlink:href=\"#DejaVuSans-50\"/>\n       <use x=\"63.623047\" xlink:href=\"#DejaVuSans-48\"/>\n       <use x=\"127.246094\" xlink:href=\"#DejaVuSans-50\"/>\n       <use x=\"190.869141\" xlink:href=\"#DejaVuSans-56\"/>\n      </g>\n     </g>\n    </g>\n    <g id=\"xtick_9\">\n     <g id=\"line2d_9\">\n      <g>\n       <use style=\"stroke:#000000;stroke-width:0.8;\" x=\"339.390463\" xlink:href=\"#mde68244dfe\" y=\"224.64\"/>\n      </g>\n     </g>\n     <g id=\"text_9\">\n      <!-- 2029 -->\n      <g transform=\"translate(326.665463 239.238438)scale(0.1 -0.1)\">\n       <defs>\n        <path d=\"M 10.984375 1.515625 \nL 10.984375 10.5 \nQ 14.703125 8.734375 18.5 7.8125 \nQ 22.3125 6.890625 25.984375 6.890625 \nQ 35.75 6.890625 40.890625 13.453125 \nQ 46.046875 20.015625 46.78125 33.40625 \nQ 43.953125 29.203125 39.59375 26.953125 \nQ 35.25 24.703125 29.984375 24.703125 \nQ 19.046875 24.703125 12.671875 31.3125 \nQ 6.296875 37.9375 6.296875 49.421875 \nQ 6.296875 60.640625 12.9375 67.421875 \nQ 19.578125 74.21875 30.609375 74.21875 \nQ 43.265625 74.21875 49.921875 64.515625 \nQ 56.59375 54.828125 56.59375 36.375 \nQ 56.59375 19.140625 48.40625 8.859375 \nQ 40.234375 -1.421875 26.421875 -1.421875 \nQ 22.703125 -1.421875 18.890625 -0.6875 \nQ 15.09375 0.046875 10.984375 1.515625 \nz\nM 30.609375 32.421875 \nQ 37.25 32.421875 41.125 36.953125 \nQ 45.015625 41.5 45.015625 49.421875 \nQ 45.015625 57.28125 41.125 61.84375 \nQ 37.25 66.40625 30.609375 66.40625 \nQ 23.96875 66.40625 20.09375 61.84375 \nQ 16.21875 57.28125 16.21875 49.421875 \nQ 16.21875 41.5 20.09375 36.953125 \nQ 23.96875 32.421875 30.609375 32.421875 \nz\n\" id=\"DejaVuSans-57\"/>\n       </defs>\n       <use xlink:href=\"#DejaVuSans-50\"/>\n       <use x=\"63.623047\" xlink:href=\"#DejaVuSans-48\"/>\n       <use x=\"127.246094\" xlink:href=\"#DejaVuSans-50\"/>\n       <use x=\"190.869141\" xlink:href=\"#DejaVuSans-57\"/>\n      </g>\n     </g>\n    </g>\n    <g id=\"xtick_10\">\n     <g id=\"line2d_10\">\n      <g>\n       <use style=\"stroke:#000000;stroke-width:0.8;\" x=\"373.188068\" xlink:href=\"#mde68244dfe\" y=\"224.64\"/>\n      </g>\n     </g>\n     <g id=\"text_10\">\n      <!-- 2030 -->\n      <g transform=\"translate(360.463068 239.238438)scale(0.1 -0.1)\">\n       <use xlink:href=\"#DejaVuSans-50\"/>\n       <use x=\"63.623047\" xlink:href=\"#DejaVuSans-48\"/>\n       <use x=\"127.246094\" xlink:href=\"#DejaVuSans-51\"/>\n       <use x=\"190.869141\" xlink:href=\"#DejaVuSans-48\"/>\n      </g>\n     </g>\n    </g>\n    <g id=\"text_11\">\n     <!-- date -->\n     <g transform=\"translate(209.73125 252.916563)scale(0.1 -0.1)\">\n      <defs>\n       <path d=\"M 45.40625 46.390625 \nL 45.40625 75.984375 \nL 54.390625 75.984375 \nL 54.390625 0 \nL 45.40625 0 \nL 45.40625 8.203125 \nQ 42.578125 3.328125 38.25 0.953125 \nQ 33.9375 -1.421875 27.875 -1.421875 \nQ 17.96875 -1.421875 11.734375 6.484375 \nQ 5.515625 14.40625 5.515625 27.296875 \nQ 5.515625 40.1875 11.734375 48.09375 \nQ 17.96875 56 27.875 56 \nQ 33.9375 56 38.25 53.625 \nQ 42.578125 51.265625 45.40625 46.390625 \nz\nM 14.796875 27.296875 \nQ 14.796875 17.390625 18.875 11.75 \nQ 22.953125 6.109375 30.078125 6.109375 \nQ 37.203125 6.109375 41.296875 11.75 \nQ 45.40625 17.390625 45.40625 27.296875 \nQ 45.40625 37.203125 41.296875 42.84375 \nQ 37.203125 48.484375 30.078125 48.484375 \nQ 22.953125 48.484375 18.875 42.84375 \nQ 14.796875 37.203125 14.796875 27.296875 \nz\n\" id=\"DejaVuSans-100\"/>\n       <path d=\"M 34.28125 27.484375 \nQ 23.390625 27.484375 19.1875 25 \nQ 14.984375 22.515625 14.984375 16.5 \nQ 14.984375 11.71875 18.140625 8.90625 \nQ 21.296875 6.109375 26.703125 6.109375 \nQ 34.1875 6.109375 38.703125 11.40625 \nQ 43.21875 16.703125 43.21875 25.484375 \nL 43.21875 27.484375 \nz\nM 52.203125 31.203125 \nL 52.203125 0 \nL 43.21875 0 \nL 43.21875 8.296875 \nQ 40.140625 3.328125 35.546875 0.953125 \nQ 30.953125 -1.421875 24.3125 -1.421875 \nQ 15.921875 -1.421875 10.953125 3.296875 \nQ 6 8.015625 6 15.921875 \nQ 6 25.140625 12.171875 29.828125 \nQ 18.359375 34.515625 30.609375 34.515625 \nL 43.21875 34.515625 \nL 43.21875 35.40625 \nQ 43.21875 41.609375 39.140625 45 \nQ 35.0625 48.390625 27.6875 48.390625 \nQ 23 48.390625 18.546875 47.265625 \nQ 14.109375 46.140625 10.015625 43.890625 \nL 10.015625 52.203125 \nQ 14.9375 54.109375 19.578125 55.046875 \nQ 24.21875 56 28.609375 56 \nQ 40.484375 56 46.34375 49.84375 \nQ 52.203125 43.703125 52.203125 31.203125 \nz\n\" id=\"DejaVuSans-97\"/>\n       <path d=\"M 18.3125 70.21875 \nL 18.3125 54.6875 \nL 36.8125 54.6875 \nL 36.8125 47.703125 \nL 18.3125 47.703125 \nL 18.3125 18.015625 \nQ 18.3125 11.328125 20.140625 9.421875 \nQ 21.96875 7.515625 27.59375 7.515625 \nL 36.8125 7.515625 \nL 36.8125 0 \nL 27.59375 0 \nQ 17.1875 0 13.234375 3.875 \nQ 9.28125 7.765625 9.28125 18.015625 \nL 9.28125 47.703125 \nL 2.6875 47.703125 \nL 2.6875 54.6875 \nL 9.28125 54.6875 \nL 9.28125 70.21875 \nz\n\" id=\"DejaVuSans-116\"/>\n       <path d=\"M 56.203125 29.59375 \nL 56.203125 25.203125 \nL 14.890625 25.203125 \nQ 15.484375 15.921875 20.484375 11.0625 \nQ 25.484375 6.203125 34.421875 6.203125 \nQ 39.59375 6.203125 44.453125 7.46875 \nQ 49.3125 8.734375 54.109375 11.28125 \nL 54.109375 2.78125 \nQ 49.265625 0.734375 44.1875 -0.34375 \nQ 39.109375 -1.421875 33.890625 -1.421875 \nQ 20.796875 -1.421875 13.15625 6.1875 \nQ 5.515625 13.8125 5.515625 26.8125 \nQ 5.515625 40.234375 12.765625 48.109375 \nQ 20.015625 56 32.328125 56 \nQ 43.359375 56 49.78125 48.890625 \nQ 56.203125 41.796875 56.203125 29.59375 \nz\nM 47.21875 32.234375 \nQ 47.125 39.59375 43.09375 43.984375 \nQ 39.0625 48.390625 32.421875 48.390625 \nQ 24.90625 48.390625 20.390625 44.140625 \nQ 15.875 39.890625 15.1875 32.171875 \nz\n\" id=\"DejaVuSans-101\"/>\n      </defs>\n      <use xlink:href=\"#DejaVuSans-100\"/>\n      <use x=\"63.476562\" xlink:href=\"#DejaVuSans-97\"/>\n      <use x=\"124.755859\" xlink:href=\"#DejaVuSans-116\"/>\n      <use x=\"163.964844\" xlink:href=\"#DejaVuSans-101\"/>\n     </g>\n    </g>\n   </g>\n   <g id=\"matplotlib.axis_2\">\n    <g id=\"ytick_1\">\n     <g id=\"line2d_11\">\n      <defs>\n       <path d=\"M 0 0 \nL -3.5 0 \n\" id=\"md8fd981779\" style=\"stroke:#000000;stroke-width:0.8;\"/>\n      </defs>\n      <g>\n       <use style=\"stroke:#000000;stroke-width:0.8;\" x=\"53.60625\" xlink:href=\"#md8fd981779\" y=\"203.82588\"/>\n      </g>\n     </g>\n     <g id=\"text_12\">\n      <!-- 750 -->\n      <g transform=\"translate(27.51875 207.625098)scale(0.1 -0.1)\">\n       <use xlink:href=\"#DejaVuSans-55\"/>\n       <use x=\"63.623047\" xlink:href=\"#DejaVuSans-53\"/>\n       <use x=\"127.246094\" xlink:href=\"#DejaVuSans-48\"/>\n      </g>\n     </g>\n    </g>\n    <g id=\"ytick_2\">\n     <g id=\"line2d_12\">\n      <g>\n       <use style=\"stroke:#000000;stroke-width:0.8;\" x=\"53.60625\" xlink:href=\"#md8fd981779\" y=\"177.148416\"/>\n      </g>\n     </g>\n     <g id=\"text_13\">\n      <!-- 1000 -->\n      <g transform=\"translate(21.15625 180.947635)scale(0.1 -0.1)\">\n       <use xlink:href=\"#DejaVuSans-49\"/>\n       <use x=\"63.623047\" xlink:href=\"#DejaVuSans-48\"/>\n       <use x=\"127.246094\" xlink:href=\"#DejaVuSans-48\"/>\n       <use x=\"190.869141\" xlink:href=\"#DejaVuSans-48\"/>\n      </g>\n     </g>\n    </g>\n    <g id=\"ytick_3\">\n     <g id=\"line2d_13\">\n      <g>\n       <use style=\"stroke:#000000;stroke-width:0.8;\" x=\"53.60625\" xlink:href=\"#md8fd981779\" y=\"150.470953\"/>\n      </g>\n     </g>\n     <g id=\"text_14\">\n      <!-- 1250 -->\n      <g transform=\"translate(21.15625 154.270172)scale(0.1 -0.1)\">\n       <use xlink:href=\"#DejaVuSans-49\"/>\n       <use x=\"63.623047\" xlink:href=\"#DejaVuSans-50\"/>\n       <use x=\"127.246094\" xlink:href=\"#DejaVuSans-53\"/>\n       <use x=\"190.869141\" xlink:href=\"#DejaVuSans-48\"/>\n      </g>\n     </g>\n    </g>\n    <g id=\"ytick_4\">\n     <g id=\"line2d_14\">\n      <g>\n       <use style=\"stroke:#000000;stroke-width:0.8;\" x=\"53.60625\" xlink:href=\"#md8fd981779\" y=\"123.79349\"/>\n      </g>\n     </g>\n     <g id=\"text_15\">\n      <!-- 1500 -->\n      <g transform=\"translate(21.15625 127.592708)scale(0.1 -0.1)\">\n       <use xlink:href=\"#DejaVuSans-49\"/>\n       <use x=\"63.623047\" xlink:href=\"#DejaVuSans-53\"/>\n       <use x=\"127.246094\" xlink:href=\"#DejaVuSans-48\"/>\n       <use x=\"190.869141\" xlink:href=\"#DejaVuSans-48\"/>\n      </g>\n     </g>\n    </g>\n    <g id=\"ytick_5\">\n     <g id=\"line2d_15\">\n      <g>\n       <use style=\"stroke:#000000;stroke-width:0.8;\" x=\"53.60625\" xlink:href=\"#md8fd981779\" y=\"97.116026\"/>\n      </g>\n     </g>\n     <g id=\"text_16\">\n      <!-- 1750 -->\n      <g transform=\"translate(21.15625 100.915245)scale(0.1 -0.1)\">\n       <use xlink:href=\"#DejaVuSans-49\"/>\n       <use x=\"63.623047\" xlink:href=\"#DejaVuSans-55\"/>\n       <use x=\"127.246094\" xlink:href=\"#DejaVuSans-53\"/>\n       <use x=\"190.869141\" xlink:href=\"#DejaVuSans-48\"/>\n      </g>\n     </g>\n    </g>\n    <g id=\"ytick_6\">\n     <g id=\"line2d_16\">\n      <g>\n       <use style=\"stroke:#000000;stroke-width:0.8;\" x=\"53.60625\" xlink:href=\"#md8fd981779\" y=\"70.438563\"/>\n      </g>\n     </g>\n     <g id=\"text_17\">\n      <!-- 2000 -->\n      <g transform=\"translate(21.15625 74.237782)scale(0.1 -0.1)\">\n       <use xlink:href=\"#DejaVuSans-50\"/>\n       <use x=\"63.623047\" xlink:href=\"#DejaVuSans-48\"/>\n       <use x=\"127.246094\" xlink:href=\"#DejaVuSans-48\"/>\n       <use x=\"190.869141\" xlink:href=\"#DejaVuSans-48\"/>\n      </g>\n     </g>\n    </g>\n    <g id=\"ytick_7\">\n     <g id=\"line2d_17\">\n      <g>\n       <use style=\"stroke:#000000;stroke-width:0.8;\" x=\"53.60625\" xlink:href=\"#md8fd981779\" y=\"43.7611\"/>\n      </g>\n     </g>\n     <g id=\"text_18\">\n      <!-- 2250 -->\n      <g transform=\"translate(21.15625 47.560318)scale(0.1 -0.1)\">\n       <use xlink:href=\"#DejaVuSans-50\"/>\n       <use x=\"63.623047\" xlink:href=\"#DejaVuSans-50\"/>\n       <use x=\"127.246094\" xlink:href=\"#DejaVuSans-53\"/>\n       <use x=\"190.869141\" xlink:href=\"#DejaVuSans-48\"/>\n      </g>\n     </g>\n    </g>\n    <g id=\"ytick_8\">\n     <g id=\"line2d_18\">\n      <g>\n       <use style=\"stroke:#000000;stroke-width:0.8;\" x=\"53.60625\" xlink:href=\"#md8fd981779\" y=\"17.083636\"/>\n      </g>\n     </g>\n     <g id=\"text_19\">\n      <!-- 2500 -->\n      <g transform=\"translate(21.15625 20.882855)scale(0.1 -0.1)\">\n       <use xlink:href=\"#DejaVuSans-50\"/>\n       <use x=\"63.623047\" xlink:href=\"#DejaVuSans-53\"/>\n       <use x=\"127.246094\" xlink:href=\"#DejaVuSans-48\"/>\n       <use x=\"190.869141\" xlink:href=\"#DejaVuSans-48\"/>\n      </g>\n     </g>\n    </g>\n    <g id=\"text_20\">\n     <!-- oil_rate -->\n     <g transform=\"translate(14.798437 134.41375)rotate(-90)scale(0.1 -0.1)\">\n      <defs>\n       <path d=\"M 30.609375 48.390625 \nQ 23.390625 48.390625 19.1875 42.75 \nQ 14.984375 37.109375 14.984375 27.296875 \nQ 14.984375 17.484375 19.15625 11.84375 \nQ 23.34375 6.203125 30.609375 6.203125 \nQ 37.796875 6.203125 41.984375 11.859375 \nQ 46.1875 17.53125 46.1875 27.296875 \nQ 46.1875 37.015625 41.984375 42.703125 \nQ 37.796875 48.390625 30.609375 48.390625 \nz\nM 30.609375 56 \nQ 42.328125 56 49.015625 48.375 \nQ 55.71875 40.765625 55.71875 27.296875 \nQ 55.71875 13.875 49.015625 6.21875 \nQ 42.328125 -1.421875 30.609375 -1.421875 \nQ 18.84375 -1.421875 12.171875 6.21875 \nQ 5.515625 13.875 5.515625 27.296875 \nQ 5.515625 40.765625 12.171875 48.375 \nQ 18.84375 56 30.609375 56 \nz\n\" id=\"DejaVuSans-111\"/>\n       <path d=\"M 9.421875 54.6875 \nL 18.40625 54.6875 \nL 18.40625 0 \nL 9.421875 0 \nz\nM 9.421875 75.984375 \nL 18.40625 75.984375 \nL 18.40625 64.59375 \nL 9.421875 64.59375 \nz\n\" id=\"DejaVuSans-105\"/>\n       <path d=\"M 9.421875 75.984375 \nL 18.40625 75.984375 \nL 18.40625 0 \nL 9.421875 0 \nz\n\" id=\"DejaVuSans-108\"/>\n       <path d=\"M 50.984375 -16.609375 \nL 50.984375 -23.578125 \nL -0.984375 -23.578125 \nL -0.984375 -16.609375 \nz\n\" id=\"DejaVuSans-95\"/>\n       <path d=\"M 41.109375 46.296875 \nQ 39.59375 47.171875 37.8125 47.578125 \nQ 36.03125 48 33.890625 48 \nQ 26.265625 48 22.1875 43.046875 \nQ 18.109375 38.09375 18.109375 28.8125 \nL 18.109375 0 \nL 9.078125 0 \nL 9.078125 54.6875 \nL 18.109375 54.6875 \nL 18.109375 46.1875 \nQ 20.953125 51.171875 25.484375 53.578125 \nQ 30.03125 56 36.53125 56 \nQ 37.453125 56 38.578125 55.875 \nQ 39.703125 55.765625 41.0625 55.515625 \nz\n\" id=\"DejaVuSans-114\"/>\n      </defs>\n      <use xlink:href=\"#DejaVuSans-111\"/>\n      <use x=\"61.181641\" xlink:href=\"#DejaVuSans-105\"/>\n      <use x=\"88.964844\" xlink:href=\"#DejaVuSans-108\"/>\n      <use x=\"116.748047\" xlink:href=\"#DejaVuSans-95\"/>\n      <use x=\"166.748047\" xlink:href=\"#DejaVuSans-114\"/>\n      <use x=\"207.861328\" xlink:href=\"#DejaVuSans-97\"/>\n      <use x=\"269.140625\" xlink:href=\"#DejaVuSans-116\"/>\n      <use x=\"308.349609\" xlink:href=\"#DejaVuSans-101\"/>\n     </g>\n    </g>\n   </g>\n   <g id=\"line2d_19\">\n    <path clip-path=\"url(#pd25cf8b5f7)\" d=\"M 68.824432 17.083636 \nL 102.622037 54.243215 \nL 136.419642 86.226761 \nL 170.217246 113.755253 \nL 204.107448 137.509402 \nL 237.905052 157.894632 \nL 271.702657 175.440362 \nL 305.500262 190.542112 \nL 339.390463 203.573309 \nL 373.188068 214.756364 \n\" style=\"fill:none;stroke:#1f77b4;stroke-linecap:square;stroke-width:1.5;\"/>\n   </g>\n   <g id=\"line2d_20\"/>\n   <g id=\"patch_3\">\n    <path d=\"M 53.60625 224.64 \nL 53.60625 7.2 \n\" style=\"fill:none;stroke:#000000;stroke-linecap:square;stroke-linejoin:miter;stroke-width:0.8;\"/>\n   </g>\n   <g id=\"patch_4\">\n    <path d=\"M 388.40625 224.64 \nL 388.40625 7.2 \n\" style=\"fill:none;stroke:#000000;stroke-linecap:square;stroke-linejoin:miter;stroke-width:0.8;\"/>\n   </g>\n   <g id=\"patch_5\">\n    <path d=\"M 53.60625 224.64 \nL 388.40625 224.64 \n\" style=\"fill:none;stroke:#000000;stroke-linecap:square;stroke-linejoin:miter;stroke-width:0.8;\"/>\n   </g>\n   <g id=\"patch_6\">\n    <path d=\"M 53.60625 7.2 \nL 388.40625 7.2 \n\" style=\"fill:none;stroke:#000000;stroke-linecap:square;stroke-linejoin:miter;stroke-width:0.8;\"/>\n   </g>\n   <g id=\"legend_1\">\n    <g id=\"patch_7\">\n     <path d=\"M 335.160937 44.55625 \nL 381.40625 44.55625 \nQ 383.40625 44.55625 383.40625 42.55625 \nL 383.40625 14.2 \nQ 383.40625 12.2 381.40625 12.2 \nL 335.160937 12.2 \nQ 333.160937 12.2 333.160937 14.2 \nL 333.160937 42.55625 \nQ 333.160937 44.55625 335.160937 44.55625 \nz\n\" style=\"fill:#ffffff;opacity:0.8;stroke:#cccccc;stroke-linejoin:miter;\"/>\n    </g>\n    <g id=\"text_21\">\n     <!-- iteration -->\n     <g transform=\"translate(337.160937 23.798438)scale(0.1 -0.1)\">\n      <defs>\n       <path d=\"M 54.890625 33.015625 \nL 54.890625 0 \nL 45.90625 0 \nL 45.90625 32.71875 \nQ 45.90625 40.484375 42.875 44.328125 \nQ 39.84375 48.1875 33.796875 48.1875 \nQ 26.515625 48.1875 22.3125 43.546875 \nQ 18.109375 38.921875 18.109375 30.90625 \nL 18.109375 0 \nL 9.078125 0 \nL 9.078125 54.6875 \nL 18.109375 54.6875 \nL 18.109375 46.1875 \nQ 21.34375 51.125 25.703125 53.5625 \nQ 30.078125 56 35.796875 56 \nQ 45.21875 56 50.046875 50.171875 \nQ 54.890625 44.34375 54.890625 33.015625 \nz\n\" id=\"DejaVuSans-110\"/>\n      </defs>\n      <use xlink:href=\"#DejaVuSans-105\"/>\n      <use x=\"27.783203\" xlink:href=\"#DejaVuSans-116\"/>\n      <use x=\"66.992188\" xlink:href=\"#DejaVuSans-101\"/>\n      <use x=\"128.515625\" xlink:href=\"#DejaVuSans-114\"/>\n      <use x=\"169.628906\" xlink:href=\"#DejaVuSans-97\"/>\n      <use x=\"230.908203\" xlink:href=\"#DejaVuSans-116\"/>\n      <use x=\"270.117188\" xlink:href=\"#DejaVuSans-105\"/>\n      <use x=\"297.900391\" xlink:href=\"#DejaVuSans-111\"/>\n      <use x=\"359.082031\" xlink:href=\"#DejaVuSans-110\"/>\n     </g>\n    </g>\n    <g id=\"line2d_21\">\n     <path d=\"M 341.102344 34.976562 \nL 361.102344 34.976562 \n\" style=\"fill:none;stroke:#1f77b4;stroke-linecap:square;stroke-width:1.5;\"/>\n    </g>\n    <g id=\"line2d_22\"/>\n    <g id=\"text_22\">\n     <!-- 0 -->\n     <g transform=\"translate(369.102344 38.476562)scale(0.1 -0.1)\">\n      <use xlink:href=\"#DejaVuSans-48\"/>\n     </g>\n    </g>\n   </g>\n  </g>\n </g>\n <defs>\n  <clipPath id=\"pd25cf8b5f7\">\n   <rect height=\"217.44\" width=\"334.8\" x=\"53.60625\" y=\"7.2\"/>\n  </clipPath>\n </defs>\n</svg>\n",
      "image/png": "[encoded data removed]"
     },
     "metadata": {
      "needs_background": "light"
     }
    }
   ],
   "source": [
    "sns.lineplot(data=fore1,  x=fore1.index.to_timestamp(), y='oil_rate', hue='iteration')"
   ]
  },
  {
   "cell_type": "code",
   "execution_count": 7,
   "metadata": {},
   "outputs": [],
   "source": [
    "c1 = p1.generate_cashflow()"
   ]
  },
  {
   "cell_type": "code",
   "execution_count": 8,
   "metadata": {},
   "outputs": [
    {
     "output_type": "execute_result",
     "data": {
      "text/plain": [
       "            income  total_income  fix_opex     var_opex   total_opex    capex  \\\n",
       "2021  5.084159e+07  5.084159e+07      -5.0 -4236.799050 -4241.799050 -70000.0   \n",
       "2022  6.854061e+07  6.854061e+07      -5.0 -3941.722894 -3946.722894      0.0   \n",
       "2023  3.944636e+07  3.944636e+07      -5.0 -3392.672336 -3397.672336      0.0   \n",
       "2024  2.007352e+07  2.007352e+07      -5.0 -2923.529509 -2928.529509      0.0   \n",
       "2025  1.521732e+07  1.521732e+07      -5.0 -2516.305167 -2521.305167      0.0   \n",
       "2026  7.284083e+06  7.284083e+06      -5.0 -2162.374561 -2167.374561      0.0   \n",
       "2027  7.923985e+06  7.923985e+06      -5.0 -1861.173032 -1866.173032      0.0   \n",
       "2028  7.540440e+06  7.540440e+06      -5.0 -1603.807778 -1608.807778      0.0   \n",
       "2029  7.702069e+06  7.702069e+06      -5.0 -1380.410147 -1385.410147      0.0   \n",
       "2030  2.416958e+06  2.416958e+06      -5.0 -1275.050933 -1280.050933      0.0   \n",
       "\n",
       "      total_capex           fcf       cum_fcf  \n",
       "2021     -70000.0  5.076735e+07  5.076735e+07  \n",
       "2022          0.0  6.853667e+07  1.193040e+08  \n",
       "2023          0.0  3.944297e+07  1.587470e+08  \n",
       "2024          0.0  2.007059e+07  1.788176e+08  \n",
       "2025          0.0  1.521480e+07  1.940324e+08  \n",
       "2026          0.0  7.281915e+06  2.013143e+08  \n",
       "2027          0.0  7.922119e+06  2.092364e+08  \n",
       "2028          0.0  7.538831e+06  2.167752e+08  \n",
       "2029          0.0  7.700684e+06  2.244759e+08  \n",
       "2030          0.0  2.415677e+06  2.268916e+08  "
      ],
      "text/html": "<div>\n<style scoped>\n    .dataframe tbody tr th:only-of-type {\n        vertical-align: middle;\n    }\n\n    .dataframe tbody tr th {\n        vertical-align: top;\n    }\n\n    .dataframe thead th {\n        text-align: right;\n    }\n</style>\n<table border=\"1\" class=\"dataframe\">\n  <thead>\n    <tr style=\"text-align: right;\">\n      <th></th>\n      <th>income</th>\n      <th>total_income</th>\n      <th>fix_opex</th>\n      <th>var_opex</th>\n      <th>total_opex</th>\n      <th>capex</th>\n      <th>total_capex</th>\n      <th>fcf</th>\n      <th>cum_fcf</th>\n    </tr>\n  </thead>\n  <tbody>\n    <tr>\n      <th>2021</th>\n      <td>5.084159e+07</td>\n      <td>5.084159e+07</td>\n      <td>-5.0</td>\n      <td>-4236.799050</td>\n      <td>-4241.799050</td>\n      <td>-70000.0</td>\n      <td>-70000.0</td>\n      <td>5.076735e+07</td>\n      <td>5.076735e+07</td>\n    </tr>\n    <tr>\n      <th>2022</th>\n      <td>6.854061e+07</td>\n      <td>6.854061e+07</td>\n      <td>-5.0</td>\n      <td>-3941.722894</td>\n      <td>-3946.722894</td>\n      <td>0.0</td>\n      <td>0.0</td>\n      <td>6.853667e+07</td>\n      <td>1.193040e+08</td>\n    </tr>\n    <tr>\n      <th>2023</th>\n      <td>3.944636e+07</td>\n      <td>3.944636e+07</td>\n      <td>-5.0</td>\n      <td>-3392.672336</td>\n      <td>-3397.672336</td>\n      <td>0.0</td>\n      <td>0.0</td>\n      <td>3.944297e+07</td>\n      <td>1.587470e+08</td>\n    </tr>\n    <tr>\n      <th>2024</th>\n      <td>2.007352e+07</td>\n      <td>2.007352e+07</td>\n      <td>-5.0</td>\n      <td>-2923.529509</td>\n      <td>-2928.529509</td>\n      <td>0.0</td>\n      <td>0.0</td>\n      <td>2.007059e+07</td>\n      <td>1.788176e+08</td>\n    </tr>\n    <tr>\n      <th>2025</th>\n      <td>1.521732e+07</td>\n      <td>1.521732e+07</td>\n      <td>-5.0</td>\n      <td>-2516.305167</td>\n      <td>-2521.305167</td>\n      <td>0.0</td>\n      <td>0.0</td>\n      <td>1.521480e+07</td>\n      <td>1.940324e+08</td>\n    </tr>\n    <tr>\n      <th>2026</th>\n      <td>7.284083e+06</td>\n      <td>7.284083e+06</td>\n      <td>-5.0</td>\n      <td>-2162.374561</td>\n      <td>-2167.374561</td>\n      <td>0.0</td>\n      <td>0.0</td>\n      <td>7.281915e+06</td>\n      <td>2.013143e+08</td>\n    </tr>\n    <tr>\n      <th>2027</th>\n      <td>7.923985e+06</td>\n      <td>7.923985e+06</td>\n      <td>-5.0</td>\n      <td>-1861.173032</td>\n      <td>-1866.173032</td>\n      <td>0.0</td>\n      <td>0.0</td>\n      <td>7.922119e+06</td>\n      <td>2.092364e+08</td>\n    </tr>\n    <tr>\n      <th>2028</th>\n      <td>7.540440e+06</td>\n      <td>7.540440e+06</td>\n      <td>-5.0</td>\n      <td>-1603.807778</td>\n      <td>-1608.807778</td>\n      <td>0.0</td>\n      <td>0.0</td>\n      <td>7.538831e+06</td>\n      <td>2.167752e+08</td>\n    </tr>\n    <tr>\n      <th>2029</th>\n      <td>7.702069e+06</td>\n      <td>7.702069e+06</td>\n      <td>-5.0</td>\n      <td>-1380.410147</td>\n      <td>-1385.410147</td>\n      <td>0.0</td>\n      <td>0.0</td>\n      <td>7.700684e+06</td>\n      <td>2.244759e+08</td>\n    </tr>\n    <tr>\n      <th>2030</th>\n      <td>2.416958e+06</td>\n      <td>2.416958e+06</td>\n      <td>-5.0</td>\n      <td>-1275.050933</td>\n      <td>-1280.050933</td>\n      <td>0.0</td>\n      <td>0.0</td>\n      <td>2.415677e+06</td>\n      <td>2.268916e+08</td>\n    </tr>\n  </tbody>\n</table>\n</div>"
     },
     "metadata": {},
     "execution_count": 8
    }
   ],
   "source": [
    "c1[0].fcf()"
   ]
  },
  {
   "cell_type": "code",
   "execution_count": 9,
   "metadata": {},
   "outputs": [
    {
     "output_type": "execute_result",
     "data": {
      "text/plain": [
       "              npv  iteration\n",
       "0.0  2.268916e+08          0\n",
       "0.0  1.297280e+08          1\n",
       "0.0  2.435373e+08          2\n",
       "0.0  2.443090e+08          3\n",
       "0.0  2.548397e+08          4"
      ],
      "text/html": "<div>\n<style scoped>\n    .dataframe tbody tr th:only-of-type {\n        vertical-align: middle;\n    }\n\n    .dataframe tbody tr th {\n        vertical-align: top;\n    }\n\n    .dataframe thead th {\n        text-align: right;\n    }\n</style>\n<table border=\"1\" class=\"dataframe\">\n  <thead>\n    <tr style=\"text-align: right;\">\n      <th></th>\n      <th>npv</th>\n      <th>iteration</th>\n    </tr>\n  </thead>\n  <tbody>\n    <tr>\n      <th>0.0</th>\n      <td>2.268916e+08</td>\n      <td>0</td>\n    </tr>\n    <tr>\n      <th>0.0</th>\n      <td>1.297280e+08</td>\n      <td>1</td>\n    </tr>\n    <tr>\n      <th>0.0</th>\n      <td>2.435373e+08</td>\n      <td>2</td>\n    </tr>\n    <tr>\n      <th>0.0</th>\n      <td>2.443090e+08</td>\n      <td>3</td>\n    </tr>\n    <tr>\n      <th>0.0</th>\n      <td>2.548397e+08</td>\n      <td>4</td>\n    </tr>\n  </tbody>\n</table>\n</div>"
     },
     "metadata": {},
     "execution_count": 9
    }
   ],
   "source": [
    "p1.npv([0.0])"
   ]
  },
  {
   "cell_type": "code",
   "execution_count": 10,
   "metadata": {},
   "outputs": [
    {
     "output_type": "execute_result",
     "data": {
      "text/plain": [
       "   irr\n",
       "0  NaN\n",
       "1  NaN\n",
       "2  NaN\n",
       "3  NaN\n",
       "4  NaN"
      ],
      "text/html": "<div>\n<style scoped>\n    .dataframe tbody tr th:only-of-type {\n        vertical-align: middle;\n    }\n\n    .dataframe tbody tr th {\n        vertical-align: top;\n    }\n\n    .dataframe thead th {\n        text-align: right;\n    }\n</style>\n<table border=\"1\" class=\"dataframe\">\n  <thead>\n    <tr style=\"text-align: right;\">\n      <th></th>\n      <th>irr</th>\n    </tr>\n  </thead>\n  <tbody>\n    <tr>\n      <th>0</th>\n      <td>NaN</td>\n    </tr>\n    <tr>\n      <th>1</th>\n      <td>NaN</td>\n    </tr>\n    <tr>\n      <th>2</th>\n      <td>NaN</td>\n    </tr>\n    <tr>\n      <th>3</th>\n      <td>NaN</td>\n    </tr>\n    <tr>\n      <th>4</th>\n      <td>NaN</td>\n    </tr>\n  </tbody>\n</table>\n</div>"
     },
     "metadata": {},
     "execution_count": 10
    }
   ],
   "source": [
    "p1.irr(freq_output='A')"
   ]
  },
  {
   "cell_type": "code",
   "execution_count": 11,
   "metadata": {},
   "outputs": [
    {
     "output_type": "execute_result",
     "data": {
      "text/plain": [
       "5"
      ]
     },
     "metadata": {},
     "execution_count": 11
    }
   ],
   "source": [
    "len(c1)"
   ]
  },
  {
   "cell_type": "code",
   "execution_count": null,
   "metadata": {},
   "outputs": [],
   "source": []
  }
 ]
}