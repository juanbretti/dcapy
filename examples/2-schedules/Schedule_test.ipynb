{
 "cells": [
  {
   "cell_type": "code",
   "execution_count": 1,
   "metadata": {},
   "outputs": [
    {
     "name": "stdout",
     "output_type": "stream",
     "text": [
      "/home/scuervo/Documents/dev/dcapy\n",
      "/home/scuervo/anaconda3/envs/res/bin/python\n"
     ]
    }
   ],
   "source": [
    "import os\n",
    "path = os.path.abspath(os.path.join('..'))\n",
    "print(path)\n",
    "import sys\n",
    "\n",
    "sys.path.insert(0,path)\n",
    "print(sys.executable)"
   ]
  },
  {
   "cell_type": "code",
   "execution_count": 2,
   "metadata": {},
   "outputs": [],
   "source": [
    "from dcapy import dca\n",
    "from dcapy.models import Period, Schedule, Scenario\n",
    "import numpy as np \n",
    "import pandas as pd\n",
    "from datetime import date\n"
   ]
  },
  {
   "cell_type": "code",
   "execution_count": 3,
   "metadata": {},
   "outputs": [],
   "source": [
    "dca1 = dca.Arps(ti=date(2021,2,1), di=0.3, freq_di='A', qi=500, b=0)\n",
    "dca2 = dca.Arps(ti=0, di=0.3, freq_di='A', qi=500, b=0)"
   ]
  },
  {
   "cell_type": "code",
   "execution_count": 4,
   "metadata": {},
   "outputs": [],
   "source": [
    "pd1 = dict(name='pdp',dca=dca1, start=date(2021,2,1), end=date(2022,1,1))\n",
    "pd2 = dict(name='pdnp',dca=dca2, start=1, end=10)\n",
    "p1= Period(**pd1)\n",
    "p2= Period(**pd2)"
   ]
  },
  {
   "cell_type": "code",
   "execution_count": 5,
   "metadata": {},
   "outputs": [],
   "source": [
    "s1 =Scenario(name='base',periods=[p1,p2])"
   ]
  },
  {
   "cell_type": "code",
   "execution_count": 6,
   "metadata": {},
   "outputs": [
    {
     "data": {
      "text/plain": [
       "Scenario(name='base', periods=[Period(name='pdp', dca=Declination \n",
       " Ti: 2021-02-01 \n",
       " Qi: 500.0 bbl/d \n",
       " Di: 0.3 A \n",
       " b: 0.0, start=datetime.date(2021, 2, 1), end=datetime.date(2022, 1, 1), time_list=None, freq_input='M', freq_output='M', rate_limit=None, cum_limit=None, cashflow_params=None, cashflow_out=None, depends=None, forecast=None), Period(name='pdnp', dca=Declination \n",
       " Ti: 0 \n",
       " Qi: 500.0 bbl/d \n",
       " Di: 0.3 A \n",
       " b: 0.0, start=1, end=10, time_list=None, freq_input='M', freq_output='M', rate_limit=None, cum_limit=None, cashflow_params=None, cashflow_out=None, depends=None, forecast=None)])"
      ]
     },
     "execution_count": 6,
     "metadata": {},
     "output_type": "execute_result"
    }
   ],
   "source": [
    "s1"
   ]
  },
  {
   "cell_type": "code",
   "execution_count": 7,
   "metadata": {},
   "outputs": [
    {
     "data": {
      "text/plain": [
       "Period(name='pdnp', dca=Declination \n",
       " Ti: 0 \n",
       " Qi: 500.0 bbl/d \n",
       " Di: 0.3 A \n",
       " b: 0.0, start=1, end=10, time_list=None, freq_input='M', freq_output='M', rate_limit=None, cum_limit=None, cashflow_params=None, cashflow_out=None, depends=None, forecast=None)"
      ]
     },
     "execution_count": 7,
     "metadata": {},
     "output_type": "execute_result"
    }
   ],
   "source": [
    "p2"
   ]
  },
  {
   "cell_type": "code",
   "execution_count": 8,
   "metadata": {},
   "outputs": [
    {
     "data": {
      "text/plain": [
       "{'name': 'pdp',\n",
       " 'dca': {'ti': '2021-01-01',\n",
       "  'di': 0.3,\n",
       "  'freq_di': 'A',\n",
       "  'qi': [800, 500],\n",
       "  'b': 0},\n",
       " 'start': '2021-01-01',\n",
       " 'end': '2022-01-01'}"
      ]
     },
     "execution_count": 8,
     "metadata": {},
     "output_type": "execute_result"
    }
   ],
   "source": [
    "per ={\n",
    "    'name':'pdp',\n",
    "    'dca':{\n",
    "        'ti':'2021-01-01',\n",
    "        'di':0.3,\n",
    "        'freq_di':'A',\n",
    "        'qi':[800,500],\n",
    "        'b':0\n",
    "    },\n",
    "    'start':'2021-01-01',\n",
    "    'end':'2022-01-01'\n",
    "}\n",
    "per"
   ]
  },
  {
   "cell_type": "code",
   "execution_count": 9,
   "metadata": {},
   "outputs": [
    {
     "data": {
      "text/plain": [
       "True"
      ]
     },
     "execution_count": 9,
     "metadata": {},
     "output_type": "execute_result"
    }
   ],
   "source": [
    "Period(**per).depends is None"
   ]
  },
  {
   "cell_type": "code",
   "execution_count": 10,
   "metadata": {},
   "outputs": [
    {
     "name": "stdout",
     "output_type": "stream",
     "text": [
      "not exist\n"
     ]
    }
   ],
   "source": [
    "wor = None\n",
    "if wor:\n",
    "    print('exist')\n",
    "else:\n",
    "    print('not exist')"
   ]
  },
  {
   "cell_type": "code",
   "execution_count": null,
   "metadata": {},
   "outputs": [],
   "source": []
  }
 ],
 "metadata": {
  "kernelspec": {
   "display_name": "Python 3",
   "language": "python",
   "name": "python3"
  },
  "language_info": {
   "codemirror_mode": {
    "name": "ipython",
    "version": 3
   },
   "file_extension": ".py",
   "mimetype": "text/x-python",
   "name": "python",
   "nbconvert_exporter": "python",
   "pygments_lexer": "ipython3",
   "version": "3.8.6"
  }
 },
 "nbformat": 4,
 "nbformat_minor": 4
}
