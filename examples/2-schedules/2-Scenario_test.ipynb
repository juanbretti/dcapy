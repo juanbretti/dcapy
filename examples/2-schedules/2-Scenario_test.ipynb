{
 "cells": [
  {
   "cell_type": "code",
   "execution_count": 1,
   "metadata": {},
   "outputs": [],
   "source": [
    "import os\n",
    "#path = os.path.abspath(os.path.join('..','..'))\n",
    "#print(path)\n",
    "#import sys\n",
    "\n",
    "#sys.path.insert(0,path)\n",
    "#print(sys.executable)\n",
    "\n",
    "from dcapy import dca\n",
    "from dcapy.models import CashFlow, ChgPts, CashFlowModel, CashFlowInput, Period, Scenario\n",
    "\n",
    "import numpy as np \n",
    "import pandas as pd\n",
    "from datetime import date\n",
    "import matplotlib.pyplot as plt\n",
    "import seaborn as sns \n",
    "from scipy import stats\n",
    "import seaborn as sns"
   ]
  },
  {
   "cell_type": "code",
   "execution_count": 2,
   "metadata": {},
   "outputs": [],
   "source": [
    "cashflow_params = {\n",
    "        'params_list': [\n",
    "            {\n",
    "                'name':'fix_opex',\n",
    "                'const_value':-5000,\n",
    "                'target':'opex',\n",
    "            },\n",
    "            {\n",
    "                'name':'var_opex',\n",
    "                'const_value':-5,\n",
    "                'target':'opex',\n",
    "                'multiply':'oil_volume'\n",
    "            },\n",
    "            {\n",
    "                'name':'income',\n",
    "                'const_value':60,\n",
    "                'target':'income',\n",
    "                'multiply':'oil_volume'\n",
    "            }\n",
    "        ]\n",
    "    }"
   ]
  },
  {
   "cell_type": "code",
   "execution_count": 3,
   "metadata": {},
   "outputs": [
    {
     "output_type": "execute_result",
     "data": {
      "text/plain": [
       "Period(name='pdp', dca=Declination \n",
       " Ti: 2021-01-01 \n",
       " Qi: [80.0, 100.0, 1000.0] bbl/d \n",
       " Di: 0.3 A \n",
       " b: 0.0, start=datetime.date(2021, 1, 1), end=datetime.date(2022, 1, 1), time_list=None, freq_input='M', freq_output='M', rate_limit=None, cum_limit=None, iter=1, ppf=None, cashflow_params=None, cashflow=None, depends=None, forecast=None)"
      ]
     },
     "metadata": {},
     "execution_count": 3
    }
   ],
   "source": [
    "p1_dict = {\n",
    "    'name':'pdp',\n",
    "    'dca': {\n",
    "        'ti':'2021-01-01',\n",
    "        'di':0.3,\n",
    "        'freq_di':'A',\n",
    "        'qi':[80,100,1000],\n",
    "        'b':0,\n",
    "        'fluid_rate':1200\n",
    "    },\n",
    "    'start':'2021-01-01',\n",
    "    'end':'2022-01-01',\n",
    "    'freq_input':'M',\n",
    "    'freq_output':'M'\n",
    "}\n",
    "\n",
    "\n",
    "\n",
    "\n",
    "p1 = Period(**p1_dict)\n",
    "p1"
   ]
  },
  {
   "cell_type": "code",
   "execution_count": 4,
   "metadata": {},
   "outputs": [
    {
     "output_type": "execute_result",
     "data": {
      "text/plain": [
       "Period(name='pud', dca=Declination \n",
       " Ti: 2022-01-01 \n",
       " Qi: 300.0 bbl/d \n",
       " Di: 0.3 A \n",
       " b: 0.0, start=datetime.date(2022, 1, 1), end=datetime.date(2023, 1, 1), time_list=None, freq_input='M', freq_output='M', rate_limit=None, cum_limit=None, iter=1, ppf=None, cashflow_params=None, cashflow=None, depends=None, forecast=None)"
      ]
     },
     "metadata": {},
     "execution_count": 4
    }
   ],
   "source": [
    "p2_dict = {\n",
    "    'name':'pud',\n",
    "    'dca': {\n",
    "        'ti':'2022-01-01',\n",
    "        'di':0.3,\n",
    "        'freq_di':'A',\n",
    "        'qi':300,\n",
    "        'b':0,\n",
    "        'fluid_rate':600\n",
    "    },\n",
    "    'start':'2022-01-01',\n",
    "    'end':'2023-01-01',\n",
    "    'freq_input':'M',\n",
    "    'freq_output':'M'\n",
    "}\n",
    "\n",
    "\n",
    "\n",
    "\n",
    "p2 = Period(**p2_dict)\n",
    "p2"
   ]
  },
  {
   "cell_type": "code",
   "execution_count": 5,
   "metadata": {},
   "outputs": [
    {
     "output_type": "execute_result",
     "data": {
      "text/plain": [
       "Scenario(name='base', periods=[Period(name='pdp', dca=Declination \n",
       " Ti: 2021-01-01 \n",
       " Qi: [80.0, 100.0, 1000.0] bbl/d \n",
       " Di: 0.3 A \n",
       " b: 0.0, start=datetime.date(2021, 1, 1), end=datetime.date(2022, 1, 1), time_list=None, freq_input='M', freq_output='M', rate_limit=None, cum_limit=None, iter=1, ppf=None, cashflow_params=None, cashflow=None, depends=None, forecast=None), Period(name='pud', dca=Declination \n",
       " Ti: 2022-01-01 \n",
       " Qi: 300.0 bbl/d \n",
       " Di: 0.3 A \n",
       " b: 0.0, start=datetime.date(2022, 1, 1), end=datetime.date(2023, 1, 1), time_list=None, freq_input='M', freq_output='M', rate_limit=None, cum_limit=None, iter=1, ppf=None, cashflow_params=None, cashflow=None, depends=None, forecast=None)], cashflow_params=CashFlowInput(params_list=[CashFlowParams(name='fix_opex', const_value=-5000.0, array_values=None, target='opex', multiply=None, agg='sum', wi=1), CashFlowParams(name='var_opex', const_value=-5.0, array_values=None, target='opex', multiply='oil_volume', agg='sum', wi=1), CashFlowParams(name='income', const_value=60.0, array_values=None, target='income', multiply='oil_volume', agg='sum', wi=1)]), cashflow=None, forecast=None)"
      ]
     },
     "metadata": {},
     "execution_count": 5
    }
   ],
   "source": [
    "s1 = Scenario(name='base', periods=[p1,p2], cashflow_params=cashflow_params)\n",
    "s1"
   ]
  },
  {
   "cell_type": "code",
   "execution_count": 6,
   "metadata": {},
   "outputs": [
    {
     "output_type": "stream",
     "name": "stderr",
     "text": [
      "/home/scuervo91/dev/apps/dcapy/dcapy/dca/arps.py:63: RuntimeWarning: divide by zero encountered in true_divide\n  return qi/np.power(1+b*di*time_array,1/b)\n/home/scuervo91/dev/apps/dcapy/dcapy/dca/arps.py:80: RuntimeWarning: divide by zero encountered in true_divide\n  g = np.power(b*di*time_array+1,(b-1)/b)\n/home/scuervo91/dev/apps/dcapy/dcapy/dca/arps.py:81: RuntimeWarning: divide by zero encountered in true_divide\n  h = np.power(b*di*ti+1,(b-1)/b)\n/home/scuervo91/dev/apps/dcapy/dcapy/dca/arps.py:63: RuntimeWarning: divide by zero encountered in true_divide\n  return qi/np.power(1+b*di*time_array,1/b)\n/home/scuervo91/dev/apps/dcapy/dcapy/dca/arps.py:80: RuntimeWarning: divide by zero encountered in true_divide\n  g = np.power(b*di*time_array+1,(b-1)/b)\n/home/scuervo91/dev/apps/dcapy/dcapy/dca/arps.py:81: RuntimeWarning: divide by zero encountered in true_divide\n  h = np.power(b*di*ti+1,(b-1)/b)\n"
     ]
    },
    {
     "output_type": "execute_result",
     "data": {
      "text/plain": [
       "            oil_rate        oil_cum  iteration    oil_volume  fluid_rate  \\\n",
       "date                                                                       \n",
       "2021-01    80.000000       0.000000          0      0.000000      1200.0   \n",
       "2021-02    77.987393    2448.672116          0   2448.672116      1200.0   \n",
       "2021-03    76.213109    4607.383867          0   2158.711751      1200.0   \n",
       "2021-04    74.295771    6940.145308          0   2332.761441      1200.0   \n",
       "2021-05    72.486222    9141.763651          0   2201.618343      1200.0   \n",
       "2021-06    70.662643   11360.451023          0   2218.687372      1200.0   \n",
       "2021-07    68.941582   13454.408309          0   2093.957286      1200.0   \n",
       "2021-08    67.207178   15564.599934          0   2110.191625      1200.0   \n",
       "2021-09    65.516407   17621.704223          0   2057.104289      1200.0   \n",
       "2021-10    63.920689   19563.162298          0   1941.458075      1200.0   \n",
       "2021-11    62.312598   21519.672393          0   1956.510095      1200.0   \n",
       "2021-12    60.794911   23366.191475          0   1846.519082      1200.0   \n",
       "2022-01    59.265458   25227.026520          0   1860.835045      1200.0   \n",
       "2021-01   100.000000       0.000000          1      0.000000      1200.0   \n",
       "2021-02    97.484241    3060.840145          1   3060.840145      1200.0   \n",
       "2021-03    95.266386    5759.229834          1   2698.389689      1200.0   \n",
       "2021-04    92.869714    8675.181635          1   2915.951801      1200.0   \n",
       "2021-05    90.607777   11427.204563          1   2752.022929      1200.0   \n",
       "2021-06    88.328304   14200.563778          1   2773.359215      1200.0   \n",
       "2021-07    86.176978   16818.010386          1   2617.446608      1200.0   \n",
       "2021-08    84.008973   19455.749917          1   2637.739531      1200.0   \n",
       "2021-09    81.895509   22027.130278          1   2571.380361      1200.0   \n",
       "2021-10    79.900861   24453.952872          1   2426.822594      1200.0   \n",
       "2021-11    77.890748   26899.590491          1   2445.637619      1200.0   \n",
       "2021-12    75.993639   29207.739344          1   2308.148853      1200.0   \n",
       "2022-01    74.081822   31533.783150          1   2326.043807      1200.0   \n",
       "2021-01  1000.000000       0.000000          2      0.000000      1200.0   \n",
       "2021-02   974.842410   30608.401448          2  30608.401448      1200.0   \n",
       "2021-03   952.663864   57592.298340          2  26983.896891      1200.0   \n",
       "2021-04   928.697137   86751.816346          2  29159.518006      1200.0   \n",
       "2021-05   906.077771  114272.045635          2  27520.229289      1200.0   \n",
       "2021-06   883.283037  142005.637784          2  27733.592149      1200.0   \n",
       "2021-07   861.769778  168180.103864          2  26174.466080      1200.0   \n",
       "2021-08   840.089727  194557.499175          2  26377.395310      1200.0   \n",
       "2021-09   818.955094  220271.302782          2  25713.803608      1200.0   \n",
       "2021-10   799.008607  244539.528719          2  24268.225937      1200.0   \n",
       "2021-11   778.907475  268995.904908          2  24456.376190      1200.0   \n",
       "2021-12   759.936389  292077.393435          2  23081.488527      1200.0   \n",
       "2022-01   740.818221  315337.831504          2  23260.438069      1200.0   \n",
       "2022-01   300.000000       0.000000          0      0.000000       600.0   \n",
       "2022-02   292.452723    9182.520435          0   9182.520435       600.0   \n",
       "2022-03   285.799159   17277.689502          0   8095.169067       600.0   \n",
       "2022-04   278.609141   26025.544904          0   8747.855402       600.0   \n",
       "2022-05   271.823331   34281.613690          0   8256.068787       600.0   \n",
       "2022-06   264.984911   42601.691335          0   8320.077645       600.0   \n",
       "2022-07   258.530933   50454.031159          0   7852.339824       600.0   \n",
       "2022-08   252.026918   58367.249752          0   7913.218593       600.0   \n",
       "2022-09   245.686528   66081.390835          0   7714.141082       600.0   \n",
       "2022-10   239.702582   73361.858616          0   7280.467781       600.0   \n",
       "2022-11   233.672243   80698.771473          0   7336.912857       600.0   \n",
       "2022-12   227.980917   87623.218031          0   6924.446558       600.0   \n",
       "2023-01   222.245466   94601.349451          0   6978.131421       600.0   \n",
       "\n",
       "          water_rate       bsw        wor      water_cum  fluid_cum  \\\n",
       "date                                                                  \n",
       "2021-01  1120.000000  0.933333  14.000000       0.000000        0.0   \n",
       "2021-02  1122.012607  0.935011  14.387102   34782.390824    37200.0   \n",
       "2021-03  1123.786891  0.936489  14.745323   66248.423768    70800.0   \n",
       "2021-04  1125.704229  0.938087  15.151660  101145.254867   108000.0   \n",
       "2021-05  1127.513778  0.939595  15.554870  134970.668217   144000.0   \n",
       "2021-06  1129.337357  0.941114  15.982099  169980.126285   181200.0   \n",
       "2021-07  1131.058418  0.942549  16.406041  203911.878818   217200.0   \n",
       "2021-08  1132.792822  0.943994  16.855236  239028.456296   254400.0   \n",
       "2021-09  1134.483593  0.945403  17.316023  274197.447664   291600.0   \n",
       "2021-10  1136.079311  0.946733  17.773265  308279.827008   327600.0   \n",
       "2021-11  1137.687402  0.948073  18.257743  343548.136469   364800.0   \n",
       "2021-12  1139.205089  0.949338  18.738494  377724.289136   400800.0   \n",
       "2022-01  1140.734542  0.950612  19.247882  413087.059948   438000.0   \n",
       "2021-01  1100.000000  0.916667  11.000000       0.000000        0.0   \n",
       "2021-02  1102.515759  0.918763  11.309682   34177.988530    37200.0   \n",
       "2021-03  1104.733614  0.920611  11.596258   65110.529709    70800.0   \n",
       "2021-04  1107.130286  0.922609  11.921328   99431.568584   108000.0   \n",
       "2021-05  1109.392223  0.924494  12.243896  132713.335272   144000.0   \n",
       "2021-06  1111.671696  0.926393  12.585679  167175.157856   181200.0   \n",
       "2021-07  1113.823022  0.928186  12.924833  200589.848523   217200.0   \n",
       "2021-08  1115.991027  0.929993  13.284188  235185.570370   254400.0   \n",
       "2021-09  1118.104491  0.931754  13.652818  269846.809580   291600.0   \n",
       "2021-10  1120.099139  0.933416  14.018612  303449.783760   327600.0   \n",
       "2021-11  1122.109252  0.935091  14.406194  338235.170587   364800.0   \n",
       "2021-12  1124.006361  0.936672  14.790795  371955.361420   400800.0   \n",
       "2022-01  1125.918178  0.938265  15.198306  406858.824936   438000.0   \n",
       "2021-01   200.000000  0.166667   0.200000       0.000000        0.0   \n",
       "2021-02   225.157590  0.187631   0.230968    6979.885297    37200.0   \n",
       "2021-03   247.336136  0.206113   0.259626   13905.297095    70800.0   \n",
       "2021-04   271.302863  0.226086   0.292133   22315.685840   108000.0   \n",
       "2021-05   293.922229  0.244935   0.324390   31133.352719   144000.0   \n",
       "2021-06   316.716963  0.263931   0.358568   40951.578558   181200.0   \n",
       "2021-07   338.230222  0.281859   0.392483   51098.485229   217200.0   \n",
       "2021-08   359.910273  0.299925   0.428419   62255.703701   254400.0   \n",
       "2021-09   381.044906  0.317537   0.465282   74068.095799   291600.0   \n",
       "2021-10   400.991393  0.334159   0.501861   86097.837603   327600.0   \n",
       "2021-11   421.092525  0.350910   0.540619   99151.705865   364800.0   \n",
       "2021-12   440.063611  0.366720   0.579080  112353.614196   400800.0   \n",
       "2022-01   459.181779  0.382651   0.619831  126588.249355   438000.0   \n",
       "2022-01   300.000000  0.500000   1.000000       0.000000        0.0   \n",
       "2022-02   307.547277  0.512579   1.051614    9533.965589    18600.0   \n",
       "2022-03   314.200841  0.523668   1.099376   18331.589128    35400.0   \n",
       "2022-04   321.390859  0.535651   1.153555   28294.705752    54000.0   \n",
       "2022-05   328.176669  0.546961   1.207316   38140.005816    72000.0   \n",
       "2022-06   335.015089  0.558358   1.264280   48525.473567    90600.0   \n",
       "2022-07   341.469067  0.569115   1.320805   58769.545569   108600.0   \n",
       "2022-08   347.973082  0.579955   1.380698   69556.711110   127200.0   \n",
       "2022-09   354.313472  0.590522   1.442136   80540.428740   145800.0   \n",
       "2022-10   360.297418  0.600496   1.503102   91349.351281   163800.0   \n",
       "2022-11   366.327757  0.610546   1.567699  102705.511760   182400.0   \n",
       "2022-12   372.019083  0.620032   1.631799  113866.084259   200400.0   \n",
       "2023-01   377.754534  0.629591   1.699718  125576.474807   219000.0   \n",
       "\n",
       "         water_volume  fluid_volume period scenario  \n",
       "date                                                 \n",
       "2021-01      0.000000           0.0    pdp     base  \n",
       "2021-02  34782.390824       37200.0    pdp     base  \n",
       "2021-03  31466.032944       33600.0    pdp     base  \n",
       "2021-04  34896.831100       37200.0    pdp     base  \n",
       "2021-05  33825.413350       36000.0    pdp     base  \n",
       "2021-06  35009.458067       37200.0    pdp     base  \n",
       "2021-07  33931.752534       36000.0    pdp     base  \n",
       "2021-08  35116.577478       37200.0    pdp     base  \n",
       "2021-09  35168.991368       37200.0    pdp     base  \n",
       "2021-10  34082.379344       36000.0    pdp     base  \n",
       "2021-11  35268.309461       37200.0    pdp     base  \n",
       "2021-12  34176.152667       36000.0    pdp     base  \n",
       "2022-01  35362.770813       37200.0    pdp     base  \n",
       "2021-01      0.000000           0.0    pdp     base  \n",
       "2021-02  34177.988530       37200.0    pdp     base  \n",
       "2021-03  30932.541180       33600.0    pdp     base  \n",
       "2021-04  34321.038875       37200.0    pdp     base  \n",
       "2021-05  33281.766688       36000.0    pdp     base  \n",
       "2021-06  34461.822584       37200.0    pdp     base  \n",
       "2021-07  33414.690667       36000.0    pdp     base  \n",
       "2021-08  34595.721847       37200.0    pdp     base  \n",
       "2021-09  34661.239210       37200.0    pdp     base  \n",
       "2021-10  33602.974180       36000.0    pdp     base  \n",
       "2021-11  34785.386826       37200.0    pdp     base  \n",
       "2021-12  33720.190833       36000.0    pdp     base  \n",
       "2022-01  34903.463516       37200.0    pdp     base  \n",
       "2021-01      0.000000           0.0    pdp     base  \n",
       "2021-02   6979.885297       37200.0    pdp     base  \n",
       "2021-03   6925.411797       33600.0    pdp     base  \n",
       "2021-04   8410.388745       37200.0    pdp     base  \n",
       "2021-05   8817.666879       36000.0    pdp     base  \n",
       "2021-06   9818.225839       37200.0    pdp     base  \n",
       "2021-07  10146.906671       36000.0    pdp     base  \n",
       "2021-08  11157.218472       37200.0    pdp     base  \n",
       "2021-09  11812.392098       37200.0    pdp     base  \n",
       "2021-10  12029.741804       36000.0    pdp     base  \n",
       "2021-11  13053.868262       37200.0    pdp     base  \n",
       "2021-12  13201.908331       36000.0    pdp     base  \n",
       "2022-01  14234.635159       37200.0    pdp     base  \n",
       "2022-01      0.000000           0.0    pud     base  \n",
       "2022-02   9533.965589       18600.0    pud     base  \n",
       "2022-03   8797.623539       16800.0    pud     base  \n",
       "2022-04   9963.116624       18600.0    pud     base  \n",
       "2022-05   9845.300064       18000.0    pud     base  \n",
       "2022-06  10385.467752       18600.0    pud     base  \n",
       "2022-07  10244.072001       18000.0    pud     base  \n",
       "2022-08  10787.165542       18600.0    pud     base  \n",
       "2022-09  10983.717629       18600.0    pud     base  \n",
       "2022-10  10808.922541       18000.0    pud     base  \n",
       "2022-11  11356.160479       18600.0    pud     base  \n",
       "2022-12  11160.572499       18000.0    pud     base  \n",
       "2023-01  11710.390548       18600.0    pud     base  "
      ],
      "text/html": "<div>\n<style scoped>\n    .dataframe tbody tr th:only-of-type {\n        vertical-align: middle;\n    }\n\n    .dataframe tbody tr th {\n        vertical-align: top;\n    }\n\n    .dataframe thead th {\n        text-align: right;\n    }\n</style>\n<table border=\"1\" class=\"dataframe\">\n  <thead>\n    <tr style=\"text-align: right;\">\n      <th></th>\n      <th>oil_rate</th>\n      <th>oil_cum</th>\n      <th>iteration</th>\n      <th>oil_volume</th>\n      <th>fluid_rate</th>\n      <th>water_rate</th>\n      <th>bsw</th>\n      <th>wor</th>\n      <th>water_cum</th>\n      <th>fluid_cum</th>\n      <th>water_volume</th>\n      <th>fluid_volume</th>\n      <th>period</th>\n      <th>scenario</th>\n    </tr>\n    <tr>\n      <th>date</th>\n      <th></th>\n      <th></th>\n      <th></th>\n      <th></th>\n      <th></th>\n      <th></th>\n      <th></th>\n      <th></th>\n      <th></th>\n      <th></th>\n      <th></th>\n      <th></th>\n      <th></th>\n      <th></th>\n    </tr>\n  </thead>\n  <tbody>\n    <tr>\n      <th>2021-01</th>\n      <td>80.000000</td>\n      <td>0.000000</td>\n      <td>0</td>\n      <td>0.000000</td>\n      <td>1200.0</td>\n      <td>1120.000000</td>\n      <td>0.933333</td>\n      <td>14.000000</td>\n      <td>0.000000</td>\n      <td>0.0</td>\n      <td>0.000000</td>\n      <td>0.0</td>\n      <td>pdp</td>\n      <td>base</td>\n    </tr>\n    <tr>\n      <th>2021-02</th>\n      <td>77.987393</td>\n      <td>2448.672116</td>\n      <td>0</td>\n      <td>2448.672116</td>\n      <td>1200.0</td>\n      <td>1122.012607</td>\n      <td>0.935011</td>\n      <td>14.387102</td>\n      <td>34782.390824</td>\n      <td>37200.0</td>\n      <td>34782.390824</td>\n      <td>37200.0</td>\n      <td>pdp</td>\n      <td>base</td>\n    </tr>\n    <tr>\n      <th>2021-03</th>\n      <td>76.213109</td>\n      <td>4607.383867</td>\n      <td>0</td>\n      <td>2158.711751</td>\n      <td>1200.0</td>\n      <td>1123.786891</td>\n      <td>0.936489</td>\n      <td>14.745323</td>\n      <td>66248.423768</td>\n      <td>70800.0</td>\n      <td>31466.032944</td>\n      <td>33600.0</td>\n      <td>pdp</td>\n      <td>base</td>\n    </tr>\n    <tr>\n      <th>2021-04</th>\n      <td>74.295771</td>\n      <td>6940.145308</td>\n      <td>0</td>\n      <td>2332.761441</td>\n      <td>1200.0</td>\n      <td>1125.704229</td>\n      <td>0.938087</td>\n      <td>15.151660</td>\n      <td>101145.254867</td>\n      <td>108000.0</td>\n      <td>34896.831100</td>\n      <td>37200.0</td>\n      <td>pdp</td>\n      <td>base</td>\n    </tr>\n    <tr>\n      <th>2021-05</th>\n      <td>72.486222</td>\n      <td>9141.763651</td>\n      <td>0</td>\n      <td>2201.618343</td>\n      <td>1200.0</td>\n      <td>1127.513778</td>\n      <td>0.939595</td>\n      <td>15.554870</td>\n      <td>134970.668217</td>\n      <td>144000.0</td>\n      <td>33825.413350</td>\n      <td>36000.0</td>\n      <td>pdp</td>\n      <td>base</td>\n    </tr>\n    <tr>\n      <th>2021-06</th>\n      <td>70.662643</td>\n      <td>11360.451023</td>\n      <td>0</td>\n      <td>2218.687372</td>\n      <td>1200.0</td>\n      <td>1129.337357</td>\n      <td>0.941114</td>\n      <td>15.982099</td>\n      <td>169980.126285</td>\n      <td>181200.0</td>\n      <td>35009.458067</td>\n      <td>37200.0</td>\n      <td>pdp</td>\n      <td>base</td>\n    </tr>\n    <tr>\n      <th>2021-07</th>\n      <td>68.941582</td>\n      <td>13454.408309</td>\n      <td>0</td>\n      <td>2093.957286</td>\n      <td>1200.0</td>\n      <td>1131.058418</td>\n      <td>0.942549</td>\n      <td>16.406041</td>\n      <td>203911.878818</td>\n      <td>217200.0</td>\n      <td>33931.752534</td>\n      <td>36000.0</td>\n      <td>pdp</td>\n      <td>base</td>\n    </tr>\n    <tr>\n      <th>2021-08</th>\n      <td>67.207178</td>\n      <td>15564.599934</td>\n      <td>0</td>\n      <td>2110.191625</td>\n      <td>1200.0</td>\n      <td>1132.792822</td>\n      <td>0.943994</td>\n      <td>16.855236</td>\n      <td>239028.456296</td>\n      <td>254400.0</td>\n      <td>35116.577478</td>\n      <td>37200.0</td>\n      <td>pdp</td>\n      <td>base</td>\n    </tr>\n    <tr>\n      <th>2021-09</th>\n      <td>65.516407</td>\n      <td>17621.704223</td>\n      <td>0</td>\n      <td>2057.104289</td>\n      <td>1200.0</td>\n      <td>1134.483593</td>\n      <td>0.945403</td>\n      <td>17.316023</td>\n      <td>274197.447664</td>\n      <td>291600.0</td>\n      <td>35168.991368</td>\n      <td>37200.0</td>\n      <td>pdp</td>\n      <td>base</td>\n    </tr>\n    <tr>\n      <th>2021-10</th>\n      <td>63.920689</td>\n      <td>19563.162298</td>\n      <td>0</td>\n      <td>1941.458075</td>\n      <td>1200.0</td>\n      <td>1136.079311</td>\n      <td>0.946733</td>\n      <td>17.773265</td>\n      <td>308279.827008</td>\n      <td>327600.0</td>\n      <td>34082.379344</td>\n      <td>36000.0</td>\n      <td>pdp</td>\n      <td>base</td>\n    </tr>\n    <tr>\n      <th>2021-11</th>\n      <td>62.312598</td>\n      <td>21519.672393</td>\n      <td>0</td>\n      <td>1956.510095</td>\n      <td>1200.0</td>\n      <td>1137.687402</td>\n      <td>0.948073</td>\n      <td>18.257743</td>\n      <td>343548.136469</td>\n      <td>364800.0</td>\n      <td>35268.309461</td>\n      <td>37200.0</td>\n      <td>pdp</td>\n      <td>base</td>\n    </tr>\n    <tr>\n      <th>2021-12</th>\n      <td>60.794911</td>\n      <td>23366.191475</td>\n      <td>0</td>\n      <td>1846.519082</td>\n      <td>1200.0</td>\n      <td>1139.205089</td>\n      <td>0.949338</td>\n      <td>18.738494</td>\n      <td>377724.289136</td>\n      <td>400800.0</td>\n      <td>34176.152667</td>\n      <td>36000.0</td>\n      <td>pdp</td>\n      <td>base</td>\n    </tr>\n    <tr>\n      <th>2022-01</th>\n      <td>59.265458</td>\n      <td>25227.026520</td>\n      <td>0</td>\n      <td>1860.835045</td>\n      <td>1200.0</td>\n      <td>1140.734542</td>\n      <td>0.950612</td>\n      <td>19.247882</td>\n      <td>413087.059948</td>\n      <td>438000.0</td>\n      <td>35362.770813</td>\n      <td>37200.0</td>\n      <td>pdp</td>\n      <td>base</td>\n    </tr>\n    <tr>\n      <th>2021-01</th>\n      <td>100.000000</td>\n      <td>0.000000</td>\n      <td>1</td>\n      <td>0.000000</td>\n      <td>1200.0</td>\n      <td>1100.000000</td>\n      <td>0.916667</td>\n      <td>11.000000</td>\n      <td>0.000000</td>\n      <td>0.0</td>\n      <td>0.000000</td>\n      <td>0.0</td>\n      <td>pdp</td>\n      <td>base</td>\n    </tr>\n    <tr>\n      <th>2021-02</th>\n      <td>97.484241</td>\n      <td>3060.840145</td>\n      <td>1</td>\n      <td>3060.840145</td>\n      <td>1200.0</td>\n      <td>1102.515759</td>\n      <td>0.918763</td>\n      <td>11.309682</td>\n      <td>34177.988530</td>\n      <td>37200.0</td>\n      <td>34177.988530</td>\n      <td>37200.0</td>\n      <td>pdp</td>\n      <td>base</td>\n    </tr>\n    <tr>\n      <th>2021-03</th>\n      <td>95.266386</td>\n      <td>5759.229834</td>\n      <td>1</td>\n      <td>2698.389689</td>\n      <td>1200.0</td>\n      <td>1104.733614</td>\n      <td>0.920611</td>\n      <td>11.596258</td>\n      <td>65110.529709</td>\n      <td>70800.0</td>\n      <td>30932.541180</td>\n      <td>33600.0</td>\n      <td>pdp</td>\n      <td>base</td>\n    </tr>\n    <tr>\n      <th>2021-04</th>\n      <td>92.869714</td>\n      <td>8675.181635</td>\n      <td>1</td>\n      <td>2915.951801</td>\n      <td>1200.0</td>\n      <td>1107.130286</td>\n      <td>0.922609</td>\n      <td>11.921328</td>\n      <td>99431.568584</td>\n      <td>108000.0</td>\n      <td>34321.038875</td>\n      <td>37200.0</td>\n      <td>pdp</td>\n      <td>base</td>\n    </tr>\n    <tr>\n      <th>2021-05</th>\n      <td>90.607777</td>\n      <td>11427.204563</td>\n      <td>1</td>\n      <td>2752.022929</td>\n      <td>1200.0</td>\n      <td>1109.392223</td>\n      <td>0.924494</td>\n      <td>12.243896</td>\n      <td>132713.335272</td>\n      <td>144000.0</td>\n      <td>33281.766688</td>\n      <td>36000.0</td>\n      <td>pdp</td>\n      <td>base</td>\n    </tr>\n    <tr>\n      <th>2021-06</th>\n      <td>88.328304</td>\n      <td>14200.563778</td>\n      <td>1</td>\n      <td>2773.359215</td>\n      <td>1200.0</td>\n      <td>1111.671696</td>\n      <td>0.926393</td>\n      <td>12.585679</td>\n      <td>167175.157856</td>\n      <td>181200.0</td>\n      <td>34461.822584</td>\n      <td>37200.0</td>\n      <td>pdp</td>\n      <td>base</td>\n    </tr>\n    <tr>\n      <th>2021-07</th>\n      <td>86.176978</td>\n      <td>16818.010386</td>\n      <td>1</td>\n      <td>2617.446608</td>\n      <td>1200.0</td>\n      <td>1113.823022</td>\n      <td>0.928186</td>\n      <td>12.924833</td>\n      <td>200589.848523</td>\n      <td>217200.0</td>\n      <td>33414.690667</td>\n      <td>36000.0</td>\n      <td>pdp</td>\n      <td>base</td>\n    </tr>\n    <tr>\n      <th>2021-08</th>\n      <td>84.008973</td>\n      <td>19455.749917</td>\n      <td>1</td>\n      <td>2637.739531</td>\n      <td>1200.0</td>\n      <td>1115.991027</td>\n      <td>0.929993</td>\n      <td>13.284188</td>\n      <td>235185.570370</td>\n      <td>254400.0</td>\n      <td>34595.721847</td>\n      <td>37200.0</td>\n      <td>pdp</td>\n      <td>base</td>\n    </tr>\n    <tr>\n      <th>2021-09</th>\n      <td>81.895509</td>\n      <td>22027.130278</td>\n      <td>1</td>\n      <td>2571.380361</td>\n      <td>1200.0</td>\n      <td>1118.104491</td>\n      <td>0.931754</td>\n      <td>13.652818</td>\n      <td>269846.809580</td>\n      <td>291600.0</td>\n      <td>34661.239210</td>\n      <td>37200.0</td>\n      <td>pdp</td>\n      <td>base</td>\n    </tr>\n    <tr>\n      <th>2021-10</th>\n      <td>79.900861</td>\n      <td>24453.952872</td>\n      <td>1</td>\n      <td>2426.822594</td>\n      <td>1200.0</td>\n      <td>1120.099139</td>\n      <td>0.933416</td>\n      <td>14.018612</td>\n      <td>303449.783760</td>\n      <td>327600.0</td>\n      <td>33602.974180</td>\n      <td>36000.0</td>\n      <td>pdp</td>\n      <td>base</td>\n    </tr>\n    <tr>\n      <th>2021-11</th>\n      <td>77.890748</td>\n      <td>26899.590491</td>\n      <td>1</td>\n      <td>2445.637619</td>\n      <td>1200.0</td>\n      <td>1122.109252</td>\n      <td>0.935091</td>\n      <td>14.406194</td>\n      <td>338235.170587</td>\n      <td>364800.0</td>\n      <td>34785.386826</td>\n      <td>37200.0</td>\n      <td>pdp</td>\n      <td>base</td>\n    </tr>\n    <tr>\n      <th>2021-12</th>\n      <td>75.993639</td>\n      <td>29207.739344</td>\n      <td>1</td>\n      <td>2308.148853</td>\n      <td>1200.0</td>\n      <td>1124.006361</td>\n      <td>0.936672</td>\n      <td>14.790795</td>\n      <td>371955.361420</td>\n      <td>400800.0</td>\n      <td>33720.190833</td>\n      <td>36000.0</td>\n      <td>pdp</td>\n      <td>base</td>\n    </tr>\n    <tr>\n      <th>2022-01</th>\n      <td>74.081822</td>\n      <td>31533.783150</td>\n      <td>1</td>\n      <td>2326.043807</td>\n      <td>1200.0</td>\n      <td>1125.918178</td>\n      <td>0.938265</td>\n      <td>15.198306</td>\n      <td>406858.824936</td>\n      <td>438000.0</td>\n      <td>34903.463516</td>\n      <td>37200.0</td>\n      <td>pdp</td>\n      <td>base</td>\n    </tr>\n    <tr>\n      <th>2021-01</th>\n      <td>1000.000000</td>\n      <td>0.000000</td>\n      <td>2</td>\n      <td>0.000000</td>\n      <td>1200.0</td>\n      <td>200.000000</td>\n      <td>0.166667</td>\n      <td>0.200000</td>\n      <td>0.000000</td>\n      <td>0.0</td>\n      <td>0.000000</td>\n      <td>0.0</td>\n      <td>pdp</td>\n      <td>base</td>\n    </tr>\n    <tr>\n      <th>2021-02</th>\n      <td>974.842410</td>\n      <td>30608.401448</td>\n      <td>2</td>\n      <td>30608.401448</td>\n      <td>1200.0</td>\n      <td>225.157590</td>\n      <td>0.187631</td>\n      <td>0.230968</td>\n      <td>6979.885297</td>\n      <td>37200.0</td>\n      <td>6979.885297</td>\n      <td>37200.0</td>\n      <td>pdp</td>\n      <td>base</td>\n    </tr>\n    <tr>\n      <th>2021-03</th>\n      <td>952.663864</td>\n      <td>57592.298340</td>\n      <td>2</td>\n      <td>26983.896891</td>\n      <td>1200.0</td>\n      <td>247.336136</td>\n      <td>0.206113</td>\n      <td>0.259626</td>\n      <td>13905.297095</td>\n      <td>70800.0</td>\n      <td>6925.411797</td>\n      <td>33600.0</td>\n      <td>pdp</td>\n      <td>base</td>\n    </tr>\n    <tr>\n      <th>2021-04</th>\n      <td>928.697137</td>\n      <td>86751.816346</td>\n      <td>2</td>\n      <td>29159.518006</td>\n      <td>1200.0</td>\n      <td>271.302863</td>\n      <td>0.226086</td>\n      <td>0.292133</td>\n      <td>22315.685840</td>\n      <td>108000.0</td>\n      <td>8410.388745</td>\n      <td>37200.0</td>\n      <td>pdp</td>\n      <td>base</td>\n    </tr>\n    <tr>\n      <th>2021-05</th>\n      <td>906.077771</td>\n      <td>114272.045635</td>\n      <td>2</td>\n      <td>27520.229289</td>\n      <td>1200.0</td>\n      <td>293.922229</td>\n      <td>0.244935</td>\n      <td>0.324390</td>\n      <td>31133.352719</td>\n      <td>144000.0</td>\n      <td>8817.666879</td>\n      <td>36000.0</td>\n      <td>pdp</td>\n      <td>base</td>\n    </tr>\n    <tr>\n      <th>2021-06</th>\n      <td>883.283037</td>\n      <td>142005.637784</td>\n      <td>2</td>\n      <td>27733.592149</td>\n      <td>1200.0</td>\n      <td>316.716963</td>\n      <td>0.263931</td>\n      <td>0.358568</td>\n      <td>40951.578558</td>\n      <td>181200.0</td>\n      <td>9818.225839</td>\n      <td>37200.0</td>\n      <td>pdp</td>\n      <td>base</td>\n    </tr>\n    <tr>\n      <th>2021-07</th>\n      <td>861.769778</td>\n      <td>168180.103864</td>\n      <td>2</td>\n      <td>26174.466080</td>\n      <td>1200.0</td>\n      <td>338.230222</td>\n      <td>0.281859</td>\n      <td>0.392483</td>\n      <td>51098.485229</td>\n      <td>217200.0</td>\n      <td>10146.906671</td>\n      <td>36000.0</td>\n      <td>pdp</td>\n      <td>base</td>\n    </tr>\n    <tr>\n      <th>2021-08</th>\n      <td>840.089727</td>\n      <td>194557.499175</td>\n      <td>2</td>\n      <td>26377.395310</td>\n      <td>1200.0</td>\n      <td>359.910273</td>\n      <td>0.299925</td>\n      <td>0.428419</td>\n      <td>62255.703701</td>\n      <td>254400.0</td>\n      <td>11157.218472</td>\n      <td>37200.0</td>\n      <td>pdp</td>\n      <td>base</td>\n    </tr>\n    <tr>\n      <th>2021-09</th>\n      <td>818.955094</td>\n      <td>220271.302782</td>\n      <td>2</td>\n      <td>25713.803608</td>\n      <td>1200.0</td>\n      <td>381.044906</td>\n      <td>0.317537</td>\n      <td>0.465282</td>\n      <td>74068.095799</td>\n      <td>291600.0</td>\n      <td>11812.392098</td>\n      <td>37200.0</td>\n      <td>pdp</td>\n      <td>base</td>\n    </tr>\n    <tr>\n      <th>2021-10</th>\n      <td>799.008607</td>\n      <td>244539.528719</td>\n      <td>2</td>\n      <td>24268.225937</td>\n      <td>1200.0</td>\n      <td>400.991393</td>\n      <td>0.334159</td>\n      <td>0.501861</td>\n      <td>86097.837603</td>\n      <td>327600.0</td>\n      <td>12029.741804</td>\n      <td>36000.0</td>\n      <td>pdp</td>\n      <td>base</td>\n    </tr>\n    <tr>\n      <th>2021-11</th>\n      <td>778.907475</td>\n      <td>268995.904908</td>\n      <td>2</td>\n      <td>24456.376190</td>\n      <td>1200.0</td>\n      <td>421.092525</td>\n      <td>0.350910</td>\n      <td>0.540619</td>\n      <td>99151.705865</td>\n      <td>364800.0</td>\n      <td>13053.868262</td>\n      <td>37200.0</td>\n      <td>pdp</td>\n      <td>base</td>\n    </tr>\n    <tr>\n      <th>2021-12</th>\n      <td>759.936389</td>\n      <td>292077.393435</td>\n      <td>2</td>\n      <td>23081.488527</td>\n      <td>1200.0</td>\n      <td>440.063611</td>\n      <td>0.366720</td>\n      <td>0.579080</td>\n      <td>112353.614196</td>\n      <td>400800.0</td>\n      <td>13201.908331</td>\n      <td>36000.0</td>\n      <td>pdp</td>\n      <td>base</td>\n    </tr>\n    <tr>\n      <th>2022-01</th>\n      <td>740.818221</td>\n      <td>315337.831504</td>\n      <td>2</td>\n      <td>23260.438069</td>\n      <td>1200.0</td>\n      <td>459.181779</td>\n      <td>0.382651</td>\n      <td>0.619831</td>\n      <td>126588.249355</td>\n      <td>438000.0</td>\n      <td>14234.635159</td>\n      <td>37200.0</td>\n      <td>pdp</td>\n      <td>base</td>\n    </tr>\n    <tr>\n      <th>2022-01</th>\n      <td>300.000000</td>\n      <td>0.000000</td>\n      <td>0</td>\n      <td>0.000000</td>\n      <td>600.0</td>\n      <td>300.000000</td>\n      <td>0.500000</td>\n      <td>1.000000</td>\n      <td>0.000000</td>\n      <td>0.0</td>\n      <td>0.000000</td>\n      <td>0.0</td>\n      <td>pud</td>\n      <td>base</td>\n    </tr>\n    <tr>\n      <th>2022-02</th>\n      <td>292.452723</td>\n      <td>9182.520435</td>\n      <td>0</td>\n      <td>9182.520435</td>\n      <td>600.0</td>\n      <td>307.547277</td>\n      <td>0.512579</td>\n      <td>1.051614</td>\n      <td>9533.965589</td>\n      <td>18600.0</td>\n      <td>9533.965589</td>\n      <td>18600.0</td>\n      <td>pud</td>\n      <td>base</td>\n    </tr>\n    <tr>\n      <th>2022-03</th>\n      <td>285.799159</td>\n      <td>17277.689502</td>\n      <td>0</td>\n      <td>8095.169067</td>\n      <td>600.0</td>\n      <td>314.200841</td>\n      <td>0.523668</td>\n      <td>1.099376</td>\n      <td>18331.589128</td>\n      <td>35400.0</td>\n      <td>8797.623539</td>\n      <td>16800.0</td>\n      <td>pud</td>\n      <td>base</td>\n    </tr>\n    <tr>\n      <th>2022-04</th>\n      <td>278.609141</td>\n      <td>26025.544904</td>\n      <td>0</td>\n      <td>8747.855402</td>\n      <td>600.0</td>\n      <td>321.390859</td>\n      <td>0.535651</td>\n      <td>1.153555</td>\n      <td>28294.705752</td>\n      <td>54000.0</td>\n      <td>9963.116624</td>\n      <td>18600.0</td>\n      <td>pud</td>\n      <td>base</td>\n    </tr>\n    <tr>\n      <th>2022-05</th>\n      <td>271.823331</td>\n      <td>34281.613690</td>\n      <td>0</td>\n      <td>8256.068787</td>\n      <td>600.0</td>\n      <td>328.176669</td>\n      <td>0.546961</td>\n      <td>1.207316</td>\n      <td>38140.005816</td>\n      <td>72000.0</td>\n      <td>9845.300064</td>\n      <td>18000.0</td>\n      <td>pud</td>\n      <td>base</td>\n    </tr>\n    <tr>\n      <th>2022-06</th>\n      <td>264.984911</td>\n      <td>42601.691335</td>\n      <td>0</td>\n      <td>8320.077645</td>\n      <td>600.0</td>\n      <td>335.015089</td>\n      <td>0.558358</td>\n      <td>1.264280</td>\n      <td>48525.473567</td>\n      <td>90600.0</td>\n      <td>10385.467752</td>\n      <td>18600.0</td>\n      <td>pud</td>\n      <td>base</td>\n    </tr>\n    <tr>\n      <th>2022-07</th>\n      <td>258.530933</td>\n      <td>50454.031159</td>\n      <td>0</td>\n      <td>7852.339824</td>\n      <td>600.0</td>\n      <td>341.469067</td>\n      <td>0.569115</td>\n      <td>1.320805</td>\n      <td>58769.545569</td>\n      <td>108600.0</td>\n      <td>10244.072001</td>\n      <td>18000.0</td>\n      <td>pud</td>\n      <td>base</td>\n    </tr>\n    <tr>\n      <th>2022-08</th>\n      <td>252.026918</td>\n      <td>58367.249752</td>\n      <td>0</td>\n      <td>7913.218593</td>\n      <td>600.0</td>\n      <td>347.973082</td>\n      <td>0.579955</td>\n      <td>1.380698</td>\n      <td>69556.711110</td>\n      <td>127200.0</td>\n      <td>10787.165542</td>\n      <td>18600.0</td>\n      <td>pud</td>\n      <td>base</td>\n    </tr>\n    <tr>\n      <th>2022-09</th>\n      <td>245.686528</td>\n      <td>66081.390835</td>\n      <td>0</td>\n      <td>7714.141082</td>\n      <td>600.0</td>\n      <td>354.313472</td>\n      <td>0.590522</td>\n      <td>1.442136</td>\n      <td>80540.428740</td>\n      <td>145800.0</td>\n      <td>10983.717629</td>\n      <td>18600.0</td>\n      <td>pud</td>\n      <td>base</td>\n    </tr>\n    <tr>\n      <th>2022-10</th>\n      <td>239.702582</td>\n      <td>73361.858616</td>\n      <td>0</td>\n      <td>7280.467781</td>\n      <td>600.0</td>\n      <td>360.297418</td>\n      <td>0.600496</td>\n      <td>1.503102</td>\n      <td>91349.351281</td>\n      <td>163800.0</td>\n      <td>10808.922541</td>\n      <td>18000.0</td>\n      <td>pud</td>\n      <td>base</td>\n    </tr>\n    <tr>\n      <th>2022-11</th>\n      <td>233.672243</td>\n      <td>80698.771473</td>\n      <td>0</td>\n      <td>7336.912857</td>\n      <td>600.0</td>\n      <td>366.327757</td>\n      <td>0.610546</td>\n      <td>1.567699</td>\n      <td>102705.511760</td>\n      <td>182400.0</td>\n      <td>11356.160479</td>\n      <td>18600.0</td>\n      <td>pud</td>\n      <td>base</td>\n    </tr>\n    <tr>\n      <th>2022-12</th>\n      <td>227.980917</td>\n      <td>87623.218031</td>\n      <td>0</td>\n      <td>6924.446558</td>\n      <td>600.0</td>\n      <td>372.019083</td>\n      <td>0.620032</td>\n      <td>1.631799</td>\n      <td>113866.084259</td>\n      <td>200400.0</td>\n      <td>11160.572499</td>\n      <td>18000.0</td>\n      <td>pud</td>\n      <td>base</td>\n    </tr>\n    <tr>\n      <th>2023-01</th>\n      <td>222.245466</td>\n      <td>94601.349451</td>\n      <td>0</td>\n      <td>6978.131421</td>\n      <td>600.0</td>\n      <td>377.754534</td>\n      <td>0.629591</td>\n      <td>1.699718</td>\n      <td>125576.474807</td>\n      <td>219000.0</td>\n      <td>11710.390548</td>\n      <td>18600.0</td>\n      <td>pud</td>\n      <td>base</td>\n    </tr>\n  </tbody>\n</table>\n</div>"
     },
     "metadata": {},
     "execution_count": 6
    }
   ],
   "source": [
    "s1_f = s1.generate_forecast()\n",
    "s1_f"
   ]
  },
  {
   "cell_type": "code",
   "execution_count": 7,
   "metadata": {},
   "outputs": [
    {
     "output_type": "execute_result",
     "data": {
      "text/plain": [
       "<AxesSubplot:xlabel='date', ylabel='oil_rate'>"
      ]
     },
     "metadata": {},
     "execution_count": 7
    },
    {
     "output_type": "display_data",
     "data": {
      "text/plain": "<Figure size 432x288 with 1 Axes>",
      "image/svg+xml": "<?xml version=\"1.0\" encoding=\"utf-8\" standalone=\"no\"?>\n<!DOCTYPE svg PUBLIC \"-//W3C//DTD SVG 1.1//EN\"\n  \"http://www.w3.org/Graphics/SVG/1.1/DTD/svg11.dtd\">\n<!-- Created with matplotlib (https://matplotlib.org/) -->\n<svg height=\"262.19625pt\" version=\"1.1\" viewBox=\"0 0 401.279474 262.19625\" width=\"401.279474pt\" xmlns=\"http://www.w3.org/2000/svg\" xmlns:xlink=\"http://www.w3.org/1999/xlink\">\n <metadata>\n  <rdf:RDF xmlns:cc=\"http://creativecommons.org/ns#\" xmlns:dc=\"http://purl.org/dc/elements/1.1/\" xmlns:rdf=\"http://www.w3.org/1999/02/22-rdf-syntax-ns#\">\n   <cc:Work>\n    <dc:type rdf:resource=\"http://purl.org/dc/dcmitype/StillImage\"/>\n    <dc:date>2021-03-24T23:05:52.552606</dc:date>\n    <dc:format>image/svg+xml</dc:format>\n    <dc:creator>\n     <cc:Agent>\n      <dc:title>Matplotlib v3.3.4, https://matplotlib.org/</dc:title>\n     </cc:Agent>\n    </dc:creator>\n   </cc:Work>\n  </rdf:RDF>\n </metadata>\n <defs>\n  <style type=\"text/css\">*{stroke-linecap:butt;stroke-linejoin:round;}</style>\n </defs>\n <g id=\"figure_1\">\n  <g id=\"patch_1\">\n   <path d=\"M 0 262.19625 \nL 401.279474 262.19625 \nL 401.279474 0 \nL 0 0 \nz\n\" style=\"fill:none;\"/>\n  </g>\n  <g id=\"axes_1\">\n   <g id=\"patch_2\">\n    <path d=\"M 53.60625 224.64 \nL 388.40625 224.64 \nL 388.40625 7.2 \nL 53.60625 7.2 \nz\n\" style=\"fill:#ffffff;\"/>\n   </g>\n   <g id=\"matplotlib.axis_1\">\n    <g id=\"xtick_1\">\n     <g id=\"line2d_1\">\n      <defs>\n       <path d=\"M 0 0 \nL 0 3.5 \n\" id=\"me434f7ca1a\" style=\"stroke:#000000;stroke-width:0.8;\"/>\n      </defs>\n      <g>\n       <use style=\"stroke:#000000;stroke-width:0.8;\" x=\"68.824432\" xlink:href=\"#me434f7ca1a\" y=\"224.64\"/>\n      </g>\n     </g>\n     <g id=\"text_1\">\n      <!-- 2021-01 -->\n      <g transform=\"translate(47.933026 239.238437)scale(0.1 -0.1)\">\n       <defs>\n        <path d=\"M 19.1875 8.296875 \nL 53.609375 8.296875 \nL 53.609375 0 \nL 7.328125 0 \nL 7.328125 8.296875 \nQ 12.9375 14.109375 22.625 23.890625 \nQ 32.328125 33.6875 34.8125 36.53125 \nQ 39.546875 41.84375 41.421875 45.53125 \nQ 43.3125 49.21875 43.3125 52.78125 \nQ 43.3125 58.59375 39.234375 62.25 \nQ 35.15625 65.921875 28.609375 65.921875 \nQ 23.96875 65.921875 18.8125 64.3125 \nQ 13.671875 62.703125 7.8125 59.421875 \nL 7.8125 69.390625 \nQ 13.765625 71.78125 18.9375 73 \nQ 24.125 74.21875 28.421875 74.21875 \nQ 39.75 74.21875 46.484375 68.546875 \nQ 53.21875 62.890625 53.21875 53.421875 \nQ 53.21875 48.921875 51.53125 44.890625 \nQ 49.859375 40.875 45.40625 35.40625 \nQ 44.1875 33.984375 37.640625 27.21875 \nQ 31.109375 20.453125 19.1875 8.296875 \nz\n\" id=\"DejaVuSans-50\"/>\n        <path d=\"M 31.78125 66.40625 \nQ 24.171875 66.40625 20.328125 58.90625 \nQ 16.5 51.421875 16.5 36.375 \nQ 16.5 21.390625 20.328125 13.890625 \nQ 24.171875 6.390625 31.78125 6.390625 \nQ 39.453125 6.390625 43.28125 13.890625 \nQ 47.125 21.390625 47.125 36.375 \nQ 47.125 51.421875 43.28125 58.90625 \nQ 39.453125 66.40625 31.78125 66.40625 \nz\nM 31.78125 74.21875 \nQ 44.046875 74.21875 50.515625 64.515625 \nQ 56.984375 54.828125 56.984375 36.375 \nQ 56.984375 17.96875 50.515625 8.265625 \nQ 44.046875 -1.421875 31.78125 -1.421875 \nQ 19.53125 -1.421875 13.0625 8.265625 \nQ 6.59375 17.96875 6.59375 36.375 \nQ 6.59375 54.828125 13.0625 64.515625 \nQ 19.53125 74.21875 31.78125 74.21875 \nz\n\" id=\"DejaVuSans-48\"/>\n        <path d=\"M 12.40625 8.296875 \nL 28.515625 8.296875 \nL 28.515625 63.921875 \nL 10.984375 60.40625 \nL 10.984375 69.390625 \nL 28.421875 72.90625 \nL 38.28125 72.90625 \nL 38.28125 8.296875 \nL 54.390625 8.296875 \nL 54.390625 0 \nL 12.40625 0 \nz\n\" id=\"DejaVuSans-49\"/>\n        <path d=\"M 4.890625 31.390625 \nL 31.203125 31.390625 \nL 31.203125 23.390625 \nL 4.890625 23.390625 \nz\n\" id=\"DejaVuSans-45\"/>\n       </defs>\n       <use xlink:href=\"#DejaVuSans-50\"/>\n       <use x=\"63.623047\" xlink:href=\"#DejaVuSans-48\"/>\n       <use x=\"127.246094\" xlink:href=\"#DejaVuSans-50\"/>\n       <use x=\"190.869141\" xlink:href=\"#DejaVuSans-49\"/>\n       <use x=\"254.492188\" xlink:href=\"#DejaVuSans-45\"/>\n       <use x=\"290.576172\" xlink:href=\"#DejaVuSans-48\"/>\n       <use x=\"354.199219\" xlink:href=\"#DejaVuSans-49\"/>\n      </g>\n     </g>\n    </g>\n    <g id=\"xtick_2\">\n     <g id=\"line2d_2\">\n      <g>\n       <use style=\"stroke:#000000;stroke-width:0.8;\" x=\"106.348716\" xlink:href=\"#me434f7ca1a\" y=\"224.64\"/>\n      </g>\n     </g>\n     <g id=\"text_2\">\n      <!-- 2021-04 -->\n      <g transform=\"translate(85.45731 239.238437)scale(0.1 -0.1)\">\n       <defs>\n        <path d=\"M 37.796875 64.3125 \nL 12.890625 25.390625 \nL 37.796875 25.390625 \nz\nM 35.203125 72.90625 \nL 47.609375 72.90625 \nL 47.609375 25.390625 \nL 58.015625 25.390625 \nL 58.015625 17.1875 \nL 47.609375 17.1875 \nL 47.609375 0 \nL 37.796875 0 \nL 37.796875 17.1875 \nL 4.890625 17.1875 \nL 4.890625 26.703125 \nz\n\" id=\"DejaVuSans-52\"/>\n       </defs>\n       <use xlink:href=\"#DejaVuSans-50\"/>\n       <use x=\"63.623047\" xlink:href=\"#DejaVuSans-48\"/>\n       <use x=\"127.246094\" xlink:href=\"#DejaVuSans-50\"/>\n       <use x=\"190.869141\" xlink:href=\"#DejaVuSans-49\"/>\n       <use x=\"254.492188\" xlink:href=\"#DejaVuSans-45\"/>\n       <use x=\"290.576172\" xlink:href=\"#DejaVuSans-48\"/>\n       <use x=\"354.199219\" xlink:href=\"#DejaVuSans-52\"/>\n      </g>\n     </g>\n    </g>\n    <g id=\"xtick_3\">\n     <g id=\"line2d_3\">\n      <g>\n       <use style=\"stroke:#000000;stroke-width:0.8;\" x=\"144.289936\" xlink:href=\"#me434f7ca1a\" y=\"224.64\"/>\n      </g>\n     </g>\n     <g id=\"text_3\">\n      <!-- 2021-07 -->\n      <g transform=\"translate(123.39853 239.238437)scale(0.1 -0.1)\">\n       <defs>\n        <path d=\"M 8.203125 72.90625 \nL 55.078125 72.90625 \nL 55.078125 68.703125 \nL 28.609375 0 \nL 18.3125 0 \nL 43.21875 64.59375 \nL 8.203125 64.59375 \nz\n\" id=\"DejaVuSans-55\"/>\n       </defs>\n       <use xlink:href=\"#DejaVuSans-50\"/>\n       <use x=\"63.623047\" xlink:href=\"#DejaVuSans-48\"/>\n       <use x=\"127.246094\" xlink:href=\"#DejaVuSans-50\"/>\n       <use x=\"190.869141\" xlink:href=\"#DejaVuSans-49\"/>\n       <use x=\"254.492188\" xlink:href=\"#DejaVuSans-45\"/>\n       <use x=\"290.576172\" xlink:href=\"#DejaVuSans-48\"/>\n       <use x=\"354.199219\" xlink:href=\"#DejaVuSans-55\"/>\n      </g>\n     </g>\n    </g>\n    <g id=\"xtick_4\">\n     <g id=\"line2d_4\">\n      <g>\n       <use style=\"stroke:#000000;stroke-width:0.8;\" x=\"182.648093\" xlink:href=\"#me434f7ca1a\" y=\"224.64\"/>\n      </g>\n     </g>\n     <g id=\"text_4\">\n      <!-- 2021-10 -->\n      <g transform=\"translate(161.756687 239.238437)scale(0.1 -0.1)\">\n       <use xlink:href=\"#DejaVuSans-50\"/>\n       <use x=\"63.623047\" xlink:href=\"#DejaVuSans-48\"/>\n       <use x=\"127.246094\" xlink:href=\"#DejaVuSans-50\"/>\n       <use x=\"190.869141\" xlink:href=\"#DejaVuSans-49\"/>\n       <use x=\"254.492188\" xlink:href=\"#DejaVuSans-45\"/>\n       <use x=\"290.576172\" xlink:href=\"#DejaVuSans-49\"/>\n       <use x=\"354.199219\" xlink:href=\"#DejaVuSans-48\"/>\n      </g>\n     </g>\n    </g>\n    <g id=\"xtick_5\">\n     <g id=\"line2d_5\">\n      <g>\n       <use style=\"stroke:#000000;stroke-width:0.8;\" x=\"221.00625\" xlink:href=\"#me434f7ca1a\" y=\"224.64\"/>\n      </g>\n     </g>\n     <g id=\"text_5\">\n      <!-- 2022-01 -->\n      <g transform=\"translate(200.114844 239.238437)scale(0.1 -0.1)\">\n       <use xlink:href=\"#DejaVuSans-50\"/>\n       <use x=\"63.623047\" xlink:href=\"#DejaVuSans-48\"/>\n       <use x=\"127.246094\" xlink:href=\"#DejaVuSans-50\"/>\n       <use x=\"190.869141\" xlink:href=\"#DejaVuSans-50\"/>\n       <use x=\"254.492188\" xlink:href=\"#DejaVuSans-45\"/>\n       <use x=\"290.576172\" xlink:href=\"#DejaVuSans-48\"/>\n       <use x=\"354.199219\" xlink:href=\"#DejaVuSans-49\"/>\n      </g>\n     </g>\n    </g>\n    <g id=\"xtick_6\">\n     <g id=\"line2d_6\">\n      <g>\n       <use style=\"stroke:#000000;stroke-width:0.8;\" x=\"258.530534\" xlink:href=\"#me434f7ca1a\" y=\"224.64\"/>\n      </g>\n     </g>\n     <g id=\"text_6\">\n      <!-- 2022-04 -->\n      <g transform=\"translate(237.639128 239.238437)scale(0.1 -0.1)\">\n       <use xlink:href=\"#DejaVuSans-50\"/>\n       <use x=\"63.623047\" xlink:href=\"#DejaVuSans-48\"/>\n       <use x=\"127.246094\" xlink:href=\"#DejaVuSans-50\"/>\n       <use x=\"190.869141\" xlink:href=\"#DejaVuSans-50\"/>\n       <use x=\"254.492188\" xlink:href=\"#DejaVuSans-45\"/>\n       <use x=\"290.576172\" xlink:href=\"#DejaVuSans-48\"/>\n       <use x=\"354.199219\" xlink:href=\"#DejaVuSans-52\"/>\n      </g>\n     </g>\n    </g>\n    <g id=\"xtick_7\">\n     <g id=\"line2d_7\">\n      <g>\n       <use style=\"stroke:#000000;stroke-width:0.8;\" x=\"296.471754\" xlink:href=\"#me434f7ca1a\" y=\"224.64\"/>\n      </g>\n     </g>\n     <g id=\"text_7\">\n      <!-- 2022-07 -->\n      <g transform=\"translate(275.580348 239.238437)scale(0.1 -0.1)\">\n       <use xlink:href=\"#DejaVuSans-50\"/>\n       <use x=\"63.623047\" xlink:href=\"#DejaVuSans-48\"/>\n       <use x=\"127.246094\" xlink:href=\"#DejaVuSans-50\"/>\n       <use x=\"190.869141\" xlink:href=\"#DejaVuSans-50\"/>\n       <use x=\"254.492188\" xlink:href=\"#DejaVuSans-45\"/>\n       <use x=\"290.576172\" xlink:href=\"#DejaVuSans-48\"/>\n       <use x=\"354.199219\" xlink:href=\"#DejaVuSans-55\"/>\n      </g>\n     </g>\n    </g>\n    <g id=\"xtick_8\">\n     <g id=\"line2d_8\">\n      <g>\n       <use style=\"stroke:#000000;stroke-width:0.8;\" x=\"334.829911\" xlink:href=\"#me434f7ca1a\" y=\"224.64\"/>\n      </g>\n     </g>\n     <g id=\"text_8\">\n      <!-- 2022-10 -->\n      <g transform=\"translate(313.938505 239.238437)scale(0.1 -0.1)\">\n       <use xlink:href=\"#DejaVuSans-50\"/>\n       <use x=\"63.623047\" xlink:href=\"#DejaVuSans-48\"/>\n       <use x=\"127.246094\" xlink:href=\"#DejaVuSans-50\"/>\n       <use x=\"190.869141\" xlink:href=\"#DejaVuSans-50\"/>\n       <use x=\"254.492188\" xlink:href=\"#DejaVuSans-45\"/>\n       <use x=\"290.576172\" xlink:href=\"#DejaVuSans-49\"/>\n       <use x=\"354.199219\" xlink:href=\"#DejaVuSans-48\"/>\n      </g>\n     </g>\n    </g>\n    <g id=\"xtick_9\">\n     <g id=\"line2d_9\">\n      <g>\n       <use style=\"stroke:#000000;stroke-width:0.8;\" x=\"373.188068\" xlink:href=\"#me434f7ca1a\" y=\"224.64\"/>\n      </g>\n     </g>\n     <g id=\"text_9\">\n      <!-- 2023-01 -->\n      <g transform=\"translate(352.296662 239.238437)scale(0.1 -0.1)\">\n       <defs>\n        <path d=\"M 40.578125 39.3125 \nQ 47.65625 37.796875 51.625 33 \nQ 55.609375 28.21875 55.609375 21.1875 \nQ 55.609375 10.40625 48.1875 4.484375 \nQ 40.765625 -1.421875 27.09375 -1.421875 \nQ 22.515625 -1.421875 17.65625 -0.515625 \nQ 12.796875 0.390625 7.625 2.203125 \nL 7.625 11.71875 \nQ 11.71875 9.328125 16.59375 8.109375 \nQ 21.484375 6.890625 26.8125 6.890625 \nQ 36.078125 6.890625 40.9375 10.546875 \nQ 45.796875 14.203125 45.796875 21.1875 \nQ 45.796875 27.640625 41.28125 31.265625 \nQ 36.765625 34.90625 28.71875 34.90625 \nL 20.21875 34.90625 \nL 20.21875 43.015625 \nL 29.109375 43.015625 \nQ 36.375 43.015625 40.234375 45.921875 \nQ 44.09375 48.828125 44.09375 54.296875 \nQ 44.09375 59.90625 40.109375 62.90625 \nQ 36.140625 65.921875 28.71875 65.921875 \nQ 24.65625 65.921875 20.015625 65.03125 \nQ 15.375 64.15625 9.8125 62.3125 \nL 9.8125 71.09375 \nQ 15.4375 72.65625 20.34375 73.4375 \nQ 25.25 74.21875 29.59375 74.21875 \nQ 40.828125 74.21875 47.359375 69.109375 \nQ 53.90625 64.015625 53.90625 55.328125 \nQ 53.90625 49.265625 50.4375 45.09375 \nQ 46.96875 40.921875 40.578125 39.3125 \nz\n\" id=\"DejaVuSans-51\"/>\n       </defs>\n       <use xlink:href=\"#DejaVuSans-50\"/>\n       <use x=\"63.623047\" xlink:href=\"#DejaVuSans-48\"/>\n       <use x=\"127.246094\" xlink:href=\"#DejaVuSans-50\"/>\n       <use x=\"190.869141\" xlink:href=\"#DejaVuSans-51\"/>\n       <use x=\"254.492188\" xlink:href=\"#DejaVuSans-45\"/>\n       <use x=\"290.576172\" xlink:href=\"#DejaVuSans-48\"/>\n       <use x=\"354.199219\" xlink:href=\"#DejaVuSans-49\"/>\n      </g>\n     </g>\n    </g>\n    <g id=\"text_10\">\n     <!-- date -->\n     <g transform=\"translate(209.73125 252.916562)scale(0.1 -0.1)\">\n      <defs>\n       <path d=\"M 45.40625 46.390625 \nL 45.40625 75.984375 \nL 54.390625 75.984375 \nL 54.390625 0 \nL 45.40625 0 \nL 45.40625 8.203125 \nQ 42.578125 3.328125 38.25 0.953125 \nQ 33.9375 -1.421875 27.875 -1.421875 \nQ 17.96875 -1.421875 11.734375 6.484375 \nQ 5.515625 14.40625 5.515625 27.296875 \nQ 5.515625 40.1875 11.734375 48.09375 \nQ 17.96875 56 27.875 56 \nQ 33.9375 56 38.25 53.625 \nQ 42.578125 51.265625 45.40625 46.390625 \nz\nM 14.796875 27.296875 \nQ 14.796875 17.390625 18.875 11.75 \nQ 22.953125 6.109375 30.078125 6.109375 \nQ 37.203125 6.109375 41.296875 11.75 \nQ 45.40625 17.390625 45.40625 27.296875 \nQ 45.40625 37.203125 41.296875 42.84375 \nQ 37.203125 48.484375 30.078125 48.484375 \nQ 22.953125 48.484375 18.875 42.84375 \nQ 14.796875 37.203125 14.796875 27.296875 \nz\n\" id=\"DejaVuSans-100\"/>\n       <path d=\"M 34.28125 27.484375 \nQ 23.390625 27.484375 19.1875 25 \nQ 14.984375 22.515625 14.984375 16.5 \nQ 14.984375 11.71875 18.140625 8.90625 \nQ 21.296875 6.109375 26.703125 6.109375 \nQ 34.1875 6.109375 38.703125 11.40625 \nQ 43.21875 16.703125 43.21875 25.484375 \nL 43.21875 27.484375 \nz\nM 52.203125 31.203125 \nL 52.203125 0 \nL 43.21875 0 \nL 43.21875 8.296875 \nQ 40.140625 3.328125 35.546875 0.953125 \nQ 30.953125 -1.421875 24.3125 -1.421875 \nQ 15.921875 -1.421875 10.953125 3.296875 \nQ 6 8.015625 6 15.921875 \nQ 6 25.140625 12.171875 29.828125 \nQ 18.359375 34.515625 30.609375 34.515625 \nL 43.21875 34.515625 \nL 43.21875 35.40625 \nQ 43.21875 41.609375 39.140625 45 \nQ 35.0625 48.390625 27.6875 48.390625 \nQ 23 48.390625 18.546875 47.265625 \nQ 14.109375 46.140625 10.015625 43.890625 \nL 10.015625 52.203125 \nQ 14.9375 54.109375 19.578125 55.046875 \nQ 24.21875 56 28.609375 56 \nQ 40.484375 56 46.34375 49.84375 \nQ 52.203125 43.703125 52.203125 31.203125 \nz\n\" id=\"DejaVuSans-97\"/>\n       <path d=\"M 18.3125 70.21875 \nL 18.3125 54.6875 \nL 36.8125 54.6875 \nL 36.8125 47.703125 \nL 18.3125 47.703125 \nL 18.3125 18.015625 \nQ 18.3125 11.328125 20.140625 9.421875 \nQ 21.96875 7.515625 27.59375 7.515625 \nL 36.8125 7.515625 \nL 36.8125 0 \nL 27.59375 0 \nQ 17.1875 0 13.234375 3.875 \nQ 9.28125 7.765625 9.28125 18.015625 \nL 9.28125 47.703125 \nL 2.6875 47.703125 \nL 2.6875 54.6875 \nL 9.28125 54.6875 \nL 9.28125 70.21875 \nz\n\" id=\"DejaVuSans-116\"/>\n       <path d=\"M 56.203125 29.59375 \nL 56.203125 25.203125 \nL 14.890625 25.203125 \nQ 15.484375 15.921875 20.484375 11.0625 \nQ 25.484375 6.203125 34.421875 6.203125 \nQ 39.59375 6.203125 44.453125 7.46875 \nQ 49.3125 8.734375 54.109375 11.28125 \nL 54.109375 2.78125 \nQ 49.265625 0.734375 44.1875 -0.34375 \nQ 39.109375 -1.421875 33.890625 -1.421875 \nQ 20.796875 -1.421875 13.15625 6.1875 \nQ 5.515625 13.8125 5.515625 26.8125 \nQ 5.515625 40.234375 12.765625 48.109375 \nQ 20.015625 56 32.328125 56 \nQ 43.359375 56 49.78125 48.890625 \nQ 56.203125 41.796875 56.203125 29.59375 \nz\nM 47.21875 32.234375 \nQ 47.125 39.59375 43.09375 43.984375 \nQ 39.0625 48.390625 32.421875 48.390625 \nQ 24.90625 48.390625 20.390625 44.140625 \nQ 15.875 39.890625 15.1875 32.171875 \nz\n\" id=\"DejaVuSans-101\"/>\n      </defs>\n      <use xlink:href=\"#DejaVuSans-100\"/>\n      <use x=\"63.476562\" xlink:href=\"#DejaVuSans-97\"/>\n      <use x=\"124.755859\" xlink:href=\"#DejaVuSans-116\"/>\n      <use x=\"163.964844\" xlink:href=\"#DejaVuSans-101\"/>\n     </g>\n    </g>\n   </g>\n   <g id=\"matplotlib.axis_2\">\n    <g id=\"ytick_1\">\n     <g id=\"line2d_10\">\n      <defs>\n       <path d=\"M 0 0 \nL -3.5 0 \n\" id=\"md1c10baf60\" style=\"stroke:#000000;stroke-width:0.8;\"/>\n      </defs>\n      <g>\n       <use style=\"stroke:#000000;stroke-width:0.8;\" x=\"53.60625\" xlink:href=\"#md1c10baf60\" y=\"185.184386\"/>\n      </g>\n     </g>\n     <g id=\"text_11\">\n      <!-- 200 -->\n      <g transform=\"translate(27.51875 188.983605)scale(0.1 -0.1)\">\n       <use xlink:href=\"#DejaVuSans-50\"/>\n       <use x=\"63.623047\" xlink:href=\"#DejaVuSans-48\"/>\n       <use x=\"127.246094\" xlink:href=\"#DejaVuSans-48\"/>\n      </g>\n     </g>\n    </g>\n    <g id=\"ytick_2\">\n     <g id=\"line2d_11\">\n      <g>\n       <use style=\"stroke:#000000;stroke-width:0.8;\" x=\"53.60625\" xlink:href=\"#md1c10baf60\" y=\"143.159199\"/>\n      </g>\n     </g>\n     <g id=\"text_12\">\n      <!-- 400 -->\n      <g transform=\"translate(27.51875 146.958417)scale(0.1 -0.1)\">\n       <use xlink:href=\"#DejaVuSans-52\"/>\n       <use x=\"63.623047\" xlink:href=\"#DejaVuSans-48\"/>\n       <use x=\"127.246094\" xlink:href=\"#DejaVuSans-48\"/>\n      </g>\n     </g>\n    </g>\n    <g id=\"ytick_3\">\n     <g id=\"line2d_12\">\n      <g>\n       <use style=\"stroke:#000000;stroke-width:0.8;\" x=\"53.60625\" xlink:href=\"#md1c10baf60\" y=\"101.134011\"/>\n      </g>\n     </g>\n     <g id=\"text_13\">\n      <!-- 600 -->\n      <g transform=\"translate(27.51875 104.93323)scale(0.1 -0.1)\">\n       <defs>\n        <path d=\"M 33.015625 40.375 \nQ 26.375 40.375 22.484375 35.828125 \nQ 18.609375 31.296875 18.609375 23.390625 \nQ 18.609375 15.53125 22.484375 10.953125 \nQ 26.375 6.390625 33.015625 6.390625 \nQ 39.65625 6.390625 43.53125 10.953125 \nQ 47.40625 15.53125 47.40625 23.390625 \nQ 47.40625 31.296875 43.53125 35.828125 \nQ 39.65625 40.375 33.015625 40.375 \nz\nM 52.59375 71.296875 \nL 52.59375 62.3125 \nQ 48.875 64.0625 45.09375 64.984375 \nQ 41.3125 65.921875 37.59375 65.921875 \nQ 27.828125 65.921875 22.671875 59.328125 \nQ 17.53125 52.734375 16.796875 39.40625 \nQ 19.671875 43.65625 24.015625 45.921875 \nQ 28.375 48.1875 33.59375 48.1875 \nQ 44.578125 48.1875 50.953125 41.515625 \nQ 57.328125 34.859375 57.328125 23.390625 \nQ 57.328125 12.15625 50.6875 5.359375 \nQ 44.046875 -1.421875 33.015625 -1.421875 \nQ 20.359375 -1.421875 13.671875 8.265625 \nQ 6.984375 17.96875 6.984375 36.375 \nQ 6.984375 53.65625 15.1875 63.9375 \nQ 23.390625 74.21875 37.203125 74.21875 \nQ 40.921875 74.21875 44.703125 73.484375 \nQ 48.484375 72.75 52.59375 71.296875 \nz\n\" id=\"DejaVuSans-54\"/>\n       </defs>\n       <use xlink:href=\"#DejaVuSans-54\"/>\n       <use x=\"63.623047\" xlink:href=\"#DejaVuSans-48\"/>\n       <use x=\"127.246094\" xlink:href=\"#DejaVuSans-48\"/>\n      </g>\n     </g>\n    </g>\n    <g id=\"ytick_4\">\n     <g id=\"line2d_13\">\n      <g>\n       <use style=\"stroke:#000000;stroke-width:0.8;\" x=\"53.60625\" xlink:href=\"#md1c10baf60\" y=\"59.108824\"/>\n      </g>\n     </g>\n     <g id=\"text_14\">\n      <!-- 800 -->\n      <g transform=\"translate(27.51875 62.908043)scale(0.1 -0.1)\">\n       <defs>\n        <path d=\"M 31.78125 34.625 \nQ 24.75 34.625 20.71875 30.859375 \nQ 16.703125 27.09375 16.703125 20.515625 \nQ 16.703125 13.921875 20.71875 10.15625 \nQ 24.75 6.390625 31.78125 6.390625 \nQ 38.8125 6.390625 42.859375 10.171875 \nQ 46.921875 13.96875 46.921875 20.515625 \nQ 46.921875 27.09375 42.890625 30.859375 \nQ 38.875 34.625 31.78125 34.625 \nz\nM 21.921875 38.8125 \nQ 15.578125 40.375 12.03125 44.71875 \nQ 8.5 49.078125 8.5 55.328125 \nQ 8.5 64.0625 14.71875 69.140625 \nQ 20.953125 74.21875 31.78125 74.21875 \nQ 42.671875 74.21875 48.875 69.140625 \nQ 55.078125 64.0625 55.078125 55.328125 \nQ 55.078125 49.078125 51.53125 44.71875 \nQ 48 40.375 41.703125 38.8125 \nQ 48.828125 37.15625 52.796875 32.3125 \nQ 56.78125 27.484375 56.78125 20.515625 \nQ 56.78125 9.90625 50.3125 4.234375 \nQ 43.84375 -1.421875 31.78125 -1.421875 \nQ 19.734375 -1.421875 13.25 4.234375 \nQ 6.78125 9.90625 6.78125 20.515625 \nQ 6.78125 27.484375 10.78125 32.3125 \nQ 14.796875 37.15625 21.921875 38.8125 \nz\nM 18.3125 54.390625 \nQ 18.3125 48.734375 21.84375 45.5625 \nQ 25.390625 42.390625 31.78125 42.390625 \nQ 38.140625 42.390625 41.71875 45.5625 \nQ 45.3125 48.734375 45.3125 54.390625 \nQ 45.3125 60.0625 41.71875 63.234375 \nQ 38.140625 66.40625 31.78125 66.40625 \nQ 25.390625 66.40625 21.84375 63.234375 \nQ 18.3125 60.0625 18.3125 54.390625 \nz\n\" id=\"DejaVuSans-56\"/>\n       </defs>\n       <use xlink:href=\"#DejaVuSans-56\"/>\n       <use x=\"63.623047\" xlink:href=\"#DejaVuSans-48\"/>\n       <use x=\"127.246094\" xlink:href=\"#DejaVuSans-48\"/>\n      </g>\n     </g>\n    </g>\n    <g id=\"ytick_5\">\n     <g id=\"line2d_14\">\n      <g>\n       <use style=\"stroke:#000000;stroke-width:0.8;\" x=\"53.60625\" xlink:href=\"#md1c10baf60\" y=\"17.083636\"/>\n      </g>\n     </g>\n     <g id=\"text_15\">\n      <!-- 1000 -->\n      <g transform=\"translate(21.15625 20.882855)scale(0.1 -0.1)\">\n       <use xlink:href=\"#DejaVuSans-49\"/>\n       <use x=\"63.623047\" xlink:href=\"#DejaVuSans-48\"/>\n       <use x=\"127.246094\" xlink:href=\"#DejaVuSans-48\"/>\n       <use x=\"190.869141\" xlink:href=\"#DejaVuSans-48\"/>\n      </g>\n     </g>\n    </g>\n    <g id=\"text_16\">\n     <!-- oil_rate -->\n     <g transform=\"translate(14.798437 134.41375)rotate(-90)scale(0.1 -0.1)\">\n      <defs>\n       <path d=\"M 30.609375 48.390625 \nQ 23.390625 48.390625 19.1875 42.75 \nQ 14.984375 37.109375 14.984375 27.296875 \nQ 14.984375 17.484375 19.15625 11.84375 \nQ 23.34375 6.203125 30.609375 6.203125 \nQ 37.796875 6.203125 41.984375 11.859375 \nQ 46.1875 17.53125 46.1875 27.296875 \nQ 46.1875 37.015625 41.984375 42.703125 \nQ 37.796875 48.390625 30.609375 48.390625 \nz\nM 30.609375 56 \nQ 42.328125 56 49.015625 48.375 \nQ 55.71875 40.765625 55.71875 27.296875 \nQ 55.71875 13.875 49.015625 6.21875 \nQ 42.328125 -1.421875 30.609375 -1.421875 \nQ 18.84375 -1.421875 12.171875 6.21875 \nQ 5.515625 13.875 5.515625 27.296875 \nQ 5.515625 40.765625 12.171875 48.375 \nQ 18.84375 56 30.609375 56 \nz\n\" id=\"DejaVuSans-111\"/>\n       <path d=\"M 9.421875 54.6875 \nL 18.40625 54.6875 \nL 18.40625 0 \nL 9.421875 0 \nz\nM 9.421875 75.984375 \nL 18.40625 75.984375 \nL 18.40625 64.59375 \nL 9.421875 64.59375 \nz\n\" id=\"DejaVuSans-105\"/>\n       <path d=\"M 9.421875 75.984375 \nL 18.40625 75.984375 \nL 18.40625 0 \nL 9.421875 0 \nz\n\" id=\"DejaVuSans-108\"/>\n       <path d=\"M 50.984375 -16.609375 \nL 50.984375 -23.578125 \nL -0.984375 -23.578125 \nL -0.984375 -16.609375 \nz\n\" id=\"DejaVuSans-95\"/>\n       <path d=\"M 41.109375 46.296875 \nQ 39.59375 47.171875 37.8125 47.578125 \nQ 36.03125 48 33.890625 48 \nQ 26.265625 48 22.1875 43.046875 \nQ 18.109375 38.09375 18.109375 28.8125 \nL 18.109375 0 \nL 9.078125 0 \nL 9.078125 54.6875 \nL 18.109375 54.6875 \nL 18.109375 46.1875 \nQ 20.953125 51.171875 25.484375 53.578125 \nQ 30.03125 56 36.53125 56 \nQ 37.453125 56 38.578125 55.875 \nQ 39.703125 55.765625 41.0625 55.515625 \nz\n\" id=\"DejaVuSans-114\"/>\n      </defs>\n      <use xlink:href=\"#DejaVuSans-111\"/>\n      <use x=\"61.181641\" xlink:href=\"#DejaVuSans-105\"/>\n      <use x=\"88.964844\" xlink:href=\"#DejaVuSans-108\"/>\n      <use x=\"116.748047\" xlink:href=\"#DejaVuSans-95\"/>\n      <use x=\"166.748047\" xlink:href=\"#DejaVuSans-114\"/>\n      <use x=\"207.861328\" xlink:href=\"#DejaVuSans-97\"/>\n      <use x=\"269.140625\" xlink:href=\"#DejaVuSans-116\"/>\n      <use x=\"308.349609\" xlink:href=\"#DejaVuSans-101\"/>\n     </g>\n    </g>\n   </g>\n   <g id=\"line2d_15\">\n    <path clip-path=\"url(#p25d92bd7bf)\" d=\"M 68.824432 210.399498 \nL 81.749463 210.822399 \nL 93.423685 211.195222 \nL 106.348716 211.598105 \nL 118.85681 211.978338 \nL 131.781842 212.361519 \nL 144.289936 212.723159 \nL 157.214967 213.087602 \nL 170.139998 213.442877 \nL 182.648093 213.778179 \nL 195.573124 214.11608 \nL 208.081219 214.434986 \nL 221.00625 214.756364 \n\" style=\"fill:none;stroke:#edd1cb;stroke-linecap:square;stroke-width:1.5;\"/>\n   </g>\n   <g id=\"line2d_16\">\n    <path clip-path=\"url(#p25d92bd7bf)\" d=\"M 221.00625 164.171792 \nL 233.931281 165.757671 \nL 245.605503 167.155757 \nL 258.530534 168.666567 \nL 271.038629 170.092441 \nL 283.96366 171.529371 \nL 296.471754 172.885519 \nL 309.396785 174.252181 \nL 322.321817 175.584462 \nL 334.829911 176.841844 \nL 347.754942 178.108975 \nL 360.263037 179.30487 \nL 373.188068 180.510037 \n\" style=\"fill:none;stroke:#edd1cb;stroke-dasharray:6,2.25;stroke-dashoffset:0;stroke-width:1.5;\"/>\n   </g>\n   <g id=\"line2d_17\">\n    <path clip-path=\"url(#p25d92bd7bf)\" d=\"M 68.824432 206.19698 \nL 81.749463 206.725606 \nL 93.423685 207.191635 \nL 106.348716 207.695238 \nL 118.85681 208.170529 \nL 131.781842 208.649506 \nL 144.289936 209.101555 \nL 157.214967 209.557109 \nL 170.139998 210.001203 \nL 182.648093 210.42033 \nL 195.573124 210.842707 \nL 208.081219 211.241339 \nL 221.00625 211.643061 \n\" style=\"fill:none;stroke:#a9678f;stroke-linecap:square;stroke-width:1.5;\"/>\n   </g>\n   <g id=\"line2d_18\">\n    <path clip-path=\"url(#p25d92bd7bf)\" d=\"M 68.824432 17.083636 \nL 81.749463 22.369899 \nL 93.423685 27.030186 \nL 106.348716 32.066217 \nL 118.85681 36.819133 \nL 131.781842 41.608897 \nL 144.289936 46.129391 \nL 157.214967 50.684932 \nL 170.139998 55.125867 \nL 182.648093 59.317141 \nL 195.573124 63.54091 \nL 208.081219 67.527228 \nL 221.00625 71.544451 \n\" style=\"fill:none;stroke:#2d1e3e;stroke-linecap:square;stroke-width:1.5;\"/>\n   </g>\n   <g id=\"line2d_19\"/>\n   <g id=\"line2d_20\"/>\n   <g id=\"line2d_21\"/>\n   <g id=\"line2d_22\"/>\n   <g id=\"line2d_23\"/>\n   <g id=\"patch_3\">\n    <path d=\"M 53.60625 224.64 \nL 53.60625 7.2 \n\" style=\"fill:none;stroke:#000000;stroke-linecap:square;stroke-linejoin:miter;stroke-width:0.8;\"/>\n   </g>\n   <g id=\"patch_4\">\n    <path d=\"M 388.40625 224.64 \nL 388.40625 7.2 \n\" style=\"fill:none;stroke:#000000;stroke-linecap:square;stroke-linejoin:miter;stroke-width:0.8;\"/>\n   </g>\n   <g id=\"patch_5\">\n    <path d=\"M 53.60625 224.64 \nL 388.40625 224.64 \n\" style=\"fill:none;stroke:#000000;stroke-linecap:square;stroke-linejoin:miter;stroke-width:0.8;\"/>\n   </g>\n   <g id=\"patch_6\">\n    <path d=\"M 53.60625 7.2 \nL 388.40625 7.2 \n\" style=\"fill:none;stroke:#000000;stroke-linecap:square;stroke-linejoin:miter;stroke-width:0.8;\"/>\n   </g>\n   <g id=\"legend_1\">\n    <g id=\"patch_7\">\n     <path d=\"M 327.160937 117.946875 \nL 381.40625 117.946875 \nQ 383.40625 117.946875 383.40625 115.946875 \nL 383.40625 14.2 \nQ 383.40625 12.2 381.40625 12.2 \nL 327.160937 12.2 \nQ 325.160937 12.2 325.160937 14.2 \nL 325.160937 115.946875 \nQ 325.160937 117.946875 327.160937 117.946875 \nz\n\" style=\"fill:#ffffff;opacity:0.8;stroke:#cccccc;stroke-linejoin:miter;\"/>\n    </g>\n    <g id=\"text_17\">\n     <!-- iteration -->\n     <g transform=\"translate(337.160937 23.798437)scale(0.1 -0.1)\">\n      <defs>\n       <path d=\"M 54.890625 33.015625 \nL 54.890625 0 \nL 45.90625 0 \nL 45.90625 32.71875 \nQ 45.90625 40.484375 42.875 44.328125 \nQ 39.84375 48.1875 33.796875 48.1875 \nQ 26.515625 48.1875 22.3125 43.546875 \nQ 18.109375 38.921875 18.109375 30.90625 \nL 18.109375 0 \nL 9.078125 0 \nL 9.078125 54.6875 \nL 18.109375 54.6875 \nL 18.109375 46.1875 \nQ 21.34375 51.125 25.703125 53.5625 \nQ 30.078125 56 35.796875 56 \nQ 45.21875 56 50.046875 50.171875 \nQ 54.890625 44.34375 54.890625 33.015625 \nz\n\" id=\"DejaVuSans-110\"/>\n      </defs>\n      <use xlink:href=\"#DejaVuSans-105\"/>\n      <use x=\"27.783203\" xlink:href=\"#DejaVuSans-116\"/>\n      <use x=\"66.992188\" xlink:href=\"#DejaVuSans-101\"/>\n      <use x=\"128.515625\" xlink:href=\"#DejaVuSans-114\"/>\n      <use x=\"169.628906\" xlink:href=\"#DejaVuSans-97\"/>\n      <use x=\"230.908203\" xlink:href=\"#DejaVuSans-116\"/>\n      <use x=\"270.117188\" xlink:href=\"#DejaVuSans-105\"/>\n      <use x=\"297.900391\" xlink:href=\"#DejaVuSans-111\"/>\n      <use x=\"359.082031\" xlink:href=\"#DejaVuSans-110\"/>\n     </g>\n    </g>\n    <g id=\"line2d_24\">\n     <path d=\"M 329.160937 34.976562 \nL 349.160937 34.976562 \n\" style=\"fill:none;stroke:#edd1cb;stroke-linecap:square;stroke-width:1.5;\"/>\n    </g>\n    <g id=\"line2d_25\"/>\n    <g id=\"text_18\">\n     <!-- 0 -->\n     <g transform=\"translate(357.160937 38.476562)scale(0.1 -0.1)\">\n      <use xlink:href=\"#DejaVuSans-48\"/>\n     </g>\n    </g>\n    <g id=\"line2d_26\">\n     <path d=\"M 329.160937 49.654687 \nL 349.160937 49.654687 \n\" style=\"fill:none;stroke:#a9678f;stroke-linecap:square;stroke-width:1.5;\"/>\n    </g>\n    <g id=\"line2d_27\"/>\n    <g id=\"text_19\">\n     <!-- 1 -->\n     <g transform=\"translate(357.160937 53.154687)scale(0.1 -0.1)\">\n      <use xlink:href=\"#DejaVuSans-49\"/>\n     </g>\n    </g>\n    <g id=\"line2d_28\">\n     <path d=\"M 329.160937 64.332812 \nL 349.160937 64.332812 \n\" style=\"fill:none;stroke:#2d1e3e;stroke-linecap:square;stroke-width:1.5;\"/>\n    </g>\n    <g id=\"line2d_29\"/>\n    <g id=\"text_20\">\n     <!-- 2 -->\n     <g transform=\"translate(357.160937 67.832812)scale(0.1 -0.1)\">\n      <use xlink:href=\"#DejaVuSans-50\"/>\n     </g>\n    </g>\n    <g id=\"text_21\">\n     <!-- period -->\n     <g transform=\"translate(337.160937 82.510937)scale(0.1 -0.1)\">\n      <defs>\n       <path d=\"M 18.109375 8.203125 \nL 18.109375 -20.796875 \nL 9.078125 -20.796875 \nL 9.078125 54.6875 \nL 18.109375 54.6875 \nL 18.109375 46.390625 \nQ 20.953125 51.265625 25.265625 53.625 \nQ 29.59375 56 35.59375 56 \nQ 45.5625 56 51.78125 48.09375 \nQ 58.015625 40.1875 58.015625 27.296875 \nQ 58.015625 14.40625 51.78125 6.484375 \nQ 45.5625 -1.421875 35.59375 -1.421875 \nQ 29.59375 -1.421875 25.265625 0.953125 \nQ 20.953125 3.328125 18.109375 8.203125 \nz\nM 48.6875 27.296875 \nQ 48.6875 37.203125 44.609375 42.84375 \nQ 40.53125 48.484375 33.40625 48.484375 \nQ 26.265625 48.484375 22.1875 42.84375 \nQ 18.109375 37.203125 18.109375 27.296875 \nQ 18.109375 17.390625 22.1875 11.75 \nQ 26.265625 6.109375 33.40625 6.109375 \nQ 40.53125 6.109375 44.609375 11.75 \nQ 48.6875 17.390625 48.6875 27.296875 \nz\n\" id=\"DejaVuSans-112\"/>\n      </defs>\n      <use xlink:href=\"#DejaVuSans-112\"/>\n      <use x=\"63.476562\" xlink:href=\"#DejaVuSans-101\"/>\n      <use x=\"125\" xlink:href=\"#DejaVuSans-114\"/>\n      <use x=\"166.113281\" xlink:href=\"#DejaVuSans-105\"/>\n      <use x=\"193.896484\" xlink:href=\"#DejaVuSans-111\"/>\n      <use x=\"255.078125\" xlink:href=\"#DejaVuSans-100\"/>\n     </g>\n    </g>\n    <g id=\"line2d_30\">\n     <path d=\"M 329.160937 93.689062 \nL 349.160937 93.689062 \n\" style=\"fill:none;stroke:#333333;stroke-linecap:square;stroke-width:1.5;\"/>\n    </g>\n    <g id=\"line2d_31\"/>\n    <g id=\"text_22\">\n     <!-- pdp -->\n     <g transform=\"translate(357.160937 97.189062)scale(0.1 -0.1)\">\n      <use xlink:href=\"#DejaVuSans-112\"/>\n      <use x=\"63.476562\" xlink:href=\"#DejaVuSans-100\"/>\n      <use x=\"126.953125\" xlink:href=\"#DejaVuSans-112\"/>\n     </g>\n    </g>\n    <g id=\"line2d_32\">\n     <path d=\"M 329.160937 108.367187 \nL 349.160937 108.367187 \n\" style=\"fill:none;stroke:#333333;stroke-dasharray:6,2.25;stroke-dashoffset:0;stroke-width:1.5;\"/>\n    </g>\n    <g id=\"line2d_33\"/>\n    <g id=\"text_23\">\n     <!-- pud -->\n     <g transform=\"translate(357.160937 111.867187)scale(0.1 -0.1)\">\n      <defs>\n       <path d=\"M 8.5 21.578125 \nL 8.5 54.6875 \nL 17.484375 54.6875 \nL 17.484375 21.921875 \nQ 17.484375 14.15625 20.5 10.265625 \nQ 23.53125 6.390625 29.59375 6.390625 \nQ 36.859375 6.390625 41.078125 11.03125 \nQ 45.3125 15.671875 45.3125 23.6875 \nL 45.3125 54.6875 \nL 54.296875 54.6875 \nL 54.296875 0 \nL 45.3125 0 \nL 45.3125 8.40625 \nQ 42.046875 3.421875 37.71875 1 \nQ 33.40625 -1.421875 27.6875 -1.421875 \nQ 18.265625 -1.421875 13.375 4.4375 \nQ 8.5 10.296875 8.5 21.578125 \nz\nM 31.109375 56 \nz\n\" id=\"DejaVuSans-117\"/>\n      </defs>\n      <use xlink:href=\"#DejaVuSans-112\"/>\n      <use x=\"63.476562\" xlink:href=\"#DejaVuSans-117\"/>\n      <use x=\"126.855469\" xlink:href=\"#DejaVuSans-100\"/>\n     </g>\n    </g>\n   </g>\n  </g>\n </g>\n <defs>\n  <clipPath id=\"p25d92bd7bf\">\n   <rect height=\"217.44\" width=\"334.8\" x=\"53.60625\" y=\"7.2\"/>\n  </clipPath>\n </defs>\n</svg>\n",
      "image/png": "[encoded data removed]"
     },
     "metadata": {
      "needs_background": "light"
     }
    }
   ],
   "source": [
    "sns.lineplot(data=s1_f, x=s1_f.index.to_timestamp(), y='oil_rate', hue='iteration', style='period')"
   ]
  },
  {
   "cell_type": "code",
   "execution_count": 16,
   "metadata": {},
   "outputs": [
    {
     "output_type": "execute_result",
     "data": {
      "text/plain": [
       "                income         income   total_income  fix_opex      var_opex  \\\n",
       "2021-01       0.000000       0.000000       0.000000   -5000.0      0.000000   \n",
       "2021-02  183650.408691       0.000000  183650.408691   -5000.0 -15304.200724   \n",
       "2021-03  161903.381346       0.000000  161903.381346   -5000.0 -13491.948446   \n",
       "2021-04  174957.108038       0.000000  174957.108038   -5000.0 -14579.759003   \n",
       "2021-05  165121.375734       0.000000  165121.375734   -5000.0 -13760.114645   \n",
       "2021-06  166401.552897       0.000000  166401.552897   -5000.0 -13866.796075   \n",
       "2021-07  157046.796479       0.000000  157046.796479   -5000.0 -13087.233040   \n",
       "2021-08  158264.371862       0.000000  158264.371862   -5000.0 -13188.697655   \n",
       "2021-09  154282.821647       0.000000  154282.821647   -5000.0 -12856.901804   \n",
       "2021-10  145609.355619       0.000000  145609.355619   -5000.0 -12134.112968   \n",
       "2021-11  146738.257137       0.000000  146738.257137   -5000.0 -12228.188095   \n",
       "2021-12  138488.931162       0.000000  138488.931162   -5000.0 -11540.744263   \n",
       "2022-01  139562.628411       0.000000  139562.628411   -5000.0 -11630.219034   \n",
       "2022-02       0.000000  550951.226073  550951.226073       0.0      0.000000   \n",
       "2022-03       0.000000  485710.144039  485710.144039       0.0      0.000000   \n",
       "2022-04       0.000000  524871.324115  524871.324115       0.0      0.000000   \n",
       "2022-05       0.000000  495364.127203  495364.127203       0.0      0.000000   \n",
       "2022-06       0.000000  499204.658691  499204.658691       0.0      0.000000   \n",
       "2022-07       0.000000  471140.389437  471140.389437       0.0      0.000000   \n",
       "2022-08       0.000000  474793.115586  474793.115586       0.0      0.000000   \n",
       "2022-09       0.000000  462848.464940  462848.464940       0.0      0.000000   \n",
       "2022-10       0.000000  436828.066858  436828.066858       0.0      0.000000   \n",
       "2022-11       0.000000  440214.771412  440214.771412       0.0      0.000000   \n",
       "2022-12       0.000000  415466.793485  415466.793485       0.0      0.000000   \n",
       "2023-01       0.000000  418687.885233  418687.885233       0.0      0.000000   \n",
       "\n",
       "         fix_opex      var_opex    total_opex  total_capex            fcf  \\\n",
       "2021-01       0.0      0.000000  -5000.000000            0   -5000.000000   \n",
       "2021-02       0.0      0.000000 -20304.200724            0  163346.207967   \n",
       "2021-03       0.0      0.000000 -18491.948446            0  143411.432901   \n",
       "2021-04       0.0      0.000000 -19579.759003            0  155377.349035   \n",
       "2021-05       0.0      0.000000 -18760.114645            0  146361.261090   \n",
       "2021-06       0.0      0.000000 -18866.796075            0  147534.756822   \n",
       "2021-07       0.0      0.000000 -18087.233040            0  138959.563439   \n",
       "2021-08       0.0      0.000000 -18188.697655            0  140075.674207   \n",
       "2021-09       0.0      0.000000 -17856.901804            0  136425.919843   \n",
       "2021-10       0.0      0.000000 -17134.112968            0  128475.242651   \n",
       "2021-11       0.0      0.000000 -17228.188095            0  129510.069042   \n",
       "2021-12       0.0      0.000000 -16540.744263            0  121948.186898   \n",
       "2022-01   -5000.0      0.000000 -21630.219034            0  117932.409377   \n",
       "2022-02   -5000.0 -45912.602173 -50912.602173            0  500038.623900   \n",
       "2022-03   -5000.0 -40475.845337 -45475.845337            0  440234.298703   \n",
       "2022-04   -5000.0 -43739.277010 -48739.277010            0  476132.047105   \n",
       "2022-05   -5000.0 -41280.343934 -46280.343934            0  449083.783269   \n",
       "2022-06   -5000.0 -41600.388224 -46600.388224            0  452604.270466   \n",
       "2022-07   -5000.0 -39261.699120 -44261.699120            0  426878.690317   \n",
       "2022-08   -5000.0 -39566.092966 -44566.092966            0  430227.022621   \n",
       "2022-09   -5000.0 -38570.705412 -43570.705412            0  419277.759528   \n",
       "2022-10   -5000.0 -36402.338905 -41402.338905            0  395425.727953   \n",
       "2022-11   -5000.0 -36684.564284 -41684.564284            0  398530.207127   \n",
       "2022-12   -5000.0 -34622.232790 -39622.232790            0  375844.560694   \n",
       "2023-01   -5000.0 -34890.657103 -39890.657103            0  378797.228131   \n",
       "\n",
       "              cum_fcf  \n",
       "2021-01 -5.000000e+03  \n",
       "2021-02  1.583462e+05  \n",
       "2021-03  3.017576e+05  \n",
       "2021-04  4.571350e+05  \n",
       "2021-05  6.034963e+05  \n",
       "2021-06  7.510310e+05  \n",
       "2021-07  8.899906e+05  \n",
       "2021-08  1.030066e+06  \n",
       "2021-09  1.166492e+06  \n",
       "2021-10  1.294967e+06  \n",
       "2021-11  1.424477e+06  \n",
       "2021-12  1.546426e+06  \n",
       "2022-01  1.664358e+06  \n",
       "2022-02  2.164397e+06  \n",
       "2022-03  2.604631e+06  \n",
       "2022-04  3.080763e+06  \n",
       "2022-05  3.529847e+06  \n",
       "2022-06  3.982451e+06  \n",
       "2022-07  4.409330e+06  \n",
       "2022-08  4.839557e+06  \n",
       "2022-09  5.258835e+06  \n",
       "2022-10  5.654260e+06  \n",
       "2022-11  6.052791e+06  \n",
       "2022-12  6.428635e+06  \n",
       "2023-01  6.807432e+06  "
      ],
      "text/html": "<div>\n<style scoped>\n    .dataframe tbody tr th:only-of-type {\n        vertical-align: middle;\n    }\n\n    .dataframe tbody tr th {\n        vertical-align: top;\n    }\n\n    .dataframe thead th {\n        text-align: right;\n    }\n</style>\n<table border=\"1\" class=\"dataframe\">\n  <thead>\n    <tr style=\"text-align: right;\">\n      <th></th>\n      <th>income</th>\n      <th>income</th>\n      <th>total_income</th>\n      <th>fix_opex</th>\n      <th>var_opex</th>\n      <th>fix_opex</th>\n      <th>var_opex</th>\n      <th>total_opex</th>\n      <th>total_capex</th>\n      <th>fcf</th>\n      <th>cum_fcf</th>\n    </tr>\n  </thead>\n  <tbody>\n    <tr>\n      <th>2021-01</th>\n      <td>0.000000</td>\n      <td>0.000000</td>\n      <td>0.000000</td>\n      <td>-5000.0</td>\n      <td>0.000000</td>\n      <td>0.0</td>\n      <td>0.000000</td>\n      <td>-5000.000000</td>\n      <td>0</td>\n      <td>-5000.000000</td>\n      <td>-5.000000e+03</td>\n    </tr>\n    <tr>\n      <th>2021-02</th>\n      <td>183650.408691</td>\n      <td>0.000000</td>\n      <td>183650.408691</td>\n      <td>-5000.0</td>\n      <td>-15304.200724</td>\n      <td>0.0</td>\n      <td>0.000000</td>\n      <td>-20304.200724</td>\n      <td>0</td>\n      <td>163346.207967</td>\n      <td>1.583462e+05</td>\n    </tr>\n    <tr>\n      <th>2021-03</th>\n      <td>161903.381346</td>\n      <td>0.000000</td>\n      <td>161903.381346</td>\n      <td>-5000.0</td>\n      <td>-13491.948446</td>\n      <td>0.0</td>\n      <td>0.000000</td>\n      <td>-18491.948446</td>\n      <td>0</td>\n      <td>143411.432901</td>\n      <td>3.017576e+05</td>\n    </tr>\n    <tr>\n      <th>2021-04</th>\n      <td>174957.108038</td>\n      <td>0.000000</td>\n      <td>174957.108038</td>\n      <td>-5000.0</td>\n      <td>-14579.759003</td>\n      <td>0.0</td>\n      <td>0.000000</td>\n      <td>-19579.759003</td>\n      <td>0</td>\n      <td>155377.349035</td>\n      <td>4.571350e+05</td>\n    </tr>\n    <tr>\n      <th>2021-05</th>\n      <td>165121.375734</td>\n      <td>0.000000</td>\n      <td>165121.375734</td>\n      <td>-5000.0</td>\n      <td>-13760.114645</td>\n      <td>0.0</td>\n      <td>0.000000</td>\n      <td>-18760.114645</td>\n      <td>0</td>\n      <td>146361.261090</td>\n      <td>6.034963e+05</td>\n    </tr>\n    <tr>\n      <th>2021-06</th>\n      <td>166401.552897</td>\n      <td>0.000000</td>\n      <td>166401.552897</td>\n      <td>-5000.0</td>\n      <td>-13866.796075</td>\n      <td>0.0</td>\n      <td>0.000000</td>\n      <td>-18866.796075</td>\n      <td>0</td>\n      <td>147534.756822</td>\n      <td>7.510310e+05</td>\n    </tr>\n    <tr>\n      <th>2021-07</th>\n      <td>157046.796479</td>\n      <td>0.000000</td>\n      <td>157046.796479</td>\n      <td>-5000.0</td>\n      <td>-13087.233040</td>\n      <td>0.0</td>\n      <td>0.000000</td>\n      <td>-18087.233040</td>\n      <td>0</td>\n      <td>138959.563439</td>\n      <td>8.899906e+05</td>\n    </tr>\n    <tr>\n      <th>2021-08</th>\n      <td>158264.371862</td>\n      <td>0.000000</td>\n      <td>158264.371862</td>\n      <td>-5000.0</td>\n      <td>-13188.697655</td>\n      <td>0.0</td>\n      <td>0.000000</td>\n      <td>-18188.697655</td>\n      <td>0</td>\n      <td>140075.674207</td>\n      <td>1.030066e+06</td>\n    </tr>\n    <tr>\n      <th>2021-09</th>\n      <td>154282.821647</td>\n      <td>0.000000</td>\n      <td>154282.821647</td>\n      <td>-5000.0</td>\n      <td>-12856.901804</td>\n      <td>0.0</td>\n      <td>0.000000</td>\n      <td>-17856.901804</td>\n      <td>0</td>\n      <td>136425.919843</td>\n      <td>1.166492e+06</td>\n    </tr>\n    <tr>\n      <th>2021-10</th>\n      <td>145609.355619</td>\n      <td>0.000000</td>\n      <td>145609.355619</td>\n      <td>-5000.0</td>\n      <td>-12134.112968</td>\n      <td>0.0</td>\n      <td>0.000000</td>\n      <td>-17134.112968</td>\n      <td>0</td>\n      <td>128475.242651</td>\n      <td>1.294967e+06</td>\n    </tr>\n    <tr>\n      <th>2021-11</th>\n      <td>146738.257137</td>\n      <td>0.000000</td>\n      <td>146738.257137</td>\n      <td>-5000.0</td>\n      <td>-12228.188095</td>\n      <td>0.0</td>\n      <td>0.000000</td>\n      <td>-17228.188095</td>\n      <td>0</td>\n      <td>129510.069042</td>\n      <td>1.424477e+06</td>\n    </tr>\n    <tr>\n      <th>2021-12</th>\n      <td>138488.931162</td>\n      <td>0.000000</td>\n      <td>138488.931162</td>\n      <td>-5000.0</td>\n      <td>-11540.744263</td>\n      <td>0.0</td>\n      <td>0.000000</td>\n      <td>-16540.744263</td>\n      <td>0</td>\n      <td>121948.186898</td>\n      <td>1.546426e+06</td>\n    </tr>\n    <tr>\n      <th>2022-01</th>\n      <td>139562.628411</td>\n      <td>0.000000</td>\n      <td>139562.628411</td>\n      <td>-5000.0</td>\n      <td>-11630.219034</td>\n      <td>-5000.0</td>\n      <td>0.000000</td>\n      <td>-21630.219034</td>\n      <td>0</td>\n      <td>117932.409377</td>\n      <td>1.664358e+06</td>\n    </tr>\n    <tr>\n      <th>2022-02</th>\n      <td>0.000000</td>\n      <td>550951.226073</td>\n      <td>550951.226073</td>\n      <td>0.0</td>\n      <td>0.000000</td>\n      <td>-5000.0</td>\n      <td>-45912.602173</td>\n      <td>-50912.602173</td>\n      <td>0</td>\n      <td>500038.623900</td>\n      <td>2.164397e+06</td>\n    </tr>\n    <tr>\n      <th>2022-03</th>\n      <td>0.000000</td>\n      <td>485710.144039</td>\n      <td>485710.144039</td>\n      <td>0.0</td>\n      <td>0.000000</td>\n      <td>-5000.0</td>\n      <td>-40475.845337</td>\n      <td>-45475.845337</td>\n      <td>0</td>\n      <td>440234.298703</td>\n      <td>2.604631e+06</td>\n    </tr>\n    <tr>\n      <th>2022-04</th>\n      <td>0.000000</td>\n      <td>524871.324115</td>\n      <td>524871.324115</td>\n      <td>0.0</td>\n      <td>0.000000</td>\n      <td>-5000.0</td>\n      <td>-43739.277010</td>\n      <td>-48739.277010</td>\n      <td>0</td>\n      <td>476132.047105</td>\n      <td>3.080763e+06</td>\n    </tr>\n    <tr>\n      <th>2022-05</th>\n      <td>0.000000</td>\n      <td>495364.127203</td>\n      <td>495364.127203</td>\n      <td>0.0</td>\n      <td>0.000000</td>\n      <td>-5000.0</td>\n      <td>-41280.343934</td>\n      <td>-46280.343934</td>\n      <td>0</td>\n      <td>449083.783269</td>\n      <td>3.529847e+06</td>\n    </tr>\n    <tr>\n      <th>2022-06</th>\n      <td>0.000000</td>\n      <td>499204.658691</td>\n      <td>499204.658691</td>\n      <td>0.0</td>\n      <td>0.000000</td>\n      <td>-5000.0</td>\n      <td>-41600.388224</td>\n      <td>-46600.388224</td>\n      <td>0</td>\n      <td>452604.270466</td>\n      <td>3.982451e+06</td>\n    </tr>\n    <tr>\n      <th>2022-07</th>\n      <td>0.000000</td>\n      <td>471140.389437</td>\n      <td>471140.389437</td>\n      <td>0.0</td>\n      <td>0.000000</td>\n      <td>-5000.0</td>\n      <td>-39261.699120</td>\n      <td>-44261.699120</td>\n      <td>0</td>\n      <td>426878.690317</td>\n      <td>4.409330e+06</td>\n    </tr>\n    <tr>\n      <th>2022-08</th>\n      <td>0.000000</td>\n      <td>474793.115586</td>\n      <td>474793.115586</td>\n      <td>0.0</td>\n      <td>0.000000</td>\n      <td>-5000.0</td>\n      <td>-39566.092966</td>\n      <td>-44566.092966</td>\n      <td>0</td>\n      <td>430227.022621</td>\n      <td>4.839557e+06</td>\n    </tr>\n    <tr>\n      <th>2022-09</th>\n      <td>0.000000</td>\n      <td>462848.464940</td>\n      <td>462848.464940</td>\n      <td>0.0</td>\n      <td>0.000000</td>\n      <td>-5000.0</td>\n      <td>-38570.705412</td>\n      <td>-43570.705412</td>\n      <td>0</td>\n      <td>419277.759528</td>\n      <td>5.258835e+06</td>\n    </tr>\n    <tr>\n      <th>2022-10</th>\n      <td>0.000000</td>\n      <td>436828.066858</td>\n      <td>436828.066858</td>\n      <td>0.0</td>\n      <td>0.000000</td>\n      <td>-5000.0</td>\n      <td>-36402.338905</td>\n      <td>-41402.338905</td>\n      <td>0</td>\n      <td>395425.727953</td>\n      <td>5.654260e+06</td>\n    </tr>\n    <tr>\n      <th>2022-11</th>\n      <td>0.000000</td>\n      <td>440214.771412</td>\n      <td>440214.771412</td>\n      <td>0.0</td>\n      <td>0.000000</td>\n      <td>-5000.0</td>\n      <td>-36684.564284</td>\n      <td>-41684.564284</td>\n      <td>0</td>\n      <td>398530.207127</td>\n      <td>6.052791e+06</td>\n    </tr>\n    <tr>\n      <th>2022-12</th>\n      <td>0.000000</td>\n      <td>415466.793485</td>\n      <td>415466.793485</td>\n      <td>0.0</td>\n      <td>0.000000</td>\n      <td>-5000.0</td>\n      <td>-34622.232790</td>\n      <td>-39622.232790</td>\n      <td>0</td>\n      <td>375844.560694</td>\n      <td>6.428635e+06</td>\n    </tr>\n    <tr>\n      <th>2023-01</th>\n      <td>0.000000</td>\n      <td>418687.885233</td>\n      <td>418687.885233</td>\n      <td>0.0</td>\n      <td>0.000000</td>\n      <td>-5000.0</td>\n      <td>-34890.657103</td>\n      <td>-39890.657103</td>\n      <td>0</td>\n      <td>378797.228131</td>\n      <td>6.807432e+06</td>\n    </tr>\n  </tbody>\n</table>\n</div>"
     },
     "metadata": {},
     "execution_count": 16
    }
   ],
   "source": [
    "s1_c = s1.generate_cashflow()\n",
    "s1_c[1].fcf()"
   ]
  },
  {
   "cell_type": "code",
   "execution_count": 17,
   "metadata": {},
   "outputs": [
    {
     "output_type": "stream",
     "name": "stdout",
     "text": [
      "[CashFlow(name='income', const_value=[0.0, 146920.32695275228, 129522.70507709867, 139965.68643055417, 132097.10058734557, 133121.24231748065, 125637.4371832177, 126611.4974897234, 123426.25731726359, 116487.48449533487, 117390.60570980342, 110791.14492930625, 111650.10272888721], start=datetime.date(2021, 1, 31), end=datetime.date(2022, 1, 31), periods=None, freq='M', chgpts=None), CashFlow(name='income', const_value=[0.0, 550951.2260728211, 485710.14403911994, 524871.3241145781, 495364.127202546, 499204.65869055234, 471140.3894370665, 474793.11558646266, 462848.46493973775, 436828.06685750635, 440214.7714117632, 415466.79348489706, 418687.885233328], start=datetime.date(2022, 1, 31), end=datetime.date(2023, 1, 31), periods=None, freq='M', chgpts=None)]\n[CashFlow(name='income', const_value=[0.0, 183650.40869094036, 161903.3813463733, 174957.1080381927, 165121.37573418205, 166401.5528968508, 157046.796479022, 158264.37186215437, 154282.8216465793, 145609.35561916884, 146738.2571372541, 138488.93116163264, 139562.62841110918], start=datetime.date(2021, 1, 31), end=datetime.date(2022, 1, 31), periods=None, freq='M', chgpts=None), CashFlow(name='income', const_value=[0.0, 550951.2260728211, 485710.14403911994, 524871.3241145781, 495364.127202546, 499204.65869055234, 471140.3894370665, 474793.11558646266, 462848.46493973775, 436828.06685750635, 440214.7714117632, 415466.79348489706, 418687.885233328], start=datetime.date(2022, 1, 31), end=datetime.date(2023, 1, 31), periods=None, freq='M', chgpts=None)]\n[CashFlow(name='income', const_value=[0.0, 1836504.0869094036, 1619033.813463733, 1749571.0803819273, 1651213.7573418203, 1664015.5289685074, 1570467.9647902218, 1582643.718621541, 1542828.2164657954, 1456093.5561916872, 1467382.571372543, 1384889.3116163264, 1395626.284111091], start=datetime.date(2021, 1, 31), end=datetime.date(2022, 1, 31), periods=None, freq='M', chgpts=None), CashFlow(name='income', const_value=[0.0, 550951.2260728211, 485710.14403911994, 524871.3241145781, 495364.127202546, 499204.65869055234, 471140.3894370665, 474793.11558646266, 462848.46493973775, 436828.06685750635, 440214.7714117632, 415466.79348489706, 418687.885233328], start=datetime.date(2022, 1, 31), end=datetime.date(2023, 1, 31), periods=None, freq='M', chgpts=None)]\n"
     ]
    }
   ],
   "source": [
    "for i in s1_c:\n",
    "    print(i.income)"
   ]
  },
  {
   "cell_type": "code",
   "execution_count": 19,
   "metadata": {},
   "outputs": [
    {
     "output_type": "execute_result",
     "data": {
      "text/plain": [
       "                income         income   total_income  fix_opex      var_opex  \\\n",
       "2021-01       0.000000       0.000000       0.000000   -5000.0      0.000000   \n",
       "2021-02  183650.408691       0.000000  183650.408691   -5000.0 -15304.200724   \n",
       "2021-03  161903.381346       0.000000  161903.381346   -5000.0 -13491.948446   \n",
       "2021-04  174957.108038       0.000000  174957.108038   -5000.0 -14579.759003   \n",
       "2021-05  165121.375734       0.000000  165121.375734   -5000.0 -13760.114645   \n",
       "2021-06  166401.552897       0.000000  166401.552897   -5000.0 -13866.796075   \n",
       "2021-07  157046.796479       0.000000  157046.796479   -5000.0 -13087.233040   \n",
       "2021-08  158264.371862       0.000000  158264.371862   -5000.0 -13188.697655   \n",
       "2021-09  154282.821647       0.000000  154282.821647   -5000.0 -12856.901804   \n",
       "2021-10  145609.355619       0.000000  145609.355619   -5000.0 -12134.112968   \n",
       "2021-11  146738.257137       0.000000  146738.257137   -5000.0 -12228.188095   \n",
       "2021-12  138488.931162       0.000000  138488.931162   -5000.0 -11540.744263   \n",
       "2022-01  139562.628411       0.000000  139562.628411   -5000.0 -11630.219034   \n",
       "2022-02       0.000000  550951.226073  550951.226073       0.0      0.000000   \n",
       "2022-03       0.000000  485710.144039  485710.144039       0.0      0.000000   \n",
       "2022-04       0.000000  524871.324115  524871.324115       0.0      0.000000   \n",
       "2022-05       0.000000  495364.127203  495364.127203       0.0      0.000000   \n",
       "2022-06       0.000000  499204.658691  499204.658691       0.0      0.000000   \n",
       "2022-07       0.000000  471140.389437  471140.389437       0.0      0.000000   \n",
       "2022-08       0.000000  474793.115586  474793.115586       0.0      0.000000   \n",
       "2022-09       0.000000  462848.464940  462848.464940       0.0      0.000000   \n",
       "2022-10       0.000000  436828.066858  436828.066858       0.0      0.000000   \n",
       "2022-11       0.000000  440214.771412  440214.771412       0.0      0.000000   \n",
       "2022-12       0.000000  415466.793485  415466.793485       0.0      0.000000   \n",
       "2023-01       0.000000  418687.885233  418687.885233       0.0      0.000000   \n",
       "\n",
       "         fix_opex      var_opex    total_opex  total_capex            fcf  \\\n",
       "2021-01       0.0      0.000000  -5000.000000            0   -5000.000000   \n",
       "2021-02       0.0      0.000000 -20304.200724            0  163346.207967   \n",
       "2021-03       0.0      0.000000 -18491.948446            0  143411.432901   \n",
       "2021-04       0.0      0.000000 -19579.759003            0  155377.349035   \n",
       "2021-05       0.0      0.000000 -18760.114645            0  146361.261090   \n",
       "2021-06       0.0      0.000000 -18866.796075            0  147534.756822   \n",
       "2021-07       0.0      0.000000 -18087.233040            0  138959.563439   \n",
       "2021-08       0.0      0.000000 -18188.697655            0  140075.674207   \n",
       "2021-09       0.0      0.000000 -17856.901804            0  136425.919843   \n",
       "2021-10       0.0      0.000000 -17134.112968            0  128475.242651   \n",
       "2021-11       0.0      0.000000 -17228.188095            0  129510.069042   \n",
       "2021-12       0.0      0.000000 -16540.744263            0  121948.186898   \n",
       "2022-01   -5000.0      0.000000 -21630.219034            0  117932.409377   \n",
       "2022-02   -5000.0 -45912.602173 -50912.602173            0  500038.623900   \n",
       "2022-03   -5000.0 -40475.845337 -45475.845337            0  440234.298703   \n",
       "2022-04   -5000.0 -43739.277010 -48739.277010            0  476132.047105   \n",
       "2022-05   -5000.0 -41280.343934 -46280.343934            0  449083.783269   \n",
       "2022-06   -5000.0 -41600.388224 -46600.388224            0  452604.270466   \n",
       "2022-07   -5000.0 -39261.699120 -44261.699120            0  426878.690317   \n",
       "2022-08   -5000.0 -39566.092966 -44566.092966            0  430227.022621   \n",
       "2022-09   -5000.0 -38570.705412 -43570.705412            0  419277.759528   \n",
       "2022-10   -5000.0 -36402.338905 -41402.338905            0  395425.727953   \n",
       "2022-11   -5000.0 -36684.564284 -41684.564284            0  398530.207127   \n",
       "2022-12   -5000.0 -34622.232790 -39622.232790            0  375844.560694   \n",
       "2023-01   -5000.0 -34890.657103 -39890.657103            0  378797.228131   \n",
       "\n",
       "              cum_fcf  \n",
       "2021-01 -5.000000e+03  \n",
       "2021-02  1.583462e+05  \n",
       "2021-03  3.017576e+05  \n",
       "2021-04  4.571350e+05  \n",
       "2021-05  6.034963e+05  \n",
       "2021-06  7.510310e+05  \n",
       "2021-07  8.899906e+05  \n",
       "2021-08  1.030066e+06  \n",
       "2021-09  1.166492e+06  \n",
       "2021-10  1.294967e+06  \n",
       "2021-11  1.424477e+06  \n",
       "2021-12  1.546426e+06  \n",
       "2022-01  1.664358e+06  \n",
       "2022-02  2.164397e+06  \n",
       "2022-03  2.604631e+06  \n",
       "2022-04  3.080763e+06  \n",
       "2022-05  3.529847e+06  \n",
       "2022-06  3.982451e+06  \n",
       "2022-07  4.409330e+06  \n",
       "2022-08  4.839557e+06  \n",
       "2022-09  5.258835e+06  \n",
       "2022-10  5.654260e+06  \n",
       "2022-11  6.052791e+06  \n",
       "2022-12  6.428635e+06  \n",
       "2023-01  6.807432e+06  "
      ],
      "text/html": "<div>\n<style scoped>\n    .dataframe tbody tr th:only-of-type {\n        vertical-align: middle;\n    }\n\n    .dataframe tbody tr th {\n        vertical-align: top;\n    }\n\n    .dataframe thead th {\n        text-align: right;\n    }\n</style>\n<table border=\"1\" class=\"dataframe\">\n  <thead>\n    <tr style=\"text-align: right;\">\n      <th></th>\n      <th>income</th>\n      <th>income</th>\n      <th>total_income</th>\n      <th>fix_opex</th>\n      <th>var_opex</th>\n      <th>fix_opex</th>\n      <th>var_opex</th>\n      <th>total_opex</th>\n      <th>total_capex</th>\n      <th>fcf</th>\n      <th>cum_fcf</th>\n    </tr>\n  </thead>\n  <tbody>\n    <tr>\n      <th>2021-01</th>\n      <td>0.000000</td>\n      <td>0.000000</td>\n      <td>0.000000</td>\n      <td>-5000.0</td>\n      <td>0.000000</td>\n      <td>0.0</td>\n      <td>0.000000</td>\n      <td>-5000.000000</td>\n      <td>0</td>\n      <td>-5000.000000</td>\n      <td>-5.000000e+03</td>\n    </tr>\n    <tr>\n      <th>2021-02</th>\n      <td>183650.408691</td>\n      <td>0.000000</td>\n      <td>183650.408691</td>\n      <td>-5000.0</td>\n      <td>-15304.200724</td>\n      <td>0.0</td>\n      <td>0.000000</td>\n      <td>-20304.200724</td>\n      <td>0</td>\n      <td>163346.207967</td>\n      <td>1.583462e+05</td>\n    </tr>\n    <tr>\n      <th>2021-03</th>\n      <td>161903.381346</td>\n      <td>0.000000</td>\n      <td>161903.381346</td>\n      <td>-5000.0</td>\n      <td>-13491.948446</td>\n      <td>0.0</td>\n      <td>0.000000</td>\n      <td>-18491.948446</td>\n      <td>0</td>\n      <td>143411.432901</td>\n      <td>3.017576e+05</td>\n    </tr>\n    <tr>\n      <th>2021-04</th>\n      <td>174957.108038</td>\n      <td>0.000000</td>\n      <td>174957.108038</td>\n      <td>-5000.0</td>\n      <td>-14579.759003</td>\n      <td>0.0</td>\n      <td>0.000000</td>\n      <td>-19579.759003</td>\n      <td>0</td>\n      <td>155377.349035</td>\n      <td>4.571350e+05</td>\n    </tr>\n    <tr>\n      <th>2021-05</th>\n      <td>165121.375734</td>\n      <td>0.000000</td>\n      <td>165121.375734</td>\n      <td>-5000.0</td>\n      <td>-13760.114645</td>\n      <td>0.0</td>\n      <td>0.000000</td>\n      <td>-18760.114645</td>\n      <td>0</td>\n      <td>146361.261090</td>\n      <td>6.034963e+05</td>\n    </tr>\n    <tr>\n      <th>2021-06</th>\n      <td>166401.552897</td>\n      <td>0.000000</td>\n      <td>166401.552897</td>\n      <td>-5000.0</td>\n      <td>-13866.796075</td>\n      <td>0.0</td>\n      <td>0.000000</td>\n      <td>-18866.796075</td>\n      <td>0</td>\n      <td>147534.756822</td>\n      <td>7.510310e+05</td>\n    </tr>\n    <tr>\n      <th>2021-07</th>\n      <td>157046.796479</td>\n      <td>0.000000</td>\n      <td>157046.796479</td>\n      <td>-5000.0</td>\n      <td>-13087.233040</td>\n      <td>0.0</td>\n      <td>0.000000</td>\n      <td>-18087.233040</td>\n      <td>0</td>\n      <td>138959.563439</td>\n      <td>8.899906e+05</td>\n    </tr>\n    <tr>\n      <th>2021-08</th>\n      <td>158264.371862</td>\n      <td>0.000000</td>\n      <td>158264.371862</td>\n      <td>-5000.0</td>\n      <td>-13188.697655</td>\n      <td>0.0</td>\n      <td>0.000000</td>\n      <td>-18188.697655</td>\n      <td>0</td>\n      <td>140075.674207</td>\n      <td>1.030066e+06</td>\n    </tr>\n    <tr>\n      <th>2021-09</th>\n      <td>154282.821647</td>\n      <td>0.000000</td>\n      <td>154282.821647</td>\n      <td>-5000.0</td>\n      <td>-12856.901804</td>\n      <td>0.0</td>\n      <td>0.000000</td>\n      <td>-17856.901804</td>\n      <td>0</td>\n      <td>136425.919843</td>\n      <td>1.166492e+06</td>\n    </tr>\n    <tr>\n      <th>2021-10</th>\n      <td>145609.355619</td>\n      <td>0.000000</td>\n      <td>145609.355619</td>\n      <td>-5000.0</td>\n      <td>-12134.112968</td>\n      <td>0.0</td>\n      <td>0.000000</td>\n      <td>-17134.112968</td>\n      <td>0</td>\n      <td>128475.242651</td>\n      <td>1.294967e+06</td>\n    </tr>\n    <tr>\n      <th>2021-11</th>\n      <td>146738.257137</td>\n      <td>0.000000</td>\n      <td>146738.257137</td>\n      <td>-5000.0</td>\n      <td>-12228.188095</td>\n      <td>0.0</td>\n      <td>0.000000</td>\n      <td>-17228.188095</td>\n      <td>0</td>\n      <td>129510.069042</td>\n      <td>1.424477e+06</td>\n    </tr>\n    <tr>\n      <th>2021-12</th>\n      <td>138488.931162</td>\n      <td>0.000000</td>\n      <td>138488.931162</td>\n      <td>-5000.0</td>\n      <td>-11540.744263</td>\n      <td>0.0</td>\n      <td>0.000000</td>\n      <td>-16540.744263</td>\n      <td>0</td>\n      <td>121948.186898</td>\n      <td>1.546426e+06</td>\n    </tr>\n    <tr>\n      <th>2022-01</th>\n      <td>139562.628411</td>\n      <td>0.000000</td>\n      <td>139562.628411</td>\n      <td>-5000.0</td>\n      <td>-11630.219034</td>\n      <td>-5000.0</td>\n      <td>0.000000</td>\n      <td>-21630.219034</td>\n      <td>0</td>\n      <td>117932.409377</td>\n      <td>1.664358e+06</td>\n    </tr>\n    <tr>\n      <th>2022-02</th>\n      <td>0.000000</td>\n      <td>550951.226073</td>\n      <td>550951.226073</td>\n      <td>0.0</td>\n      <td>0.000000</td>\n      <td>-5000.0</td>\n      <td>-45912.602173</td>\n      <td>-50912.602173</td>\n      <td>0</td>\n      <td>500038.623900</td>\n      <td>2.164397e+06</td>\n    </tr>\n    <tr>\n      <th>2022-03</th>\n      <td>0.000000</td>\n      <td>485710.144039</td>\n      <td>485710.144039</td>\n      <td>0.0</td>\n      <td>0.000000</td>\n      <td>-5000.0</td>\n      <td>-40475.845337</td>\n      <td>-45475.845337</td>\n      <td>0</td>\n      <td>440234.298703</td>\n      <td>2.604631e+06</td>\n    </tr>\n    <tr>\n      <th>2022-04</th>\n      <td>0.000000</td>\n      <td>524871.324115</td>\n      <td>524871.324115</td>\n      <td>0.0</td>\n      <td>0.000000</td>\n      <td>-5000.0</td>\n      <td>-43739.277010</td>\n      <td>-48739.277010</td>\n      <td>0</td>\n      <td>476132.047105</td>\n      <td>3.080763e+06</td>\n    </tr>\n    <tr>\n      <th>2022-05</th>\n      <td>0.000000</td>\n      <td>495364.127203</td>\n      <td>495364.127203</td>\n      <td>0.0</td>\n      <td>0.000000</td>\n      <td>-5000.0</td>\n      <td>-41280.343934</td>\n      <td>-46280.343934</td>\n      <td>0</td>\n      <td>449083.783269</td>\n      <td>3.529847e+06</td>\n    </tr>\n    <tr>\n      <th>2022-06</th>\n      <td>0.000000</td>\n      <td>499204.658691</td>\n      <td>499204.658691</td>\n      <td>0.0</td>\n      <td>0.000000</td>\n      <td>-5000.0</td>\n      <td>-41600.388224</td>\n      <td>-46600.388224</td>\n      <td>0</td>\n      <td>452604.270466</td>\n      <td>3.982451e+06</td>\n    </tr>\n    <tr>\n      <th>2022-07</th>\n      <td>0.000000</td>\n      <td>471140.389437</td>\n      <td>471140.389437</td>\n      <td>0.0</td>\n      <td>0.000000</td>\n      <td>-5000.0</td>\n      <td>-39261.699120</td>\n      <td>-44261.699120</td>\n      <td>0</td>\n      <td>426878.690317</td>\n      <td>4.409330e+06</td>\n    </tr>\n    <tr>\n      <th>2022-08</th>\n      <td>0.000000</td>\n      <td>474793.115586</td>\n      <td>474793.115586</td>\n      <td>0.0</td>\n      <td>0.000000</td>\n      <td>-5000.0</td>\n      <td>-39566.092966</td>\n      <td>-44566.092966</td>\n      <td>0</td>\n      <td>430227.022621</td>\n      <td>4.839557e+06</td>\n    </tr>\n    <tr>\n      <th>2022-09</th>\n      <td>0.000000</td>\n      <td>462848.464940</td>\n      <td>462848.464940</td>\n      <td>0.0</td>\n      <td>0.000000</td>\n      <td>-5000.0</td>\n      <td>-38570.705412</td>\n      <td>-43570.705412</td>\n      <td>0</td>\n      <td>419277.759528</td>\n      <td>5.258835e+06</td>\n    </tr>\n    <tr>\n      <th>2022-10</th>\n      <td>0.000000</td>\n      <td>436828.066858</td>\n      <td>436828.066858</td>\n      <td>0.0</td>\n      <td>0.000000</td>\n      <td>-5000.0</td>\n      <td>-36402.338905</td>\n      <td>-41402.338905</td>\n      <td>0</td>\n      <td>395425.727953</td>\n      <td>5.654260e+06</td>\n    </tr>\n    <tr>\n      <th>2022-11</th>\n      <td>0.000000</td>\n      <td>440214.771412</td>\n      <td>440214.771412</td>\n      <td>0.0</td>\n      <td>0.000000</td>\n      <td>-5000.0</td>\n      <td>-36684.564284</td>\n      <td>-41684.564284</td>\n      <td>0</td>\n      <td>398530.207127</td>\n      <td>6.052791e+06</td>\n    </tr>\n    <tr>\n      <th>2022-12</th>\n      <td>0.000000</td>\n      <td>415466.793485</td>\n      <td>415466.793485</td>\n      <td>0.0</td>\n      <td>0.000000</td>\n      <td>-5000.0</td>\n      <td>-34622.232790</td>\n      <td>-39622.232790</td>\n      <td>0</td>\n      <td>375844.560694</td>\n      <td>6.428635e+06</td>\n    </tr>\n    <tr>\n      <th>2023-01</th>\n      <td>0.000000</td>\n      <td>418687.885233</td>\n      <td>418687.885233</td>\n      <td>0.0</td>\n      <td>0.000000</td>\n      <td>-5000.0</td>\n      <td>-34890.657103</td>\n      <td>-39890.657103</td>\n      <td>0</td>\n      <td>378797.228131</td>\n      <td>6.807432e+06</td>\n    </tr>\n  </tbody>\n</table>\n</div>"
     },
     "metadata": {},
     "execution_count": 19
    }
   ],
   "source": [
    "s1_c[1].fcf()"
   ]
  },
  {
   "cell_type": "code",
   "execution_count": 11,
   "metadata": {},
   "outputs": [
    {
     "output_type": "execute_result",
     "data": {
      "text/plain": [
       "[CashFlowModel(name='pdp_0', income=[CashFlow(name='income', const_value=[0.0, 146920.32695275228, 129522.70507709867, 139965.68643055417, 132097.10058734557, 133121.24231748065, 125637.4371832177, 126611.4974897234, 123426.25731726359, 116487.48449533487, 117390.60570980342, 110791.14492930625, 111650.10272888721], start=datetime.date(2021, 1, 31), end=datetime.date(2022, 1, 31), periods=None, freq='M', chgpts=None)], opex=[CashFlow(name='fix_opex', const_value=-5000.0, start=datetime.date(2021, 1, 31), end=datetime.date(2022, 1, 31), periods=None, freq='M', chgpts=None), CashFlow(name='var_opex', const_value=[-0.0, -12243.360579396023, -10793.558756424889, -11663.80720254618, -11008.091715612132, -11093.436859790054, -10469.786431934808, -10550.958124143617, -10285.5214431053, -9707.290374611239, -9782.550475816952, -9232.59541077552, -9304.175227407268], start=datetime.date(2021, 1, 31), end=datetime.date(2022, 1, 31), periods=None, freq='M', chgpts=None)], capex=None),\n",
       " CashFlowModel(name='pdp_1', income=[CashFlow(name='income', const_value=[0.0, 183650.40869094036, 161903.3813463733, 174957.1080381927, 165121.37573418205, 166401.5528968508, 157046.796479022, 158264.37186215437, 154282.8216465793, 145609.35561916884, 146738.2571372541, 138488.93116163264, 139562.62841110918], start=datetime.date(2021, 1, 31), end=datetime.date(2022, 1, 31), periods=None, freq='M', chgpts=None)], opex=[CashFlow(name='fix_opex', const_value=-5000.0, start=datetime.date(2021, 1, 31), end=datetime.date(2022, 1, 31), periods=None, freq='M', chgpts=None), CashFlow(name='var_opex', const_value=[-0.0, -15304.200724245029, -13491.948445531107, -14579.759003182726, -13760.11464451517, -13866.796074737567, -13087.233039918501, -13188.69765517953, -12856.90180388161, -12134.112968264071, -12228.188094771176, -11540.744263469387, -11630.219034259098], start=datetime.date(2021, 1, 31), end=datetime.date(2022, 1, 31), periods=None, freq='M', chgpts=None)], capex=None),\n",
       " CashFlowModel(name='pdp_2', income=[CashFlow(name='income', const_value=[0.0, 1836504.0869094036, 1619033.813463733, 1749571.0803819273, 1651213.7573418203, 1664015.5289685074, 1570467.9647902218, 1582643.718621541, 1542828.2164657954, 1456093.5561916872, 1467382.571372543, 1384889.3116163264, 1395626.284111091], start=datetime.date(2021, 1, 31), end=datetime.date(2022, 1, 31), periods=None, freq='M', chgpts=None)], opex=[CashFlow(name='fix_opex', const_value=-5000.0, start=datetime.date(2021, 1, 31), end=datetime.date(2022, 1, 31), periods=None, freq='M', chgpts=None), CashFlow(name='var_opex', const_value=[-0.0, -153042.0072424503, -134919.4844553111, -145797.59003182728, -137601.14644515168, -138667.96074737562, -130872.33039918516, -131886.9765517951, -128569.01803881628, -121341.1296826406, -122281.8809477119, -115407.44263469387, -116302.19034259091], start=datetime.date(2021, 1, 31), end=datetime.date(2022, 1, 31), periods=None, freq='M', chgpts=None)], capex=None)]"
      ]
     },
     "metadata": {},
     "execution_count": 11
    }
   ],
   "source": [
    "s1.periods[0].generate_cashflow()"
   ]
  },
  {
   "cell_type": "code",
   "execution_count": null,
   "metadata": {},
   "outputs": [],
   "source": []
  }
 ],
 "metadata": {
  "kernelspec": {
   "name": "python3",
   "display_name": "Python 3.8.8 64-bit ('dcapy': conda)",
   "metadata": {
    "interpreter": {
     "hash": "ab24a4a540e2ae850f5bb40f3ff926fc8d1a219d7295b7cc8f5b0a1cbda21e76"
    }
   }
  },
  "language_info": {
   "codemirror_mode": {
    "name": "ipython",
    "version": 3
   },
   "file_extension": ".py",
   "mimetype": "text/x-python",
   "name": "python",
   "nbconvert_exporter": "python",
   "pygments_lexer": "ipython3",
   "version": "3.8.8"
  }
 },
 "nbformat": 4,
 "nbformat_minor": 4
}