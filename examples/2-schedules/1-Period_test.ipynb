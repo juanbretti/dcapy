{
 "cells": [
  {
   "cell_type": "code",
   "execution_count": 1,
   "metadata": {},
   "outputs": [
    {
     "name": "stdout",
     "output_type": "stream",
     "text": [
      "/home/scuervo/Documents/dev/dcapy\n",
      "/home/scuervo/anaconda3/envs/res/bin/python\n"
     ]
    }
   ],
   "source": [
    "import os\n",
    "path = os.path.abspath(os.path.join('..','..'))\n",
    "print(path)\n",
    "import sys\n",
    "\n",
    "sys.path.insert(0,path)\n",
    "print(sys.executable)\n",
    "\n",
    "from dcapy import dca\n",
    "from dcapy.models import CashFlow, ChgPts, CashFlowModel, CashFlowInput, Period, Scenario\n",
    "\n",
    "import numpy as np \n",
    "import pandas as pd\n",
    "from datetime import date\n",
    "import matplotlib.pyplot as plt\n",
    "import seaborn as sns \n",
    "from scipy import stats\n",
    "import seaborn as sns"
   ]
  },
  {
   "cell_type": "code",
   "execution_count": 13,
   "metadata": {},
   "outputs": [
    {
     "data": {
      "text/plain": [
       "Period(name='pdp', dca=Declination \n",
       " Ti: 2021-01-01 \n",
       " Qi: [80.0, 100.0] bbl/d \n",
       " Di: 0.3 A \n",
       " b: 0.0, start=datetime.date(2021, 1, 1), end=datetime.date(2022, 1, 1), time_list=None, freq_input='M', freq_output='M', rate_limit=None, cum_limit=None, iter=1, ppf=None, cashflow_params=CashFlowInput(params_list=[CashFlowParams(name='fix_opex', const_value=-5000.0, array_values=None, target='opex', multiply=None, agg='sum', wi=1), CashFlowParams(name='var_opex', const_value=-5.0, array_values=None, target='opex', multiply='oil_volume', agg='sum', wi=1), CashFlowParams(name='income', const_value=60.0, array_values=None, target='income', multiply='oil_volume', agg='sum', wi=1)]), cashflow=None, depends=None, forecast=None)"
      ]
     },
     "execution_count": 13,
     "metadata": {},
     "output_type": "execute_result"
    }
   ],
   "source": [
    "p1_dict = {\n",
    "    'name':'pdp',\n",
    "    'dca': {\n",
    "        'ti':'2021-01-01',\n",
    "        'di':0.3,\n",
    "        'freq_di':'A',\n",
    "        'qi':[80,100],\n",
    "        'b':0,\n",
    "        'fluid_rate':250\n",
    "    },\n",
    "    'start':'2021-01-01',\n",
    "    'end':'2022-01-01',\n",
    "    'freq_input':'M',\n",
    "    'freq_output':'M',\n",
    "    'cashflow_params':{\n",
    "        'params_list': [\n",
    "            {\n",
    "                'name':'fix_opex',\n",
    "                'const_value':-5000,\n",
    "                'target':'opex',\n",
    "            },\n",
    "            {\n",
    "                'name':'var_opex',\n",
    "                'const_value':-5,\n",
    "                'target':'opex',\n",
    "                'multiply':'oil_volume'\n",
    "            },\n",
    "            {\n",
    "                'name':'income',\n",
    "                'const_value':60,\n",
    "                'target':'income',\n",
    "                'multiply':'oil_volume'\n",
    "            }\n",
    "        ]\n",
    "    }\n",
    "}\n",
    "\n",
    "p1 = Period(**p1_dict)\n",
    "p1"
   ]
  },
  {
   "cell_type": "code",
   "execution_count": 14,
   "metadata": {},
   "outputs": [
    {
     "name": "stderr",
     "output_type": "stream",
     "text": [
      "/home/scuervo/Documents/dev/dcapy/dcapy/dca/arps.py:78: RuntimeWarning: divide by zero encountered in true_divide\n",
      "  return qi/np.power(1+b*di*time_array,1/b)\n",
      "/home/scuervo/Documents/dev/dcapy/dcapy/dca/arps.py:101: RuntimeWarning: divide by zero encountered in true_divide\n",
      "  g = np.power(b*di*time_array+1,(b-1)/b)\n",
      "/home/scuervo/Documents/dev/dcapy/dcapy/dca/arps.py:102: RuntimeWarning: divide by zero encountered in true_divide\n",
      "  h = np.power(b*di*ti+1,(b-1)/b)\n"
     ]
    },
    {
     "data": {
      "text/html": [
       "<div>\n",
       "<style scoped>\n",
       "    .dataframe tbody tr th:only-of-type {\n",
       "        vertical-align: middle;\n",
       "    }\n",
       "\n",
       "    .dataframe tbody tr th {\n",
       "        vertical-align: top;\n",
       "    }\n",
       "\n",
       "    .dataframe thead th {\n",
       "        text-align: right;\n",
       "    }\n",
       "</style>\n",
       "<table border=\"1\" class=\"dataframe\">\n",
       "  <thead>\n",
       "    <tr style=\"text-align: right;\">\n",
       "      <th></th>\n",
       "      <th>oil_rate</th>\n",
       "      <th>oil_cum</th>\n",
       "      <th>iteration</th>\n",
       "      <th>oil_volume</th>\n",
       "      <th>fluid_rate</th>\n",
       "      <th>water_rate</th>\n",
       "      <th>bsw</th>\n",
       "      <th>wor</th>\n",
       "      <th>water_cum</th>\n",
       "      <th>fluid_cum</th>\n",
       "      <th>water_volume</th>\n",
       "      <th>fluid_volume</th>\n",
       "      <th>period</th>\n",
       "    </tr>\n",
       "    <tr>\n",
       "      <th>date</th>\n",
       "      <th></th>\n",
       "      <th></th>\n",
       "      <th></th>\n",
       "      <th></th>\n",
       "      <th></th>\n",
       "      <th></th>\n",
       "      <th></th>\n",
       "      <th></th>\n",
       "      <th></th>\n",
       "      <th></th>\n",
       "      <th></th>\n",
       "      <th></th>\n",
       "      <th></th>\n",
       "    </tr>\n",
       "  </thead>\n",
       "  <tbody>\n",
       "    <tr>\n",
       "      <th>2021-01</th>\n",
       "      <td>80.000000</td>\n",
       "      <td>0.000000</td>\n",
       "      <td>0</td>\n",
       "      <td>0.000000</td>\n",
       "      <td>250.0</td>\n",
       "      <td>170.000000</td>\n",
       "      <td>0.680000</td>\n",
       "      <td>2.125000</td>\n",
       "      <td>0.000000</td>\n",
       "      <td>0.0</td>\n",
       "      <td>0.000000</td>\n",
       "      <td>0.0</td>\n",
       "      <td>pdp</td>\n",
       "    </tr>\n",
       "    <tr>\n",
       "      <th>2021-02</th>\n",
       "      <td>77.987393</td>\n",
       "      <td>2448.672116</td>\n",
       "      <td>0</td>\n",
       "      <td>2448.672116</td>\n",
       "      <td>250.0</td>\n",
       "      <td>172.012607</td>\n",
       "      <td>0.688050</td>\n",
       "      <td>2.205646</td>\n",
       "      <td>5332.390824</td>\n",
       "      <td>7750.0</td>\n",
       "      <td>5332.390824</td>\n",
       "      <td>7750.0</td>\n",
       "      <td>pdp</td>\n",
       "    </tr>\n",
       "    <tr>\n",
       "      <th>2021-03</th>\n",
       "      <td>76.213109</td>\n",
       "      <td>4607.383867</td>\n",
       "      <td>0</td>\n",
       "      <td>2158.711751</td>\n",
       "      <td>250.0</td>\n",
       "      <td>173.786891</td>\n",
       "      <td>0.695148</td>\n",
       "      <td>2.280276</td>\n",
       "      <td>10198.423768</td>\n",
       "      <td>14750.0</td>\n",
       "      <td>4866.032944</td>\n",
       "      <td>7000.0</td>\n",
       "      <td>pdp</td>\n",
       "    </tr>\n",
       "    <tr>\n",
       "      <th>2021-04</th>\n",
       "      <td>74.295771</td>\n",
       "      <td>6940.145308</td>\n",
       "      <td>0</td>\n",
       "      <td>2332.761441</td>\n",
       "      <td>250.0</td>\n",
       "      <td>175.704229</td>\n",
       "      <td>0.702817</td>\n",
       "      <td>2.364929</td>\n",
       "      <td>15645.254867</td>\n",
       "      <td>22500.0</td>\n",
       "      <td>5446.831100</td>\n",
       "      <td>7750.0</td>\n",
       "      <td>pdp</td>\n",
       "    </tr>\n",
       "    <tr>\n",
       "      <th>2021-05</th>\n",
       "      <td>72.486222</td>\n",
       "      <td>9141.763651</td>\n",
       "      <td>0</td>\n",
       "      <td>2201.618343</td>\n",
       "      <td>250.0</td>\n",
       "      <td>177.513778</td>\n",
       "      <td>0.710055</td>\n",
       "      <td>2.448931</td>\n",
       "      <td>20970.668217</td>\n",
       "      <td>30000.0</td>\n",
       "      <td>5325.413350</td>\n",
       "      <td>7500.0</td>\n",
       "      <td>pdp</td>\n",
       "    </tr>\n",
       "  </tbody>\n",
       "</table>\n",
       "</div>"
      ],
      "text/plain": [
       "          oil_rate      oil_cum  iteration   oil_volume  fluid_rate  \\\n",
       "date                                                                  \n",
       "2021-01  80.000000     0.000000          0     0.000000       250.0   \n",
       "2021-02  77.987393  2448.672116          0  2448.672116       250.0   \n",
       "2021-03  76.213109  4607.383867          0  2158.711751       250.0   \n",
       "2021-04  74.295771  6940.145308          0  2332.761441       250.0   \n",
       "2021-05  72.486222  9141.763651          0  2201.618343       250.0   \n",
       "\n",
       "         water_rate       bsw       wor     water_cum  fluid_cum  \\\n",
       "date                                                               \n",
       "2021-01  170.000000  0.680000  2.125000      0.000000        0.0   \n",
       "2021-02  172.012607  0.688050  2.205646   5332.390824     7750.0   \n",
       "2021-03  173.786891  0.695148  2.280276  10198.423768    14750.0   \n",
       "2021-04  175.704229  0.702817  2.364929  15645.254867    22500.0   \n",
       "2021-05  177.513778  0.710055  2.448931  20970.668217    30000.0   \n",
       "\n",
       "         water_volume  fluid_volume period  \n",
       "date                                        \n",
       "2021-01      0.000000           0.0    pdp  \n",
       "2021-02   5332.390824        7750.0    pdp  \n",
       "2021-03   4866.032944        7000.0    pdp  \n",
       "2021-04   5446.831100        7750.0    pdp  \n",
       "2021-05   5325.413350        7500.0    pdp  "
      ]
     },
     "execution_count": 14,
     "metadata": {},
     "output_type": "execute_result"
    }
   ],
   "source": [
    "f1 = p1.generate_forecast()\n",
    "f1.head()"
   ]
  },
  {
   "cell_type": "code",
   "execution_count": 15,
   "metadata": {},
   "outputs": [
    {
     "data": {
      "text/plain": [
       "<AxesSubplot:xlabel='date', ylabel='oil_rate'>"
      ]
     },
     "execution_count": 15,
     "metadata": {},
     "output_type": "execute_result"
    },
    {
     "data": {
      "image/png": "[encoded data removed]",
      "text/plain": [
       "<Figure size 432x288 with 1 Axes>"
      ]
     },
     "metadata": {
      "needs_background": "light"
     },
     "output_type": "display_data"
    }
   ],
   "source": [
    "sns.lineplot(data=f1,x=f1.index.to_timestamp(),y='oil_rate', hue='iteration')"
   ]
  },
  {
   "cell_type": "code",
   "execution_count": 16,
   "metadata": {},
   "outputs": [
    {
     "data": {
      "text/plain": [
       "[CashFlowModel(name='pdp_0', income=[CashFlow(name='income', const_value=[0.0, 146920.32695275228, 129522.70507709867, 139965.68643055417, 132097.10058734557, 133121.24231748065, 125637.4371832177, 126611.4974897234, 123426.25731726359, 116487.48449533487, 117390.60570980342, 110791.14492930625, 111650.10272888721], start=datetime.date(2021, 1, 31), end=datetime.date(2022, 1, 31), periods=None, freq='M', chgpts=None)], opex=[CashFlow(name='fix_opex', const_value=-5000.0, start=datetime.date(2021, 1, 31), end=datetime.date(2022, 1, 31), periods=None, freq='M', chgpts=None), CashFlow(name='var_opex', const_value=[-0.0, -12243.360579396023, -10793.558756424889, -11663.80720254618, -11008.091715612132, -11093.436859790054, -10469.786431934808, -10550.958124143617, -10285.5214431053, -9707.290374611239, -9782.550475816952, -9232.59541077552, -9304.175227407268], start=datetime.date(2021, 1, 31), end=datetime.date(2022, 1, 31), periods=None, freq='M', chgpts=None)], capex=None),\n",
       " CashFlowModel(name='pdp_1', income=[CashFlow(name='income', const_value=[0.0, 183650.40869094036, 161903.3813463733, 174957.1080381927, 165121.37573418205, 166401.5528968508, 157046.796479022, 158264.37186215437, 154282.8216465793, 145609.35561916884, 146738.2571372541, 138488.93116163264, 139562.62841110918], start=datetime.date(2021, 1, 31), end=datetime.date(2022, 1, 31), periods=None, freq='M', chgpts=None)], opex=[CashFlow(name='fix_opex', const_value=-5000.0, start=datetime.date(2021, 1, 31), end=datetime.date(2022, 1, 31), periods=None, freq='M', chgpts=None), CashFlow(name='var_opex', const_value=[-0.0, -15304.200724245029, -13491.948445531107, -14579.759003182726, -13760.11464451517, -13866.796074737567, -13087.233039918501, -13188.69765517953, -12856.90180388161, -12134.112968264071, -12228.188094771176, -11540.744263469387, -11630.219034259098], start=datetime.date(2021, 1, 31), end=datetime.date(2022, 1, 31), periods=None, freq='M', chgpts=None)], capex=None)]"
      ]
     },
     "execution_count": 16,
     "metadata": {},
     "output_type": "execute_result"
    }
   ],
   "source": [
    "p1.generate_cashflow()"
   ]
  },
  {
   "cell_type": "code",
   "execution_count": null,
   "metadata": {},
   "outputs": [],
   "source": []
  }
 ],
 "metadata": {
  "kernelspec": {
   "display_name": "res",
   "language": "python",
   "name": "res"
  },
  "language_info": {
   "codemirror_mode": {
    "name": "ipython",
    "version": 3
   },
   "file_extension": ".py",
   "mimetype": "text/x-python",
   "name": "python",
   "nbconvert_exporter": "python",
   "pygments_lexer": "ipython3",
   "version": "3.8.6"
  }
 },
 "nbformat": 4,
 "nbformat_minor": 4
}
