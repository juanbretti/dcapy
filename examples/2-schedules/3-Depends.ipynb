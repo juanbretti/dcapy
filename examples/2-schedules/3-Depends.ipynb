{
 "metadata": {
  "language_info": {
   "codemirror_mode": {
    "name": "ipython",
    "version": 3
   },
   "file_extension": ".py",
   "mimetype": "text/x-python",
   "name": "python",
   "nbconvert_exporter": "python",
   "pygments_lexer": "ipython3",
   "version": "3.8.8"
  },
  "orig_nbformat": 2,
  "kernelspec": {
   "name": "python3",
   "display_name": "Python 3.8.8 64-bit ('dcapy': conda)",
   "metadata": {
    "interpreter": {
     "hash": "ab24a4a540e2ae850f5bb40f3ff926fc8d1a219d7295b7cc8f5b0a1cbda21e76"
    }
   }
  }
 },
 "nbformat": 4,
 "nbformat_minor": 2,
 "cells": [
  {
   "cell_type": "code",
   "execution_count": 3,
   "metadata": {},
   "outputs": [],
   "source": [
    "import os\n",
    "#path = os.path.abspath(os.path.join('..','..'))\n",
    "#print(path)\n",
    "#import sys\n",
    "\n",
    "#sys.path.insert(0,path)\n",
    "#print(sys.executable)\n",
    "\n",
    "from dcapy import dca\n",
    "from dcapy.models import CashFlow, ChgPts, CashFlowModel, CashFlowInput, Period, Scenario\n",
    "\n",
    "import numpy as np \n",
    "import pandas as pd\n",
    "from datetime import date\n",
    "import matplotlib.pyplot as plt\n",
    "import seaborn as sns \n",
    "from scipy import stats\n",
    "import seaborn as sns"
   ]
  },
  {
   "cell_type": "code",
   "execution_count": 4,
   "metadata": {},
   "outputs": [],
   "source": [
    "p1_dict = {\n",
    "    'name':'pdp',\n",
    "    'dca': {\n",
    "        'ti':'2021-01-01',\n",
    "        'di':0.3,\n",
    "        'freq_di':'A',\n",
    "        'qi':{'dist':'norm', 'kw':{'loc':900,'scale':200}}, #[800,1000],\n",
    "        'b':0,\n",
    "        'fluid_rate':1200\n",
    "    },\n",
    "    'start':'2021-01-01',\n",
    "    'end':'2027-01-01',\n",
    "    'freq_input':'M',\n",
    "    'freq_output':'M',\n",
    "    'rate_limit': 400,\n",
    "    'iter':10\n",
    "}\n",
    "\n",
    "p2_dict = {\n",
    "    'name':'pud',\n",
    "    'dca': {\n",
    "        #'ti':['2022-01-01','2022-05-01'],\n",
    "        'ti':'2022-01-01',\n",
    "        'di':0.3,\n",
    "        'freq_di':'A',\n",
    "        'qi':900,\n",
    "        'b':0,\n",
    "        'fluid_rate':1600\n",
    "    },\n",
    "    'start':'2022-01-01',\n",
    "    'end':'2027-01-01',\n",
    "    'freq_input':'M',\n",
    "    'freq_output':'M',\n",
    "    'depends':{'period':'pdp'}\n",
    "}\n",
    "\n",
    "p1 = Period(**p1_dict)\n",
    "p2 = Period(**p2_dict)\n",
    "\n"
   ]
  },
  {
   "cell_type": "code",
   "execution_count": 5,
   "metadata": {},
   "outputs": [
    {
     "output_type": "stream",
     "name": "stderr",
     "text": [
      "/home/scuervo91/dev/apps/dcapy/dcapy/dca/arps.py:63: RuntimeWarning: divide by zero encountered in true_divide\n  return qi/np.power(1+b*di*time_array,1/b)\n/home/scuervo91/dev/apps/dcapy/dcapy/dca/arps.py:80: RuntimeWarning: divide by zero encountered in true_divide\n  g = np.power(b*di*time_array+1,(b-1)/b)\n/home/scuervo91/dev/apps/dcapy/dcapy/dca/arps.py:81: RuntimeWarning: divide by zero encountered in true_divide\n  h = np.power(b*di*ti+1,(b-1)/b)\n"
     ]
    },
    {
     "output_type": "execute_result",
     "data": {
      "text/plain": [
       "            oil_rate        oil_cum  iteration    oil_volume  fluid_rate  \\\n",
       "date                                                                       \n",
       "2022-01  1500.000000       0.000000          0      0.000000      1600.0   \n",
       "2022-02  1462.263615   45912.602173          0  45912.602173      1600.0   \n",
       "2022-03  1428.995797   86388.447509          0  40475.845337      1600.0   \n",
       "2022-04  1393.045706  130127.724519          0  43739.277010      1600.0   \n",
       "2022-05  1359.116656  171408.068452          0  41280.343934      1600.0   \n",
       "\n",
       "         water_rate       bsw       wor     water_cum  fluid_cum  \\\n",
       "date                                                               \n",
       "2022-01  100.000000  0.062500  0.066667      0.000000        0.0   \n",
       "2022-02  137.736385  0.086085  0.094194   4269.827946    49600.0   \n",
       "2022-03  171.004203  0.106878  0.119667   9057.945642    94400.0   \n",
       "2022-04  206.954294  0.129346  0.148562  15473.528760   144000.0   \n",
       "2022-05  240.883344  0.150552  0.177235  22700.029078   192000.0   \n",
       "\n",
       "         water_volume  fluid_volume  \n",
       "date                                 \n",
       "2022-01      0.000000           0.0  \n",
       "2022-02   4269.827946       49600.0  \n",
       "2022-03   4788.117696       44800.0  \n",
       "2022-04   6415.583118       49600.0  \n",
       "2022-05   7226.500318       48000.0  "
      ],
      "text/html": "<div>\n<style scoped>\n    .dataframe tbody tr th:only-of-type {\n        vertical-align: middle;\n    }\n\n    .dataframe tbody tr th {\n        vertical-align: top;\n    }\n\n    .dataframe thead th {\n        text-align: right;\n    }\n</style>\n<table border=\"1\" class=\"dataframe\">\n  <thead>\n    <tr style=\"text-align: right;\">\n      <th></th>\n      <th>oil_rate</th>\n      <th>oil_cum</th>\n      <th>iteration</th>\n      <th>oil_volume</th>\n      <th>fluid_rate</th>\n      <th>water_rate</th>\n      <th>bsw</th>\n      <th>wor</th>\n      <th>water_cum</th>\n      <th>fluid_cum</th>\n      <th>water_volume</th>\n      <th>fluid_volume</th>\n    </tr>\n    <tr>\n      <th>date</th>\n      <th></th>\n      <th></th>\n      <th></th>\n      <th></th>\n      <th></th>\n      <th></th>\n      <th></th>\n      <th></th>\n      <th></th>\n      <th></th>\n      <th></th>\n      <th></th>\n    </tr>\n  </thead>\n  <tbody>\n    <tr>\n      <th>2022-01</th>\n      <td>1500.000000</td>\n      <td>0.000000</td>\n      <td>0</td>\n      <td>0.000000</td>\n      <td>1600.0</td>\n      <td>100.000000</td>\n      <td>0.062500</td>\n      <td>0.066667</td>\n      <td>0.000000</td>\n      <td>0.0</td>\n      <td>0.000000</td>\n      <td>0.0</td>\n    </tr>\n    <tr>\n      <th>2022-02</th>\n      <td>1462.263615</td>\n      <td>45912.602173</td>\n      <td>0</td>\n      <td>45912.602173</td>\n      <td>1600.0</td>\n      <td>137.736385</td>\n      <td>0.086085</td>\n      <td>0.094194</td>\n      <td>4269.827946</td>\n      <td>49600.0</td>\n      <td>4269.827946</td>\n      <td>49600.0</td>\n    </tr>\n    <tr>\n      <th>2022-03</th>\n      <td>1428.995797</td>\n      <td>86388.447509</td>\n      <td>0</td>\n      <td>40475.845337</td>\n      <td>1600.0</td>\n      <td>171.004203</td>\n      <td>0.106878</td>\n      <td>0.119667</td>\n      <td>9057.945642</td>\n      <td>94400.0</td>\n      <td>4788.117696</td>\n      <td>44800.0</td>\n    </tr>\n    <tr>\n      <th>2022-04</th>\n      <td>1393.045706</td>\n      <td>130127.724519</td>\n      <td>0</td>\n      <td>43739.277010</td>\n      <td>1600.0</td>\n      <td>206.954294</td>\n      <td>0.129346</td>\n      <td>0.148562</td>\n      <td>15473.528760</td>\n      <td>144000.0</td>\n      <td>6415.583118</td>\n      <td>49600.0</td>\n    </tr>\n    <tr>\n      <th>2022-05</th>\n      <td>1359.116656</td>\n      <td>171408.068452</td>\n      <td>0</td>\n      <td>41280.343934</td>\n      <td>1600.0</td>\n      <td>240.883344</td>\n      <td>0.150552</td>\n      <td>0.177235</td>\n      <td>22700.029078</td>\n      <td>192000.0</td>\n      <td>7226.500318</td>\n      <td>48000.0</td>\n    </tr>\n  </tbody>\n</table>\n</div>"
     },
     "metadata": {},
     "execution_count": 5
    }
   ],
   "source": [
    "d1 = dca.Arps(**{\n",
    "        'ti':['2022-01-01','2022-05-01'],\n",
    "        'di':[0.3,0.4],\n",
    "        'freq_di':'A',\n",
    "        'qi':1500,\n",
    "        'b':0,\n",
    "        'fluid_rate':1600\n",
    "    })\n",
    "d1.forecast(start=date(2022,1,1), end=date(2025,1,1)).head()"
   ]
  },
  {
   "cell_type": "code",
   "execution_count": 6,
   "metadata": {},
   "outputs": [
    {
     "output_type": "stream",
     "name": "stderr",
     "text": [
      "/home/scuervo91/dev/apps/dcapy/dcapy/dca/arps.py:63: RuntimeWarning: divide by zero encountered in true_divide\n",
      "  return qi/np.power(1+b*di*time_array,1/b)\n",
      "/home/scuervo91/dev/apps/dcapy/dcapy/dca/arps.py:80: RuntimeWarning: divide by zero encountered in true_divide\n",
      "  g = np.power(b*di*time_array+1,(b-1)/b)\n",
      "/home/scuervo91/dev/apps/dcapy/dcapy/dca/arps.py:81: RuntimeWarning: divide by zero encountered in true_divide\n",
      "  h = np.power(b*di*ti+1,(b-1)/b)\n",
      "           oil_rate       oil_cum  iteration    oil_volume  fluid_rate  \\\n",
      "date                                                                     \n",
      "2021-02  400.000000      0.000000          0      0.000000      1000.0   \n",
      "2021-03  390.899639  11072.106269          0  11072.106269      1200.0   \n",
      "2021-04  381.065546  23036.919336          0  11964.813067      1300.0   \n",
      "2021-05  371.784305  34329.094979          0  11292.175643      1200.0   \n",
      "2021-06  362.431108  45708.818254          0  11379.723275      1300.0   \n",
      "2021-07  353.603729  56448.796662          0  10739.978408      1200.0   \n",
      "2021-05  487.821990  14816.579154          1  14816.579154      1200.0   \n",
      "2021-06  475.549564  29748.030452          1  14931.451297      1300.0   \n",
      "2021-07  463.967069  43840.065966          1  14092.035514      1200.0   \n",
      "\n",
      "         water_rate       bsw       wor      water_cum  fluid_cum  \\\n",
      "date                                                                \n",
      "2021-02  600.000000  0.600000  1.500000       0.000000        0.0   \n",
      "2021-03  809.100361  0.674250  2.069842   22654.810117    33600.0   \n",
      "2021-04  918.934454  0.706873  2.411487   51141.778199    73900.0   \n",
      "2021-05  828.215695  0.690180  2.227678   75988.249034   109900.0   \n",
      "2021-06  937.568892  0.721207  2.586889  105052.884677   150200.0   \n",
      "2021-07  846.396271  0.705330  2.393629  130444.772814   186200.0   \n",
      "2021-05  712.178010  0.593482  1.459914   46165.340308   109900.0   \n",
      "2021-06  824.450436  0.634193  1.733679   71723.303824   150200.0   \n",
      "2021-07  736.032931  0.613361  1.586390   93804.291751   186200.0   \n",
      "\n",
      "         water_volume  fluid_volume  \n",
      "date                                 \n",
      "2021-02      0.000000           0.0  \n",
      "2021-03  22654.810117       33600.0  \n",
      "2021-04  28486.968082       40300.0  \n",
      "2021-05  24846.470835       36000.0  \n",
      "2021-06  29064.635643       40300.0  \n",
      "2021-07  25391.888137       36000.0  \n",
      "2021-05  21365.340308       36000.0  \n",
      "2021-06  25557.963516       40300.0  \n",
      "2021-07  22080.987928       36000.0  \n"
     ]
    }
   ],
   "source": [
    "qi = [400,500]\n",
    "di = 0.3\n",
    "b = 0\n",
    "ti = [date(2021,2,1), date(2021,4,1)]\n",
    "di_f = 'A'\n",
    "fluid_rate = [1000,1200,1300,1200,1300,1200]\n",
    "dc = dca.Arps(qi=qi,di=di,b=b,ti=ti,freq_di=di_f, fluid_rate=fluid_rate)\n",
    "print(dc.forecast(start=date(2021,2,1), end=date(2021,7,1), freq_output='M'))"
   ]
  },
  {
   "cell_type": "code",
   "execution_count": 7,
   "metadata": {},
   "outputs": [
    {
     "output_type": "execute_result",
     "data": {
      "text/plain": [
       "Scenario(name='base', periods=[Period(name='pdp', dca=Declination \n",
       " Ti: 2021-01-01 \n",
       " Qi: dist='norm' kw={'loc': 900, 'scale': 200} bbl/d \n",
       " Di: 0.3 A \n",
       " b: 0.0, start=datetime.date(2021, 1, 1), end=datetime.date(2027, 1, 1), time_list=None, freq_input='M', freq_output='M', rate_limit=400.0, cum_limit=None, iter=10, ppf=None, cashflow_params=None, cashflow=None, depends=None, forecast=None), Period(name='pud', dca=Declination \n",
       " Ti: 2022-01-01 \n",
       " Qi: [900.0, 1500.0] bbl/d \n",
       " Di: 0.3 A \n",
       " b: 0.0, start=datetime.date(2022, 1, 1), end=datetime.date(2027, 1, 1), time_list=None, freq_input='M', freq_output='M', rate_limit=None, cum_limit=None, iter=1, ppf=None, cashflow_params=None, cashflow=None, depends=Depends(period='pdp', delay=None), forecast=None)], cashflow_params=None, cashflow=None, forecast=None)"
      ]
     },
     "metadata": {},
     "execution_count": 7
    }
   ],
   "source": [
    "s1 = Scenario(name='base', periods=[p1,p2])\n",
    "s1"
   ]
  },
  {
   "cell_type": "code",
   "execution_count": 8,
   "metadata": {},
   "outputs": [
    {
     "output_type": "stream",
     "name": "stderr",
     "text": [
      "/home/scuervo91/dev/apps/dcapy/dcapy/dca/arps.py:240: RuntimeWarning: invalid value encountered in true_divide\n",
      "  (np.power(qi / rate, b) - 1)/(b * di)\n",
      "/home/scuervo91/dev/apps/dcapy/dcapy/dca/arps.py:63: RuntimeWarning: divide by zero encountered in true_divide\n",
      "  return qi/np.power(1+b*di*time_array,1/b)\n",
      "/home/scuervo91/dev/apps/dcapy/dcapy/dca/arps.py:80: RuntimeWarning: divide by zero encountered in true_divide\n",
      "  g = np.power(b*di*time_array+1,(b-1)/b)\n",
      "/home/scuervo91/dev/apps/dcapy/dcapy/dca/arps.py:81: RuntimeWarning: divide by zero encountered in true_divide\n",
      "  h = np.power(b*di*ti+1,(b-1)/b)\n",
      "[datetime.date(2024, 8, 1), datetime.date(2023, 8, 1), datetime.date(2024, 9, 1), datetime.date(2024, 4, 1), datetime.date(2024, 2, 1), datetime.date(2022, 4, 1), datetime.date(2024, 5, 1), datetime.date(2023, 6, 1), datetime.date(2022, 6, 1), datetime.date(2023, 3, 1)]\n"
     ]
    },
    {
     "output_type": "error",
     "ename": "ValueError",
     "evalue": "operands could not be broadcast together with shapes (2,1) (10,61) ",
     "traceback": [
      "\u001b[0;31m---------------------------------------------------------------------------\u001b[0m",
      "\u001b[0;31mValueError\u001b[0m                                Traceback (most recent call last)",
      "\u001b[0;32m<ipython-input-8-954164c731c0>\u001b[0m in \u001b[0;36m<module>\u001b[0;34m\u001b[0m\n\u001b[0;32m----> 1\u001b[0;31m \u001b[0mfore1\u001b[0m \u001b[0;34m=\u001b[0m \u001b[0ms1\u001b[0m\u001b[0;34m.\u001b[0m\u001b[0mgenerate_forecast\u001b[0m\u001b[0;34m(\u001b[0m\u001b[0;34m)\u001b[0m\u001b[0;34m\u001b[0m\u001b[0;34m\u001b[0m\u001b[0m\n\u001b[0m",
      "\u001b[0;32m~/dev/apps/dcapy/dcapy/models/schedule.py\u001b[0m in \u001b[0;36mgenerate_forecast\u001b[0;34m(self, periods)\u001b[0m\n\u001b[1;32m    216\u001b[0m                                 \u001b[0m_periods\u001b[0m\u001b[0;34m[\u001b[0m\u001b[0mp\u001b[0m\u001b[0;34m]\u001b[0m\u001b[0;34m.\u001b[0m\u001b[0mdca\u001b[0m\u001b[0;34m.\u001b[0m\u001b[0mti\u001b[0m \u001b[0;34m=\u001b[0m \u001b[0mnew_ti\u001b[0m\u001b[0;34m\u001b[0m\u001b[0;34m\u001b[0m\u001b[0m\n\u001b[1;32m    217\u001b[0m                                 \u001b[0mprint\u001b[0m\u001b[0;34m(\u001b[0m\u001b[0mnew_ti\u001b[0m\u001b[0;34m)\u001b[0m\u001b[0;34m\u001b[0m\u001b[0;34m\u001b[0m\u001b[0m\n\u001b[0;32m--> 218\u001b[0;31m                         \u001b[0m_f\u001b[0m \u001b[0;34m=\u001b[0m \u001b[0m_periods\u001b[0m\u001b[0;34m[\u001b[0m\u001b[0mp\u001b[0m\u001b[0;34m]\u001b[0m\u001b[0;34m.\u001b[0m\u001b[0mgenerate_forecast\u001b[0m\u001b[0;34m(\u001b[0m\u001b[0;34m)\u001b[0m\u001b[0;34m\u001b[0m\u001b[0;34m\u001b[0m\u001b[0m\n\u001b[0m\u001b[1;32m    219\u001b[0m                         \u001b[0;31m#try:\u001b[0m\u001b[0;34m\u001b[0m\u001b[0;34m\u001b[0m\u001b[0;34m\u001b[0m\u001b[0m\n\u001b[1;32m    220\u001b[0m                         \u001b[0;31m#       _f = _periods[p].generate_forecast()\u001b[0m\u001b[0;34m\u001b[0m\u001b[0;34m\u001b[0m\u001b[0;34m\u001b[0m\u001b[0m\n",
      "\u001b[0;32m~/dev/apps/dcapy/dcapy/models/schedule.py\u001b[0m in \u001b[0;36mgenerate_forecast\u001b[0;34m(self)\u001b[0m\n\u001b[1;32m     60\u001b[0m \u001b[0;34m\u001b[0m\u001b[0m\n\u001b[1;32m     61\u001b[0m         \u001b[0;32mdef\u001b[0m \u001b[0mgenerate_forecast\u001b[0m\u001b[0;34m(\u001b[0m\u001b[0mself\u001b[0m\u001b[0;34m)\u001b[0m\u001b[0;34m:\u001b[0m\u001b[0;34m\u001b[0m\u001b[0;34m\u001b[0m\u001b[0m\n\u001b[0;32m---> 62\u001b[0;31m \t\t_forecast = self.dca.forecast(\n\u001b[0m\u001b[1;32m     63\u001b[0m                         \u001b[0mtime_list\u001b[0m \u001b[0;34m=\u001b[0m \u001b[0mself\u001b[0m\u001b[0;34m.\u001b[0m\u001b[0mtime_list\u001b[0m\u001b[0;34m,\u001b[0m\u001b[0mstart\u001b[0m\u001b[0;34m=\u001b[0m\u001b[0mself\u001b[0m\u001b[0;34m.\u001b[0m\u001b[0mstart\u001b[0m\u001b[0;34m,\u001b[0m \u001b[0mend\u001b[0m\u001b[0;34m=\u001b[0m\u001b[0mself\u001b[0m\u001b[0;34m.\u001b[0m\u001b[0mend\u001b[0m\u001b[0;34m,\u001b[0m \u001b[0mfreq_input\u001b[0m\u001b[0;34m=\u001b[0m\u001b[0mself\u001b[0m\u001b[0;34m.\u001b[0m\u001b[0mfreq_input\u001b[0m\u001b[0;34m,\u001b[0m\u001b[0;34m\u001b[0m\u001b[0;34m\u001b[0m\u001b[0m\n\u001b[1;32m     64\u001b[0m                         \u001b[0mfreq_output\u001b[0m\u001b[0;34m=\u001b[0m\u001b[0mself\u001b[0m\u001b[0;34m.\u001b[0m\u001b[0mfreq_output\u001b[0m\u001b[0;34m,\u001b[0m \u001b[0mrate_limit\u001b[0m\u001b[0;34m=\u001b[0m\u001b[0mself\u001b[0m\u001b[0;34m.\u001b[0m\u001b[0mrate_limit\u001b[0m\u001b[0;34m,\u001b[0m\u001b[0;34m\u001b[0m\u001b[0;34m\u001b[0m\u001b[0m\n",
      "\u001b[0;32m~/dev/apps/dcapy/dcapy/dca/arps.py\u001b[0m in \u001b[0;36mforecast\u001b[0;34m(self, time_list, start, end, rate_limit, cum_limit, freq_input, freq_output, iter, ppf, **kwargs)\u001b[0m\n\u001b[1;32m    460\u001b[0m \u001b[0;34m\u001b[0m\u001b[0m\n\u001b[1;32m    461\u001b[0m         \u001b[0mcum_factor\u001b[0m \u001b[0;34m=\u001b[0m \u001b[0mconverter_factor\u001b[0m\u001b[0;34m(\u001b[0m\u001b[0;34m'D'\u001b[0m\u001b[0;34m,\u001b[0m\u001b[0mfreq_input\u001b[0m\u001b[0;34m)\u001b[0m \u001b[0;32mif\u001b[0m \u001b[0mself\u001b[0m\u001b[0;34m.\u001b[0m\u001b[0mformat\u001b[0m\u001b[0;34m(\u001b[0m\u001b[0;34m)\u001b[0m \u001b[0;34m==\u001b[0m \u001b[0;34m'number'\u001b[0m \u001b[0;32melse\u001b[0m \u001b[0;36m1\u001b[0m\u001b[0;34m\u001b[0m\u001b[0;34m\u001b[0m\u001b[0m\n\u001b[0;32m--> 462\u001b[0;31m         \u001b[0m_forecast\u001b[0m \u001b[0;34m=\u001b[0m \u001b[0marps_forecast\u001b[0m\u001b[0;34m(\u001b[0m\u001b[0mtime_array\u001b[0m\u001b[0;34m,\u001b[0m\u001b[0mqi\u001b[0m\u001b[0;34m,\u001b[0m\u001b[0mdi\u001b[0m\u001b[0;34m,\u001b[0m\u001b[0mb\u001b[0m\u001b[0;34m,\u001b[0m\u001b[0mti\u001b[0m\u001b[0;34m=\u001b[0m\u001b[0mti_delta\u001b[0m\u001b[0;34m)\u001b[0m\u001b[0;34m.\u001b[0m\u001b[0mflatten\u001b[0m\u001b[0;34m(\u001b[0m\u001b[0;34m'F'\u001b[0m\u001b[0;34m)\u001b[0m\u001b[0;34m\u001b[0m\u001b[0;34m\u001b[0m\u001b[0m\n\u001b[0m\u001b[1;32m    463\u001b[0m         \u001b[0m_cumulative\u001b[0m \u001b[0;34m=\u001b[0m \u001b[0marps_cumulative\u001b[0m\u001b[0;34m(\u001b[0m\u001b[0mtime_array\u001b[0m\u001b[0;34m,\u001b[0m\u001b[0mqi\u001b[0m\u001b[0;34m*\u001b[0m\u001b[0mcum_factor\u001b[0m\u001b[0;34m,\u001b[0m\u001b[0mdi\u001b[0m\u001b[0;34m,\u001b[0m\u001b[0mb\u001b[0m\u001b[0;34m,\u001b[0m\u001b[0mti\u001b[0m\u001b[0;34m=\u001b[0m\u001b[0mti_delta\u001b[0m\u001b[0;34m)\u001b[0m\u001b[0;34m.\u001b[0m\u001b[0mflatten\u001b[0m\u001b[0;34m(\u001b[0m\u001b[0;34m'F'\u001b[0m\u001b[0;34m)\u001b[0m\u001b[0;34m\u001b[0m\u001b[0;34m\u001b[0m\u001b[0m\n\u001b[1;32m    464\u001b[0m         \u001b[0m_iterations\u001b[0m \u001b[0;34m=\u001b[0m \u001b[0mnp\u001b[0m\u001b[0;34m.\u001b[0m\u001b[0mrepeat\u001b[0m\u001b[0;34m(\u001b[0m\u001b[0mnp\u001b[0m\u001b[0;34m.\u001b[0m\u001b[0marange\u001b[0m\u001b[0;34m(\u001b[0m\u001b[0;36m0\u001b[0m\u001b[0;34m,\u001b[0m\u001b[0miter\u001b[0m\u001b[0;34m)\u001b[0m\u001b[0;34m,\u001b[0m\u001b[0m_forecast\u001b[0m\u001b[0;34m.\u001b[0m\u001b[0mshape\u001b[0m\u001b[0;34m[\u001b[0m\u001b[0;36m0\u001b[0m\u001b[0;34m]\u001b[0m\u001b[0;34m/\u001b[0m\u001b[0miter\u001b[0m\u001b[0;34m)\u001b[0m \u001b[0;31m#if n is not None else np.zeros(_forecast.shape)\u001b[0m\u001b[0;34m\u001b[0m\u001b[0;34m\u001b[0m\u001b[0m\n",
      "\u001b[0;32m~/dev/apps/dcapy/dcapy/dca/arps.py\u001b[0m in \u001b[0;36marps_forecast\u001b[0;34m(time_array, qi, di, b, ti)\u001b[0m\n\u001b[1;32m    154\u001b[0m     f = np.where(\n\u001b[1;32m    155\u001b[0m         \u001b[0mparams_dict\u001b[0m\u001b[0;34m[\u001b[0m\u001b[0;34m'b'\u001b[0m\u001b[0;34m]\u001b[0m\u001b[0;34m==\u001b[0m\u001b[0;36m0\u001b[0m\u001b[0;34m,\u001b[0m\u001b[0;34m\u001b[0m\u001b[0;34m\u001b[0m\u001b[0m\n\u001b[0;32m--> 156\u001b[0;31m         arps_exp_rate(\n\u001b[0m\u001b[1;32m    157\u001b[0m             \u001b[0mtime_diff\u001b[0m\u001b[0;34m,\u001b[0m\u001b[0;34m\u001b[0m\u001b[0;34m\u001b[0m\u001b[0m\n\u001b[1;32m    158\u001b[0m             \u001b[0mparams_dict\u001b[0m\u001b[0;34m[\u001b[0m\u001b[0;34m'qi'\u001b[0m\u001b[0;34m]\u001b[0m\u001b[0;34m,\u001b[0m\u001b[0;34m\u001b[0m\u001b[0;34m\u001b[0m\u001b[0m\n",
      "\u001b[0;32m~/dev/apps/dcapy/dcapy/dca/arps.py\u001b[0m in \u001b[0;36marps_exp_rate\u001b[0;34m(time_array, qi, di)\u001b[0m\n\u001b[1;32m     28\u001b[0m     \"\"\"\n\u001b[1;32m     29\u001b[0m     \u001b[0mtime_array\u001b[0m \u001b[0;34m=\u001b[0m \u001b[0mnp\u001b[0m\u001b[0;34m.\u001b[0m\u001b[0matleast_1d\u001b[0m\u001b[0;34m(\u001b[0m\u001b[0mtime_array\u001b[0m\u001b[0;34m)\u001b[0m\u001b[0;34m\u001b[0m\u001b[0;34m\u001b[0m\u001b[0m\n\u001b[0;32m---> 30\u001b[0;31m     \u001b[0;32mreturn\u001b[0m \u001b[0mqi\u001b[0m\u001b[0;34m*\u001b[0m\u001b[0mnp\u001b[0m\u001b[0;34m.\u001b[0m\u001b[0mexp\u001b[0m\u001b[0;34m(\u001b[0m\u001b[0;34m-\u001b[0m\u001b[0mdi\u001b[0m\u001b[0;34m*\u001b[0m\u001b[0mtime_array\u001b[0m\u001b[0;34m)\u001b[0m\u001b[0;34m\u001b[0m\u001b[0;34m\u001b[0m\u001b[0m\n\u001b[0m\u001b[1;32m     31\u001b[0m \u001b[0;34m\u001b[0m\u001b[0m\n\u001b[1;32m     32\u001b[0m \u001b[0;32mdef\u001b[0m \u001b[0marps_exp_cumulative\u001b[0m\u001b[0;34m(\u001b[0m\u001b[0mtime_array\u001b[0m\u001b[0;34m:\u001b[0m\u001b[0mnp\u001b[0m\u001b[0;34m.\u001b[0m\u001b[0mndarray\u001b[0m\u001b[0;34m,\u001b[0m\u001b[0mqi\u001b[0m\u001b[0;34m:\u001b[0m\u001b[0mfloat\u001b[0m\u001b[0;34m,\u001b[0m\u001b[0mdi\u001b[0m\u001b[0;34m:\u001b[0m\u001b[0mfloat\u001b[0m\u001b[0;34m,\u001b[0m\u001b[0mti\u001b[0m\u001b[0;34m=\u001b[0m\u001b[0;36m0\u001b[0m\u001b[0;34m)\u001b[0m\u001b[0;34m->\u001b[0m\u001b[0mnp\u001b[0m\u001b[0;34m.\u001b[0m\u001b[0mndarray\u001b[0m\u001b[0;34m:\u001b[0m\u001b[0;34m\u001b[0m\u001b[0;34m\u001b[0m\u001b[0m\n",
      "\u001b[0;31mValueError\u001b[0m: operands could not be broadcast together with shapes (2,1) (10,61) "
     ]
    }
   ],
   "source": [
    "fore1 = s1.generate_forecast()"
   ]
  },
  {
   "cell_type": "code",
   "execution_count": 1,
   "metadata": {},
   "outputs": [
    {
     "output_type": "error",
     "ename": "NameError",
     "evalue": "name 'sns' is not defined",
     "traceback": [
      "\u001b[0;31m---------------------------------------------------------------------------\u001b[0m",
      "\u001b[0;31mNameError\u001b[0m                                 Traceback (most recent call last)",
      "\u001b[0;32m<ipython-input-1-08fc4b8e37b3>\u001b[0m in \u001b[0;36m<module>\u001b[0;34m\u001b[0m\n\u001b[0;32m----> 1\u001b[0;31m \u001b[0msns\u001b[0m\u001b[0;34m.\u001b[0m\u001b[0mlineplot\u001b[0m\u001b[0;34m(\u001b[0m\u001b[0mdata\u001b[0m\u001b[0;34m=\u001b[0m\u001b[0mfore1\u001b[0m\u001b[0;34m,\u001b[0m  \u001b[0mx\u001b[0m\u001b[0;34m=\u001b[0m\u001b[0mfore1\u001b[0m\u001b[0;34m.\u001b[0m\u001b[0mindex\u001b[0m\u001b[0;34m.\u001b[0m\u001b[0mto_timestamp\u001b[0m\u001b[0;34m(\u001b[0m\u001b[0;34m)\u001b[0m\u001b[0;34m,\u001b[0m \u001b[0my\u001b[0m\u001b[0;34m=\u001b[0m\u001b[0;34m'oil_rate'\u001b[0m\u001b[0;34m,\u001b[0m \u001b[0mhue\u001b[0m\u001b[0;34m=\u001b[0m\u001b[0;34m'iteration'\u001b[0m\u001b[0;34m,\u001b[0m \u001b[0mstyle\u001b[0m\u001b[0;34m=\u001b[0m\u001b[0;34m'period'\u001b[0m\u001b[0;34m)\u001b[0m\u001b[0;34m\u001b[0m\u001b[0;34m\u001b[0m\u001b[0m\n\u001b[0m",
      "\u001b[0;31mNameError\u001b[0m: name 'sns' is not defined"
     ]
    }
   ],
   "source": [
    "sns.lineplot(data=fore1,  x=fore1.index.to_timestamp(), y='oil_rate', hue='iteration', style='period')"
   ]
  },
  {
   "cell_type": "code",
   "execution_count": 2,
   "metadata": {},
   "outputs": [
    {
     "output_type": "error",
     "ename": "NameError",
     "evalue": "name 'fore1' is not defined",
     "traceback": [
      "\u001b[0;31m---------------------------------------------------------------------------\u001b[0m",
      "\u001b[0;31mNameError\u001b[0m                                 Traceback (most recent call last)",
      "\u001b[0;32m<ipython-input-2-b7283c428a16>\u001b[0m in \u001b[0;36m<module>\u001b[0;34m\u001b[0m\n\u001b[0;32m----> 1\u001b[0;31m \u001b[0mfore1\u001b[0m\u001b[0;34m\u001b[0m\u001b[0;34m\u001b[0m\u001b[0m\n\u001b[0m",
      "\u001b[0;31mNameError\u001b[0m: name 'fore1' is not defined"
     ]
    }
   ],
   "source": [
    "fore1"
   ]
  },
  {
   "cell_type": "code",
   "execution_count": null,
   "metadata": {},
   "outputs": [],
   "source": []
  }
 ]
}