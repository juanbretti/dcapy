{
    "cells": [
        {
            "cell_type": "markdown",
            "source": [
                "## Test"
            ],
            "metadata": {}
        },
        {
            "cell_type": "code",
            "execution_count": 1,
            "source": [
                "from dcapy.schedule import Well, WellsGroup, Period, Scenario\n",
                "from dcapy import dca\n",
                "import numpy as np \n",
                "import pandas as pd \n",
                "import matplotlib.pyplot as plt\n",
                "import seaborn as sns"
            ],
            "outputs": [],
            "metadata": {}
        },
        {
            "cell_type": "code",
            "execution_count": 2,
            "source": [
                "p = Period(\n",
                "    name='base',\n",
                "    dca = dca.Arps(\n",
                "      qi = 30,\n",
                "      di = 0.005102753514909305,\n",
                "      freq_di='D',\n",
                "      ti = 0,\n",
                "      b=1,\n",
                "    ),\n",
                "    start = 0,\n",
                "    end=36,\n",
                "    freq_output='M',\n",
                "    freq_input='M',\n",
                "    cashflow_params = [\n",
                "      {\n",
                "          'name':'wo',\n",
                "          'value':-212000,\n",
                "          'periods':1,\n",
                "          'target':'capex'\n",
                "      },\n",
                "      {\n",
                "          'name':'Opex',\n",
                "          'value':-14,\n",
                "          'multiply': 'oil_volume',\n",
                "          'target':'opex'\n",
                "      },\n",
                "      {\n",
                "          'name':'Income',\n",
                "          'value':[40,45,50,65],\n",
                "          'multiply': 'oil_volume',\n",
                "          'target':'income',\n",
                "          'wi':0.92\n",
                "      },\n",
                "      {\n",
                "          'name':'abandon',\n",
                "          'value':-200000,\n",
                "          'periods':-1,\n",
                "          'target':'capex'\n",
                "      },\n",
                "\n",
                "    ]\n",
                ")\n",
                "s = Scenario(name='sc', periods = [p])\n",
                "w = Well(\n",
                "      name = f'well_Socha',\n",
                "      scenarios = [\n",
                "        s\n",
                "      ]\n",
                ")\n",
                "\n",
                "gw = WellsGroup(name='wells',wells=[w])\n",
                "gw.tree()"
            ],
            "outputs": [
                {
                    "output_type": "execute_result",
                    "data": {
                        "text/html": [
                            "<pre style=\"white-space:pre;overflow-x:auto;line-height:normal;font-family:Menlo,'DejaVu Sans Mono',consolas,'Courier New',monospace\"><span style=\"font-weight: bold\">🏭wells                                                                                      </span>\n",
                            "┗━━ <span style=\"font-weight: bold\">🗼well_Socha                                                                             </span>\n",
                            "    ┗━━ <span style=\"font-weight: bold\">🔀sc                                                                                 </span>\n",
                            "        ┗━━ <span style=\"font-weight: bold\">📉base                                                                           </span>\n",
                            "</pre>\n"
                        ],
                        "text/plain": [
                            "\u001b[1m🏭wells\u001b[0m\u001b[1m                                                                                      \u001b[0m\n",
                            "┗━━ \u001b[1m🗼well_Socha\u001b[0m\u001b[1m                                                                             \u001b[0m\n",
                            "    ┗━━ \u001b[1m🔀sc\u001b[0m\u001b[1m                                                                                 \u001b[0m\n",
                            "        ┗━━ \u001b[1m📉base\u001b[0m\u001b[1m                                                                           \u001b[0m\n"
                        ]
                    },
                    "metadata": {},
                    "execution_count": 2
                }
            ],
            "metadata": {}
        },
        {
            "cell_type": "code",
            "execution_count": 3,
            "source": [
                "f = gw.generate_forecast(freq_output='M')\n",
                "c = gw.generate_cashflow(freq_output='M')\n",
                "\n",
                "#print(len(c))"
            ],
            "outputs": [
                {
                    "output_type": "stream",
                    "name": "stderr",
                    "text": [
                        "/home/scuervo91/dev/apps/dcapy/dcapy/dca/arps.py:84: RuntimeWarning: divide by zero encountered in true_divide\n",
                        "  f = qi/(di*(b-1))\n",
                        "/home/scuervo91/dev/apps/dcapy/dcapy/dca/arps.py:87: RuntimeWarning: invalid value encountered in multiply\n",
                        "  return f*(g-h)\n"
                    ]
                }
            ],
            "metadata": {}
        },
        {
            "cell_type": "code",
            "execution_count": 4,
            "source": [
                "np.broadcast_shapes(1,1,1,4,1)"
            ],
            "outputs": [
                {
                    "output_type": "execute_result",
                    "data": {
                        "text/plain": [
                            "(4,)"
                        ]
                    },
                    "metadata": {},
                    "execution_count": 4
                }
            ],
            "metadata": {}
        },
        {
            "cell_type": "code",
            "execution_count": null,
            "source": [],
            "outputs": [],
            "metadata": {}
        }
    ],
    "metadata": {
        "orig_nbformat": 4,
        "language_info": {
            "name": "python",
            "version": "3.8.8",
            "mimetype": "text/x-python",
            "codemirror_mode": {
                "name": "ipython",
                "version": 3
            },
            "pygments_lexer": "ipython3",
            "nbconvert_exporter": "python",
            "file_extension": ".py"
        },
        "kernelspec": {
            "name": "python3",
            "display_name": "Python 3.8.8 64-bit ('dcapy': conda)"
        },
        "interpreter": {
            "hash": "ab24a4a540e2ae850f5bb40f3ff926fc8d1a219d7295b7cc8f5b0a1cbda21e76"
        }
    },
    "nbformat": 4,
    "nbformat_minor": 2
}