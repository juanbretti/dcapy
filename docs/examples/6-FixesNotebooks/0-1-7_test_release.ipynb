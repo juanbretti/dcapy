{
    "cells": [
        {
            "cell_type": "markdown",
            "source": [
                "## Test"
            ],
            "metadata": {}
        },
        {
            "cell_type": "code",
            "execution_count": 25,
            "source": [
                "from dcapy.schedule import Well, WellsGroup, Period, Scenario\n",
                "from dcapy import dca\n",
                "from dcapy.wiener import MeanReversion\n",
                "from dcapy.cashflow import CashFlowParams\n",
                "import numpy as np \n",
                "import pandas as pd \n",
                "import matplotlib.pyplot as plt\n",
                "import seaborn as sns"
            ],
            "outputs": [],
            "metadata": {}
        },
        {
            "cell_type": "code",
            "execution_count": 26,
            "source": [
                "oil_mr = MeanReversion(\n",
                "    initial_condition = 66,\n",
                "    ti = 0,\n",
                "    generator = {'dist':'norm','kw':{'loc':0,'scale':3}},\n",
                "    m=50,\n",
                "    steps=36,\n",
                "    eta=0.112652,\n",
                "    freq_input = 'M'\n",
                ")"
            ],
            "outputs": [],
            "metadata": {}
        },
        {
            "cell_type": "code",
            "execution_count": 27,
            "source": [
                "cp = CashFlowParams(**{\n",
                "          'name':'Income',\n",
                "          'value':oil_mr,\n",
                "          'multiply': 'oil_volume',\n",
                "          'target':'income',\n",
                "          'wi':0.92\n",
                "      })\n",
                "cp.get_value(5,freq_output='M',seed=21)"
            ],
            "outputs": [
                {
                    "output_type": "execute_result",
                    "data": {
                        "text/plain": [
                            "ChgPts(date=[0, 1, 2, 3, 4, 5, 6, 7, 8, 9, 10, 11, 12, 13, 14, 15, 16, 17, 18, 19, 20, 21, 22, 23, 24, 25, 26, 27, 28, 29, 30, 31, 32, 33, 34, 35], value=[66.0, 61.585436823202365, 60.4633584951777, 63.750986991922915, 57.19265283282642, 55.68929168250496, 57.96791815599725, 57.910273507083396, 55.272996814725396, 54.80813288112954, 55.52262054837376, 57.98235645318568, 52.33699847721425, 49.503699281958895, 50.38557704554511, 51.644594584329404, 52.201307145951944, 53.200978189661036, 55.508281714043584, 56.298703863761425, 63.33695070719947, 59.89368156189531, 57.767907247089134, 52.58512541146454, 54.09716346271902, 54.38200190632263, 53.443722979009124, 49.63769597851781, 55.56906134829208, 56.23182408515267, 58.04655343177194, 53.154857735661075, 53.8216384612898, 54.916900469507624, 59.56809825744968, 60.31435837356523])"
                        ]
                    },
                    "metadata": {},
                    "execution_count": 27
                }
            ],
            "metadata": {}
        },
        {
            "cell_type": "code",
            "execution_count": 28,
            "source": [
                "p = Period(\n",
                "    name='base',\n",
                "    dca = dca.Arps(\n",
                "      qi = dca.ProbVar(dist='triang',kw={'c':0.2,'loc':20,'scale':30}),\n",
                "      di = 0.005102753514909305,\n",
                "      freq_di='D',\n",
                "      ti = 0,\n",
                "      b=1,\n",
                "    ),\n",
                "    start = 0,\n",
                "    end=36,\n",
                "    freq_output='M',\n",
                "    freq_input='M',\n",
                "    cashflow_params = [\n",
                "      {\n",
                "          'name':'wo',\n",
                "          'value':-212000,\n",
                "          'periods':1,\n",
                "          'target':'capex'\n",
                "      },\n",
                "      {\n",
                "          'name':'Opex',\n",
                "          'value':-14,\n",
                "          'multiply': 'oil_volume',\n",
                "          'target':'opex'\n",
                "      },\n",
                "      {\n",
                "          'name':'Income',\n",
                "          'value':oil_mr,\n",
                "          'multiply': 'oil_volume',\n",
                "          'target':'income',\n",
                "          'wi':0.92\n",
                "      },\n",
                "      {\n",
                "          'name':'abandon',\n",
                "          'value':-200000,\n",
                "          'periods':-1,\n",
                "          'target':'capex'\n",
                "      },\n",
                "\n",
                "    ]\n",
                ")\n",
                "s = Scenario(name='sc', periods = [p])\n",
                "w = Well(\n",
                "      name = f'well_Socha',\n",
                "      scenarios = [\n",
                "        s\n",
                "      ]\n",
                ")\n",
                "\n",
                "gw = WellsGroup(name='wells',wells=[w], seed=21)\n",
                "gw.tree()"
            ],
            "outputs": [
                {
                    "output_type": "execute_result",
                    "data": {
                        "text/html": [
                            "<pre style=\"white-space:pre;overflow-x:auto;line-height:normal;font-family:Menlo,'DejaVu Sans Mono',consolas,'Courier New',monospace\"><span style=\"font-weight: bold\">🏭wells                                                                                      </span>\n",
                            "┗━━ <span style=\"font-weight: bold\">🗼well_Socha                                                                             </span>\n",
                            "    ┗━━ <span style=\"font-weight: bold\">🔀sc                                                                                 </span>\n",
                            "        ┗━━ <span style=\"font-weight: bold\">📉base                                                                           </span>\n",
                            "</pre>\n"
                        ],
                        "text/plain": [
                            "\u001b[1m🏭wells\u001b[0m\u001b[1m                                                                                      \u001b[0m\n",
                            "┗━━ \u001b[1m🗼well_Socha\u001b[0m\u001b[1m                                                                             \u001b[0m\n",
                            "    ┗━━ \u001b[1m🔀sc\u001b[0m\u001b[1m                                                                                 \u001b[0m\n",
                            "        ┗━━ \u001b[1m📉base\u001b[0m\u001b[1m                                                                           \u001b[0m\n"
                        ]
                    },
                    "metadata": {},
                    "execution_count": 28
                }
            ],
            "metadata": {}
        },
        {
            "cell_type": "code",
            "execution_count": 29,
            "source": [
                "f = gw.generate_forecast(freq_output='M', iter=100)\n",
                "f.head()"
            ],
            "outputs": [
                {
                    "output_type": "stream",
                    "name": "stderr",
                    "text": [
                        "/home/scuervo91/dev/apps/dcapy/dcapy/dca/arps.py:84: RuntimeWarning: divide by zero encountered in true_divide\n",
                        "  f = qi/(di*(b-1))\n",
                        "/home/scuervo91/dev/apps/dcapy/dcapy/dca/arps.py:87: RuntimeWarning: invalid value encountered in multiply\n",
                        "  return f*(g-h)\n"
                    ]
                },
                {
                    "output_type": "execute_result",
                    "data": {
                        "text/html": [
                            "<div>\n",
                            "<style scoped>\n",
                            "    .dataframe tbody tr th:only-of-type {\n",
                            "        vertical-align: middle;\n",
                            "    }\n",
                            "\n",
                            "    .dataframe tbody tr th {\n",
                            "        vertical-align: top;\n",
                            "    }\n",
                            "\n",
                            "    .dataframe thead th {\n",
                            "        text-align: right;\n",
                            "    }\n",
                            "</style>\n",
                            "<table border=\"1\" class=\"dataframe\">\n",
                            "  <thead>\n",
                            "    <tr style=\"text-align: right;\">\n",
                            "      <th></th>\n",
                            "      <th>oil_rate</th>\n",
                            "      <th>oil_cum</th>\n",
                            "      <th>iteration</th>\n",
                            "      <th>oil_volume</th>\n",
                            "      <th>period</th>\n",
                            "      <th>scenario</th>\n",
                            "      <th>well</th>\n",
                            "    </tr>\n",
                            "    <tr>\n",
                            "      <th>date</th>\n",
                            "      <th></th>\n",
                            "      <th></th>\n",
                            "      <th></th>\n",
                            "      <th></th>\n",
                            "      <th></th>\n",
                            "      <th></th>\n",
                            "      <th></th>\n",
                            "    </tr>\n",
                            "  </thead>\n",
                            "  <tbody>\n",
                            "    <tr>\n",
                            "      <th>0</th>\n",
                            "      <td>22.961499</td>\n",
                            "      <td>0.000000</td>\n",
                            "      <td>0</td>\n",
                            "      <td>640.950088</td>\n",
                            "      <td>base</td>\n",
                            "      <td>sc</td>\n",
                            "      <td>well_Socha</td>\n",
                            "    </tr>\n",
                            "    <tr>\n",
                            "      <th>1</th>\n",
                            "      <td>19.913143</td>\n",
                            "      <td>640.950088</td>\n",
                            "      <td>0</td>\n",
                            "      <td>600.941599</td>\n",
                            "      <td>base</td>\n",
                            "      <td>sc</td>\n",
                            "      <td>well_Socha</td>\n",
                            "    </tr>\n",
                            "    <tr>\n",
                            "      <th>2</th>\n",
                            "      <td>17.579322</td>\n",
                            "      <td>1201.883198</td>\n",
                            "      <td>0</td>\n",
                            "      <td>529.814439</td>\n",
                            "      <td>base</td>\n",
                            "      <td>sc</td>\n",
                            "      <td>well_Socha</td>\n",
                            "    </tr>\n",
                            "    <tr>\n",
                            "      <th>3</th>\n",
                            "      <td>15.735161</td>\n",
                            "      <td>1700.578967</td>\n",
                            "      <td>0</td>\n",
                            "      <td>473.798024</td>\n",
                            "      <td>base</td>\n",
                            "      <td>sc</td>\n",
                            "      <td>well_Socha</td>\n",
                            "    </tr>\n",
                            "    <tr>\n",
                            "      <th>4</th>\n",
                            "      <td>14.241187</td>\n",
                            "      <td>2149.479247</td>\n",
                            "      <td>0</td>\n",
                            "      <td>428.526382</td>\n",
                            "      <td>base</td>\n",
                            "      <td>sc</td>\n",
                            "      <td>well_Socha</td>\n",
                            "    </tr>\n",
                            "  </tbody>\n",
                            "</table>\n",
                            "</div>"
                        ],
                        "text/plain": [
                            "       oil_rate      oil_cum  iteration  oil_volume period scenario  \\\n",
                            "date                                                                  \n",
                            "0     22.961499     0.000000          0  640.950088   base       sc   \n",
                            "1     19.913143   640.950088          0  600.941599   base       sc   \n",
                            "2     17.579322  1201.883198          0  529.814439   base       sc   \n",
                            "3     15.735161  1700.578967          0  473.798024   base       sc   \n",
                            "4     14.241187  2149.479247          0  428.526382   base       sc   \n",
                            "\n",
                            "            well  \n",
                            "date              \n",
                            "0     well_Socha  \n",
                            "1     well_Socha  \n",
                            "2     well_Socha  \n",
                            "3     well_Socha  \n",
                            "4     well_Socha  "
                        ]
                    },
                    "metadata": {},
                    "execution_count": 29
                }
            ],
            "metadata": {}
        },
        {
            "cell_type": "code",
            "execution_count": 23,
            "source": [
                "c = gw.generate_cashflow(freq_output='M')\n",
                "\n",
                "print(len(c))"
            ],
            "outputs": [
                {
                    "output_type": "stream",
                    "name": "stdout",
                    "text": [
                        "100\n"
                    ]
                }
            ],
            "metadata": {}
        },
        {
            "cell_type": "code",
            "execution_count": 24,
            "source": [
                "npv_df = gw.npv(0,freq_cashflow='M')/1000\n",
                "\n",
                "sns.displot(npv_df['npv'], kde=True)"
            ],
            "outputs": [
                {
                    "output_type": "execute_result",
                    "data": {
                        "text/plain": [
                            "<seaborn.axisgrid.FacetGrid at 0x7f0568e3a550>"
                        ]
                    },
                    "metadata": {},
                    "execution_count": 24
                },
                {
                    "output_type": "display_data",
                    "data": {
                        "image/png": "[encoded data removed]",
                        "text/plain": [
                            "<Figure size 360x360 with 1 Axes>"
                        ]
                    },
                    "metadata": {
                        "needs_background": "light"
                    }
                }
            ],
            "metadata": {}
        },
        {
            "cell_type": "code",
            "execution_count": null,
            "source": [],
            "outputs": [],
            "metadata": {}
        }
    ],
    "metadata": {
        "orig_nbformat": 4,
        "language_info": {
            "name": "python",
            "version": "3.8.8",
            "mimetype": "text/x-python",
            "codemirror_mode": {
                "name": "ipython",
                "version": 3
            },
            "pygments_lexer": "ipython3",
            "nbconvert_exporter": "python",
            "file_extension": ".py"
        },
        "kernelspec": {
            "name": "python3",
            "display_name": "Python 3.8.8 64-bit ('dcapy': conda)"
        },
        "interpreter": {
            "hash": "ab24a4a540e2ae850f5bb40f3ff926fc8d1a219d7295b7cc8f5b0a1cbda21e76"
        }
    },
    "nbformat": 4,
    "nbformat_minor": 2
}