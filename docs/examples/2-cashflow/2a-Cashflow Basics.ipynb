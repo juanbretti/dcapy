{
 "cells": [
  {
   "cell_type": "markdown",
   "metadata": {},
   "source": [
    "# CashFlow Analysis\n",
    "\n",
    "Before talking the scheule capabilities, it is required to introduce the user with the CashFlow module. This Module allows you to create a series of cashflow woth the purpose of creating a CashFlow Model which can be used to analized the financial behavior of any forecast produced by `dcapy.dca` Module\n",
    "\n",
    "This module is inspired by [Python cashflows Package](https://github.com/jdvelasq/cashflows)"
   ]
  },
  {
   "cell_type": "code",
   "execution_count": 1,
   "metadata": {},
   "outputs": [],
   "source": [
    "from datetime import date \n",
    "from dcapy.cashflow import CashFlow\n",
    "import numpy as np\n",
    "import matplotlib.pyplot as plt\n",
    "import pandas as pd"
   ]
  },
  {
   "cell_type": "code",
   "execution_count": 2,
   "metadata": {},
   "outputs": [
    {
     "name": "stdout",
     "output_type": "stream",
     "text": [
      "name='Cashflow_zeros' const_value=0 start=datetime.date(2021, 1, 1) end=datetime.date(2021, 6, 1) periods=None freq_output=None freq_input=<FreqEnum.M: 'M'> chgpts=None\n",
      "2021-01    0.0\n",
      "2021-02    0.0\n",
      "2021-03    0.0\n",
      "2021-04    0.0\n",
      "2021-05    0.0\n",
      "2021-06    0.0\n",
      "Freq: M, dtype: float64\n"
     ]
    }
   ],
   "source": [
    "cash1 = CashFlow(\n",
    "    name = 'Cashflow_zeros',\n",
    "    start = date(2021,1,1),\n",
    "    end = date(2021,6,1),\n",
    "    freq_input = 'M'\n",
    ")\n",
    "print(cash1)\n",
    "print(cash1.get_cashflow())"
   ]
  },
  {
   "cell_type": "markdown",
   "metadata": {},
   "source": [
    "By default, if the cashflow has no value assignment, it creates an array of zeros. "
   ]
  },
  {
   "cell_type": "code",
   "execution_count": 3,
   "metadata": {},
   "outputs": [
    {
     "name": "stdout",
     "output_type": "stream",
     "text": [
      "name='Cashflow_cons_value' const_value=2000.0 start=datetime.date(2021, 1, 1) end=datetime.date(2021, 6, 1) periods=None freq_output=None freq_input=<FreqEnum.M: 'M'> chgpts=None\n",
      "2021-01    2000.0\n",
      "2021-02    2000.0\n",
      "2021-03    2000.0\n",
      "2021-04    2000.0\n",
      "2021-05    2000.0\n",
      "2021-06    2000.0\n",
      "Freq: M, dtype: float64\n"
     ]
    }
   ],
   "source": [
    "cash2 = CashFlow(\n",
    "    name = 'Cashflow_cons_value',\n",
    "    const_value= 2000,\n",
    "    start = date(2021,1,1),\n",
    "    end = date(2021,6,1),\n",
    "    freq_input = 'M'\n",
    ")\n",
    "print(cash2)\n",
    "print(cash2.get_cashflow())"
   ]
  },
  {
   "cell_type": "code",
   "execution_count": 4,
   "metadata": {},
   "outputs": [
    {
     "name": "stdout",
     "output_type": "stream",
     "text": [
      "name='Cashflow_different_values' const_value=[2000.0, 1500.0, 1252.0, 1458.0, 5869.0, 550.0] start=datetime.date(2021, 1, 1) end=datetime.date(2026, 1, 1) periods=None freq_output=None freq_input=<FreqEnum.A: 'A'> chgpts=None\n",
      "2021    2000.0\n",
      "2022    1500.0\n",
      "2023    1252.0\n",
      "2024    1458.0\n",
      "2025    5869.0\n",
      "2026     550.0\n",
      "Freq: A-DEC, dtype: float64\n"
     ]
    }
   ],
   "source": [
    "cash3 = CashFlow(\n",
    "    name = 'Cashflow_different_values',\n",
    "    const_value= [2000,1500,1252,1458,5869,550],\n",
    "    start = date(2021,1,1),\n",
    "    end = date(2026,1,1),\n",
    "    freq_input = 'A'\n",
    ")\n",
    "print(cash3)\n",
    "print(cash3.get_cashflow())"
   ]
  },
  {
   "cell_type": "markdown",
   "metadata": {},
   "source": [
    "## Get output cashflow on different time frequency"
   ]
  },
  {
   "cell_type": "code",
   "execution_count": 5,
   "metadata": {},
   "outputs": [
    {
     "name": "stdout",
     "output_type": "stream",
     "text": [
      "name='Cashflow_different_values' const_value=100.0 start=datetime.date(2021, 1, 1) end=datetime.date(2022, 12, 1) periods=None freq_output=None freq_input=<FreqEnum.M: 'M'> chgpts=None\n",
      "2021-01    100.0\n",
      "2021-02    100.0\n",
      "2021-03    100.0\n",
      "2021-04    100.0\n",
      "2021-05    100.0\n",
      "2021-06    100.0\n",
      "2021-07    100.0\n",
      "2021-08    100.0\n",
      "2021-09    100.0\n",
      "2021-10    100.0\n",
      "2021-11    100.0\n",
      "2021-12    100.0\n",
      "2022-01    100.0\n",
      "2022-02    100.0\n",
      "2022-03    100.0\n",
      "2022-04    100.0\n",
      "2022-05    100.0\n",
      "2022-06    100.0\n",
      "2022-07    100.0\n",
      "2022-08    100.0\n",
      "2022-09    100.0\n",
      "2022-10    100.0\n",
      "2022-11    100.0\n",
      "2022-12    100.0\n",
      "Freq: M, dtype: float64\n"
     ]
    }
   ],
   "source": [
    "cash3 = CashFlow(\n",
    "    name = 'Cashflow_different_values',\n",
    "    const_value= 100,\n",
    "    start = date(2021,1,1),\n",
    "    end = date(2022,12,1),\n",
    "    freq_input = 'M'\n",
    ")\n",
    "print(cash3)\n",
    "print(cash3.get_cashflow())"
   ]
  },
  {
   "cell_type": "code",
   "execution_count": 6,
   "metadata": {},
   "outputs": [
    {
     "name": "stdout",
     "output_type": "stream",
     "text": [
      "2021    1200.0\n",
      "2022    1200.0\n",
      "Freq: A-DEC, dtype: float64\n"
     ]
    }
   ],
   "source": [
    "print(cash3.get_cashflow(freq_output='A'))"
   ]
  },
  {
   "cell_type": "code",
   "execution_count": 7,
   "metadata": {},
   "outputs": [
    {
     "name": "stdout",
     "output_type": "stream",
     "text": [
      "name='Cashflow_different_values' const_value=100.0 start=0 end=47 periods=None freq_output=None freq_input=<FreqEnum.M: 'M'> chgpts=None\n",
      "0.0    1200.0\n",
      "1.0    1200.0\n",
      "2.0    1200.0\n",
      "3.0    1200.0\n",
      "dtype: float64\n"
     ]
    }
   ],
   "source": [
    "cash3a = CashFlow(\n",
    "    name = 'Cashflow_different_values',\n",
    "    const_value= 100,\n",
    "    start = 0,\n",
    "    end = 47,\n",
    "    periods=None,\n",
    "    freq_input = 'M'\n",
    ")\n",
    "print(cash3a)\n",
    "print(cash3a.get_cashflow(freq_output='A'))"
   ]
  },
  {
   "cell_type": "markdown",
   "metadata": {},
   "source": [
    "## Define Number of periods of the cashflow"
   ]
  },
  {
   "cell_type": "code",
   "execution_count": 8,
   "metadata": {},
   "outputs": [
    {
     "name": "stdout",
     "output_type": "stream",
     "text": [
      "name='Cashflow_different_values' const_value=10000.0 start=datetime.date(2021, 1, 1) end=datetime.date(2022, 12, 1) periods=6 freq_output=None freq_input=<FreqEnum.M: 'M'> chgpts=None\n",
      "2021-01    10000.0\n",
      "2021-02    10000.0\n",
      "2021-03    10000.0\n",
      "2021-04    10000.0\n",
      "2021-05    10000.0\n",
      "2021-06    10000.0\n",
      "Freq: M, dtype: float64\n"
     ]
    }
   ],
   "source": [
    "cash4 = CashFlow(\n",
    "    name = 'Cashflow_different_values',\n",
    "    const_value= 10000,\n",
    "    periods = 6,\n",
    "    start = date(2021,1,1),\n",
    "    end = date(2022,12,1),\n",
    "    freq_input = 'M'\n",
    ")\n",
    "print(cash4)\n",
    "print(cash4.get_cashflow())"
   ]
  },
  {
   "cell_type": "code",
   "execution_count": 9,
   "metadata": {},
   "outputs": [],
   "source": [
    "### Set to the last period"
   ]
  },
  {
   "cell_type": "code",
   "execution_count": 10,
   "metadata": {},
   "outputs": [
    {
     "name": "stdout",
     "output_type": "stream",
     "text": [
      "name='Cashflow_different_values' const_value=-10000.0 start=datetime.date(2021, 1, 1) end=datetime.date(2022, 12, 1) periods=-1 freq_output=None freq_input=<FreqEnum.M: 'M'> chgpts=None\n",
      "2022-12   -10000.0\n",
      "Freq: M, dtype: float64\n"
     ]
    }
   ],
   "source": [
    "cash5 = CashFlow(\n",
    "    name = 'Cashflow_different_values',\n",
    "    const_value= -10000,\n",
    "    periods = -1,\n",
    "    start = date(2021,1,1),\n",
    "    end = date(2022,12,1),\n",
    "    freq_input = 'M'\n",
    ")\n",
    "print(cash5)\n",
    "print(cash5.get_cashflow())"
   ]
  },
  {
   "cell_type": "markdown",
   "metadata": {},
   "source": [
    "### Set custom cashflow throgh time\n",
    "\n",
    "by setting the `chgpts` parameter as a dictionary with date and value keys, you can make a custom cashflow to certain dates"
   ]
  },
  {
   "cell_type": "code",
   "execution_count": 11,
   "metadata": {},
   "outputs": [
    {
     "name": "stdout",
     "output_type": "stream",
     "text": [
      "name='Cashflow_different_values' const_value=0 start=datetime.date(2021, 1, 1) end=datetime.date(2021, 12, 1) periods=None freq_output=None freq_input=<FreqEnum.M: 'M'> chgpts=ChgPts(date=[datetime.date(2021, 3, 1), datetime.date(2021, 7, 1), datetime.date(2021, 12, 1)], value=[-500.0, -600.0, -700.0])\n",
      "2021-01      0.0\n",
      "2021-02      0.0\n",
      "2021-03   -500.0\n",
      "2021-04      0.0\n",
      "2021-05      0.0\n",
      "2021-06      0.0\n",
      "2021-07   -600.0\n",
      "2021-08      0.0\n",
      "2021-09      0.0\n",
      "2021-10      0.0\n",
      "2021-11      0.0\n",
      "2021-12   -700.0\n",
      "Freq: M, dtype: float64\n"
     ]
    }
   ],
   "source": [
    "cash6 = CashFlow(\n",
    "    name = 'Cashflow_different_values',\n",
    "    start = date(2021,1,1),\n",
    "    end = date(2021,12,1),\n",
    "    freq_input = 'M',\n",
    "    chgpts = {\n",
    "        'date': ['2021-03-01','2021-07-01', '2021-12-01'],\n",
    "        'value': [-500,-600,-700]\n",
    "    }\n",
    ")\n",
    "print(cash6)\n",
    "print(cash6.get_cashflow())"
   ]
  },
  {
   "cell_type": "markdown",
   "metadata": {},
   "source": [
    "Create a cashflow from a `pd.Series`"
   ]
  },
  {
   "cell_type": "code",
   "execution_count": 12,
   "metadata": {},
   "outputs": [
    {
     "data": {
      "text/plain": [
       "2021-01-01    1000\n",
       "2021-02-01    2000\n",
       "2021-03-01    3000\n",
       "Freq: MS, Name: Cashflow_different_values, dtype: int64"
      ]
     },
     "execution_count": 12,
     "metadata": {},
     "output_type": "execute_result"
    }
   ],
   "source": [
    "period = pd.period_range(start='2021-01-01', end='2021-03-01', freq='M').to_timestamp()\n",
    "sr = pd.Series([1000,2000,3000], index=period, name='Cashflow_different_values')\n",
    "sr"
   ]
  },
  {
   "cell_type": "code",
   "execution_count": 13,
   "metadata": {},
   "outputs": [
    {
     "data": {
      "text/plain": [
       "CashFlow(name='Cashflow_different_values', const_value=[1000.0, 2000.0, 3000.0], start=datetime.date(2021, 1, 1), end=datetime.date(2021, 3, 1), periods=None, freq_output=None, freq_input=<FreqEnum.M: 'M'>, chgpts=None)"
      ]
     },
     "execution_count": 13,
     "metadata": {},
     "output_type": "execute_result"
    }
   ],
   "source": [
    "csh_from_sr = CashFlow.from_series(sr)\n",
    "csh_from_sr"
   ]
  },
  {
   "cell_type": "markdown",
   "metadata": {},
   "source": [
    "# CashFlow Models\n",
    "\n",
    "The `CashFlow` class is very useful when combined in a full CashFlow Model to incorporate income, opex and capex and evaluate the capital efficiency on a Free Cash Flow.\n",
    "\n",
    "Let's create some cashflows that represent those items."
   ]
  },
  {
   "cell_type": "code",
   "execution_count": 14,
   "metadata": {},
   "outputs": [],
   "source": [
    "oil_sell = CashFlow(\n",
    "    name = 'oil_sell',\n",
    "    const_value= [60000,58000,55000,62000,65000,64000,60000,58000,55000,62000,65000,64000],\n",
    "    start = date(2021,1,1),\n",
    "    end = date(2021,12,1),\n",
    "    freq_input = 'M'\n",
    ")\n",
    "\n",
    "gas_sell = CashFlow(\n",
    "    name = 'gas_sell',\n",
    "    const_value= [36000,34000,30000,34000,28000,31000,36000,34000,30000,34000,28000,31000],\n",
    "    start = date(2021,1,1),\n",
    "    end = date(2021,12,1),\n",
    "    freq_input = 'M'\n",
    ")\n",
    "\n",
    "gas_sell = CashFlow(\n",
    "    name = 'gas_sell',\n",
    "    const_value= [36000,34000,30000,34000,28000,31000,36000,34000,30000,34000,28000,31000],\n",
    "    start = date(2021,1,1),\n",
    "    end = date(2021,12,1),\n",
    "    freq_input = 'M'\n",
    ")\n",
    "\n",
    "opex = CashFlow(\n",
    "    name = 'cost',\n",
    "    const_value= -30000,\n",
    "    start = date(2021,1,1),\n",
    "    end = date(2021,12,1),\n",
    "    freq_input = 'M'\n",
    ")\n",
    "\n",
    "capex_init = CashFlow(\n",
    "    name = 'capex_initial',\n",
    "    const_value= -250000,\n",
    "    periods = 1,\n",
    "    start = date(2021,1,1),\n",
    "    end = date(2021,12,1),\n",
    "    freq_input = 'M'\n",
    ")\n",
    "\n",
    "capex_final = CashFlow(\n",
    "    name = 'capex_initial',\n",
    "    const_value= -80000,\n",
    "    periods = -1,\n",
    "    start = date(2021,1,1),\n",
    "    end = date(2021,12,1),\n",
    "    freq_input = 'M'\n",
    ")\n",
    "\n"
   ]
  },
  {
   "cell_type": "markdown",
   "metadata": {},
   "source": [
    "## Create a CashFlow Model "
   ]
  },
  {
   "cell_type": "code",
   "execution_count": 15,
   "metadata": {},
   "outputs": [],
   "source": [
    "from dcapy.cashflow import CashFlowModel"
   ]
  },
  {
   "cell_type": "code",
   "execution_count": 16,
   "metadata": {},
   "outputs": [
    {
     "name": "stdout",
     "output_type": "stream",
     "text": [
      "name='Example Cashflow Model' income=[CashFlow(name='oil_sell', const_value=[60000.0, 58000.0, 55000.0, 62000.0, 65000.0, 64000.0, 60000.0, 58000.0, 55000.0, 62000.0, 65000.0, 64000.0], start=datetime.date(2021, 1, 1), end=datetime.date(2021, 12, 1), periods=None, freq_output=None, freq_input=<FreqEnum.M: 'M'>, chgpts=None), CashFlow(name='gas_sell', const_value=[36000.0, 34000.0, 30000.0, 34000.0, 28000.0, 31000.0, 36000.0, 34000.0, 30000.0, 34000.0, 28000.0, 31000.0], start=datetime.date(2021, 1, 1), end=datetime.date(2021, 12, 1), periods=None, freq_output=None, freq_input=<FreqEnum.M: 'M'>, chgpts=None)] opex=[CashFlow(name='cost', const_value=-30000.0, start=datetime.date(2021, 1, 1), end=datetime.date(2021, 12, 1), periods=None, freq_output=None, freq_input=<FreqEnum.M: 'M'>, chgpts=None)] capex=[CashFlow(name='capex_initial', const_value=-250000.0, start=datetime.date(2021, 1, 1), end=datetime.date(2021, 12, 1), periods=1, freq_output=None, freq_input=<FreqEnum.M: 'M'>, chgpts=None), CashFlow(name='capex_initial', const_value=-80000.0, start=datetime.date(2021, 1, 1), end=datetime.date(2021, 12, 1), periods=-1, freq_output=None, freq_input=<FreqEnum.M: 'M'>, chgpts=None)]\n"
     ]
    }
   ],
   "source": [
    "cm = CashFlowModel(\n",
    "    name = 'Example Cashflow Model',\n",
    "    income=[oil_sell, gas_sell],\n",
    "    opex=[opex],\n",
    "    capex=[capex_init,capex_final]\n",
    ")\n",
    "\n",
    "print(cm)"
   ]
  },
  {
   "cell_type": "markdown",
   "metadata": {},
   "source": [
    "Create the Free Cash Flow"
   ]
  },
  {
   "cell_type": "code",
   "execution_count": 17,
   "metadata": {},
   "outputs": [
    {
     "name": "stdout",
     "output_type": "stream",
     "text": [
      "         oil_sell  gas_sell  total_income     cost  total_opex  capex_initial  \\\n",
      "2021-01   60000.0   36000.0       96000.0 -30000.0    -30000.0      -250000.0   \n",
      "2021-02   58000.0   34000.0       92000.0 -30000.0    -30000.0            0.0   \n",
      "2021-03   55000.0   30000.0       85000.0 -30000.0    -30000.0            0.0   \n",
      "2021-04   62000.0   34000.0       96000.0 -30000.0    -30000.0            0.0   \n",
      "2021-05   65000.0   28000.0       93000.0 -30000.0    -30000.0            0.0   \n",
      "2021-06   64000.0   31000.0       95000.0 -30000.0    -30000.0            0.0   \n",
      "2021-07   60000.0   36000.0       96000.0 -30000.0    -30000.0            0.0   \n",
      "2021-08   58000.0   34000.0       92000.0 -30000.0    -30000.0            0.0   \n",
      "2021-09   55000.0   30000.0       85000.0 -30000.0    -30000.0            0.0   \n",
      "2021-10   62000.0   34000.0       96000.0 -30000.0    -30000.0            0.0   \n",
      "2021-11   65000.0   28000.0       93000.0 -30000.0    -30000.0            0.0   \n",
      "2021-12   64000.0   31000.0       95000.0 -30000.0    -30000.0            0.0   \n",
      "\n",
      "         capex_initial  total_capex       fcf   cum_fcf  \n",
      "2021-01            0.0    -250000.0 -184000.0 -184000.0  \n",
      "2021-02            0.0          0.0   62000.0 -122000.0  \n",
      "2021-03            0.0          0.0   55000.0  -67000.0  \n",
      "2021-04            0.0          0.0   66000.0   -1000.0  \n",
      "2021-05            0.0          0.0   63000.0   62000.0  \n",
      "2021-06            0.0          0.0   65000.0  127000.0  \n",
      "2021-07            0.0          0.0   66000.0  193000.0  \n",
      "2021-08            0.0          0.0   62000.0  255000.0  \n",
      "2021-09            0.0          0.0   55000.0  310000.0  \n",
      "2021-10            0.0          0.0   66000.0  376000.0  \n",
      "2021-11            0.0          0.0   63000.0  439000.0  \n",
      "2021-12       -80000.0     -80000.0  -15000.0  424000.0  \n"
     ]
    }
   ],
   "source": [
    "print(cm.fcf())"
   ]
  },
  {
   "cell_type": "markdown",
   "metadata": {},
   "source": [
    "## Estimate The IRR and NPV"
   ]
  },
  {
   "cell_type": "code",
   "execution_count": 18,
   "metadata": {},
   "outputs": [
    {
     "name": "stdout",
     "output_type": "stream",
     "text": [
      "IRR 0.31\n"
     ]
    }
   ],
   "source": [
    "irr = cm.irr()\n",
    "\n",
    "print(f'IRR {round(irr,2)}')"
   ]
  },
  {
   "cell_type": "markdown",
   "metadata": {},
   "source": [
    "Define annual rates of 0, 5, 10 and 15%. Convert them to montly basis and call the `nvp method`"
   ]
  },
  {
   "cell_type": "code",
   "execution_count": 19,
   "metadata": {},
   "outputs": [
    {
     "name": "stdout",
     "output_type": "stream",
     "text": [
      "[0.         0.03436608 0.00797414 0.01171492]\n"
     ]
    }
   ],
   "source": [
    "annual_rates = np.array([0,0.5,0.1,0.15])\n",
    "monthly_rates = np.power(1 + annual_rates,(1/12)) - 1\n",
    "print(monthly_rates)"
   ]
  },
  {
   "cell_type": "code",
   "execution_count": 20,
   "metadata": {},
   "outputs": [
    {
     "name": "stdout",
     "output_type": "stream",
     "text": [
      "                    npv\n",
      "0.000000  424000.000000\n",
      "0.034366  325004.808220\n",
      "0.007974  398668.970497\n",
      "0.011715  387312.164217\n"
     ]
    }
   ],
   "source": [
    "cashflow_npv = cm.npv(monthly_rates)\n",
    "\n",
    "print(cashflow_npv)"
   ]
  },
  {
   "cell_type": "markdown",
   "metadata": {},
   "source": [
    "## Plot The cashflow"
   ]
  },
  {
   "cell_type": "code",
   "execution_count": 21,
   "metadata": {},
   "outputs": [
    {
     "name": "stderr",
     "output_type": "stream",
     "text": [
      "/Users/scuervo91/Documents/dev/dcapy/dcapy/cashflow/cashflow.py:368: UserWarning: FixedFormatter should only be used together with FixedLocator\n",
      "  grax.set_yticklabels([fmt.format(i/format_dict[format]['factor']) for i in ticks])\n",
      "/Users/scuervo91/Documents/dev/dcapy/dcapy/cashflow/cashflow.py:368: UserWarning: FixedFormatter should only be used together with FixedLocator\n",
      "  grax.set_yticklabels([fmt.format(i/format_dict[format]['factor']) for i in ticks])\n",
      "/Users/scuervo91/Documents/dev/dcapy/dcapy/cashflow/cashflow.py:376: UserWarning: FixedFormatter should only be used together with FixedLocator\n",
      "  spax.set_yticklabels([fmt.format(i/format_dict[format]['factor']) for i in ticks_cum])\n",
      "/Users/scuervo91/Documents/dev/dcapy/dcapy/cashflow/cashflow.py:368: UserWarning: FixedFormatter should only be used together with FixedLocator\n",
      "  grax.set_yticklabels([fmt.format(i/format_dict[format]['factor']) for i in ticks])\n",
      "/Users/scuervo91/Documents/dev/dcapy/dcapy/cashflow/cashflow.py:368: UserWarning: FixedFormatter should only be used together with FixedLocator\n",
      "  grax.set_yticklabels([fmt.format(i/format_dict[format]['factor']) for i in ticks])\n"
     ]
    },
    {
     "data": {
      "image/png": "[encoded data removed]",
      "text/plain": [
       "<Figure size 1440x720 with 5 Axes>"
      ]
     },
     "metadata": {
      "needs_background": "light"
     },
     "output_type": "display_data"
    }
   ],
   "source": [
    "fig, ax = plt.subplots(2,2,figsize=(20,10))\n",
    "\n",
    "cm.plot(ax=ax[0,0])\n",
    "cm.plot(ax=ax[0,1], cum=True)\n",
    "cm.plot(ax=ax[1,0], format='m')\n",
    "cm.plot(ax=ax[1,1], bar_kw={'palette': {\n",
    "            'income':'darkgreen',\n",
    "            'opex':'blue',\n",
    "            'capex':'darkred',\n",
    "            'fcf':'black'\n",
    "        }})"
   ]
  },
  {
   "cell_type": "code",
   "execution_count": 22,
   "metadata": {},
   "outputs": [
    {
     "name": "stderr",
     "output_type": "stream",
     "text": [
      "/Users/scuervo91/Documents/dev/dcapy/dcapy/cashflow/cashflow.py:368: UserWarning: FixedFormatter should only be used together with FixedLocator\n",
      "  grax.set_yticklabels([fmt.format(i/format_dict[format]['factor']) for i in ticks])\n"
     ]
    },
    {
     "data": {
      "image/png": "[encoded data removed]",
      "text/plain": [
       "<Figure size 432x288 with 1 Axes>"
      ]
     },
     "metadata": {
      "needs_background": "light"
     },
     "output_type": "display_data"
    }
   ],
   "source": [
    "cm.plot(\n",
    "    bar_kw={\n",
    "        'palette': {\n",
    "            'income':'darkgreen',\n",
    "            'opex':'blue',\n",
    "            'capex':'darkred',\n",
    "            'fcf':'black'\n",
    "        }\n",
    "    }\n",
    ")"
   ]
  },
  {
   "cell_type": "code",
   "execution_count": null,
   "metadata": {},
   "outputs": [],
   "source": []
  }
 ],
 "metadata": {
  "kernelspec": {
   "display_name": "Python 3.8.12 ('dcapy')",
   "language": "python",
   "name": "python3"
  },
  "language_info": {
   "codemirror_mode": {
    "name": "ipython",
    "version": 3
   },
   "file_extension": ".py",
   "mimetype": "text/x-python",
   "name": "python",
   "nbconvert_exporter": "python",
   "pygments_lexer": "ipython3",
   "version": "3.8.12"
  },
  "metadata": {
   "interpreter": {
    "hash": "607220d9aa50002d928e15b68ce75e93a4d790d4e944ca3137991ee1264619da"
   }
  },
  "vscode": {
   "interpreter": {
    "hash": "fbae2ff2656eb3767e6550055ecea61968114734bacb1aedc78eccd3295b17a4"
   }
  }
 },
 "nbformat": 4,
 "nbformat_minor": 2
}
